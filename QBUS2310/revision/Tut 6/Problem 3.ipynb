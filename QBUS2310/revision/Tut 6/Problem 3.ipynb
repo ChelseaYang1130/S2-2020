{
 "cells": [
  {
   "cell_type": "code",
   "execution_count": 1,
   "metadata": {},
   "outputs": [],
   "source": [
    "import gurobi as grb"
   ]
  },
  {
   "cell_type": "code",
   "execution_count": 2,
   "metadata": {},
   "outputs": [
    {
     "name": "stdout",
     "output_type": "stream",
     "text": [
      "Using license file /Users/chelseayeung/gurobi.lic\n",
      "Academic license - for non-commercial use only\n"
     ]
    }
   ],
   "source": [
    "A = grb.Model('P3Q4')"
   ]
  },
  {
   "cell_type": "code",
   "execution_count": 3,
   "metadata": {},
   "outputs": [],
   "source": [
    "city = [1,2,3,4,5,6,7]\n",
    "cost = [[999,5,13,999,56,999,105],\n",
    "       [999,999,27,19,50,999,95],\n",
    "       [999,999,999,14,30,32,999],\n",
    "       [999,999,14,999,35,24,999],\n",
    "       [999,999,999,35,999,18,25],\n",
    "       [999,999,999,24,18,999,17],\n",
    "       [999,999,999,999,999,999,999]]"
   ]
  },
  {
   "cell_type": "code",
   "execution_count": 4,
   "metadata": {},
   "outputs": [],
   "source": [
    "X = A.addVars(city,city,obj=cost,vtype=grb.GRB.BINARY)"
   ]
  },
  {
   "cell_type": "code",
   "execution_count": 5,
   "metadata": {},
   "outputs": [
    {
     "data": {
      "text/plain": [
       "<gurobi.Constr *Awaiting Model Update*>"
      ]
     },
     "execution_count": 5,
     "metadata": {},
     "output_type": "execute_result"
    }
   ],
   "source": [
    "A.addConstr(-X[(1,2)]-X[(1,3)]-X[(1,5)]-X[(1,7)]==-1)\n",
    "A.addConstr(X[(1,2)]-X[(2,3)]-X[(2,4)]-X[(2,5)]-X[(2,7)]==0)\n",
    "A.addConstr(X[(1,3)]+X[(2,3)]-X[(3,4)]-X[(3,5)]-X[(3,6)]==0)\n",
    "A.addConstr(X[(2,4)]+X[(3,4)]-X[(4,3)]-X[(4,5)]-X[(4,6)]==0)\n",
    "A.addConstr(X[(1,5)]+X[(2,5)]+X[(3,5)]+X[(4,5)]-X[(5,4)]-X[(5,6)]-X[(5,7)]==0)\n",
    "A.addConstr(X[(3,6)]+X[(4,6)]+X[(5,6)]-X[(6,4)]-X[(6,5)]-X[(6,7)]==0)\n",
    "A.addConstr(X[(1,7)]+X[(2,7)]+X[(5,7)]+X[(6,7)]==1)"
   ]
  },
  {
   "cell_type": "code",
   "execution_count": 6,
   "metadata": {},
   "outputs": [],
   "source": [
    "A.ModelSense = grb.GRB.MINIMIZE"
   ]
  },
  {
   "cell_type": "code",
   "execution_count": 7,
   "metadata": {},
   "outputs": [
    {
     "name": "stdout",
     "output_type": "stream",
     "text": [
      "Gurobi Optimizer version 9.0.3 build v9.0.3rc0 (mac64)\n",
      "Optimize a model with 7 rows, 49 columns and 36 nonzeros\n",
      "Model fingerprint: 0x2c5ef781\n",
      "Variable types: 0 continuous, 49 integer (49 binary)\n",
      "Coefficient statistics:\n",
      "  Matrix range     [1e+00, 1e+00]\n",
      "  Objective range  [5e+00, 1e+03]\n",
      "  Bounds range     [1e+00, 1e+00]\n",
      "  RHS range        [1e+00, 1e+00]\n",
      "Found heuristic solution: objective 105.0000000\n",
      "Presolve removed 7 rows and 49 columns\n",
      "Presolve time: 0.00s\n",
      "Presolve: All rows and columns removed\n",
      "\n",
      "Explored 0 nodes (0 simplex iterations) in 0.01 seconds\n",
      "Thread count was 1 (of 8 available processors)\n",
      "\n",
      "Solution count 2: 62 \n",
      "\n",
      "Optimal solution found (tolerance 1.00e-04)\n",
      "Best objective 6.200000000000e+01, best bound 6.200000000000e+01, gap 0.0000%\n"
     ]
    }
   ],
   "source": [
    "A.optimize()"
   ]
  },
  {
   "cell_type": "code",
   "execution_count": 8,
   "metadata": {},
   "outputs": [],
   "source": [
    "A.write('P3Q4.lp')"
   ]
  },
  {
   "cell_type": "code",
   "execution_count": 9,
   "metadata": {},
   "outputs": [
    {
     "name": "stdout",
     "output_type": "stream",
     "text": [
      "X(1,3)=1.0\n",
      "X(3,6)=1.0\n",
      "X(6,7)=1.0\n",
      "Cost = 62.0\n"
     ]
    }
   ],
   "source": [
    "for (i,j) in X:\n",
    "    if X[(i,j)].x!=0:\n",
    "        print(\"X({},{})={}\".format(i,j,X[(i,j)].x))\n",
    "print(\"Cost = {}\".format(A.ObjVal))"
   ]
  },
  {
   "cell_type": "code",
   "execution_count": null,
   "metadata": {},
   "outputs": [],
   "source": []
  }
 ],
 "metadata": {
  "kernelspec": {
   "display_name": "Python 3",
   "language": "python",
   "name": "python3"
  },
  "language_info": {
   "codemirror_mode": {
    "name": "ipython",
    "version": 3
   },
   "file_extension": ".py",
   "mimetype": "text/x-python",
   "name": "python",
   "nbconvert_exporter": "python",
   "pygments_lexer": "ipython3",
   "version": "3.7.6"
  }
 },
 "nbformat": 4,
 "nbformat_minor": 4
}
