{
 "cells": [
  {
   "cell_type": "code",
   "execution_count": 16,
   "metadata": {},
   "outputs": [],
   "source": [
    "import gurobi as grb"
   ]
  },
  {
   "cell_type": "code",
   "execution_count": 30,
   "metadata": {},
   "outputs": [],
   "source": [
    "A = grb.Model('P4')"
   ]
  },
  {
   "cell_type": "code",
   "execution_count": 31,
   "metadata": {},
   "outputs": [],
   "source": [
    "cost = [[999,12,8,15,999],\n",
    "       [999,999,9,999,16],\n",
    "       [999,999,999,6,7],\n",
    "       [999,999,999,999,999],\n",
    "       [999,999,999,12,999]]\n",
    "loc = [1,2,3,4,5]"
   ]
  },
  {
   "cell_type": "code",
   "execution_count": 32,
   "metadata": {},
   "outputs": [],
   "source": [
    "X = A.addVars(loc,loc,obj=cost,name=\"X\",vtype=grb.GRB.INTEGER)"
   ]
  },
  {
   "cell_type": "code",
   "execution_count": 33,
   "metadata": {},
   "outputs": [],
   "source": [
    "for i in loc:\n",
    "    for j in loc:\n",
    "        A.addConstr(X[(i,j)]<=10)"
   ]
  },
  {
   "cell_type": "code",
   "execution_count": 34,
   "metadata": {},
   "outputs": [
    {
     "data": {
      "text/plain": [
       "<gurobi.Constr *Awaiting Model Update*>"
      ]
     },
     "execution_count": 34,
     "metadata": {},
     "output_type": "execute_result"
    }
   ],
   "source": [
    "A.addConstr(-X[(1,2)]-X[(1,3)]-X[(1,4)]==-15)\n",
    "A.addConstr(X[(1,2)]-X[(2,3)]-X[(2,5)]==-15)\n",
    "A.addConstr(X[(1,3)]+X[(2,3)]-X[(3,4)]-X[(3,5)]==0)\n",
    "A.addConstr(X[(1,4)]+X[(3,4)]+X[(5,4)]==20)\n",
    "A.addConstr(X[(2,5)]+X[(3,5)]-X[(5,4)]==10)"
   ]
  },
  {
   "cell_type": "code",
   "execution_count": 35,
   "metadata": {},
   "outputs": [],
   "source": [
    "A.write('P4.lp')"
   ]
  },
  {
   "cell_type": "code",
   "execution_count": 37,
   "metadata": {},
   "outputs": [],
   "source": [
    "A.ModelSense = grb.GRB.MINIMIZE"
   ]
  },
  {
   "cell_type": "code",
   "execution_count": 38,
   "metadata": {},
   "outputs": [
    {
     "name": "stdout",
     "output_type": "stream",
     "text": [
      "Gurobi Optimizer version 9.0.3 build v9.0.3rc0 (mac64)\n",
      "Optimize a model with 30 rows, 25 columns and 41 nonzeros\n",
      "Model fingerprint: 0xedf93e1f\n",
      "Variable types: 0 continuous, 25 integer (0 binary)\n",
      "Coefficient statistics:\n",
      "  Matrix range     [1e+00, 1e+00]\n",
      "  Objective range  [6e+00, 1e+03]\n",
      "  Bounds range     [0e+00, 0e+00]\n",
      "  RHS range        [1e+01, 2e+01]\n",
      "\n",
      "Loaded MIP start from previous solve with objective 1e+100\n",
      "\n",
      "Presolve removed 30 rows and 25 columns\n",
      "Presolve time: 0.00s\n",
      "Presolve: All rows and columns removed\n",
      "\n",
      "Explored 0 nodes (0 simplex iterations) in 0.01 seconds\n",
      "Thread count was 1 (of 8 available processors)\n",
      "\n",
      "Solution count 2: 455 \n",
      "\n",
      "Optimal solution found (tolerance 1.00e-04)\n",
      "Best objective 4.550000000000e+02, best bound 4.550000000000e+02, gap 0.0000%\n"
     ]
    }
   ],
   "source": [
    "A.optimize()"
   ]
  },
  {
   "cell_type": "code",
   "execution_count": 40,
   "metadata": {},
   "outputs": [
    {
     "name": "stdout",
     "output_type": "stream",
     "text": [
      "X(1,3)=5.0\n",
      "X(1,4)=10.0\n",
      "X(2,3)=5.0\n",
      "X(2,5)=10.0\n",
      "X(3,4)=10.0\n",
      "Minimum cost is $455.0.\n"
     ]
    }
   ],
   "source": [
    "for i in loc:\n",
    "    for j in loc:\n",
    "        if X[(i,j)].x!=0:\n",
    "            print(\"X({},{})={}\".format(i,j,X[(i,j)].x))\n",
    "        \n",
    "print(\"Minimum cost is ${}.\".format(A.ObjVal))"
   ]
  },
  {
   "cell_type": "code",
   "execution_count": null,
   "metadata": {},
   "outputs": [],
   "source": []
  }
 ],
 "metadata": {
  "kernelspec": {
   "display_name": "Python 3",
   "language": "python",
   "name": "python3"
  },
  "language_info": {
   "codemirror_mode": {
    "name": "ipython",
    "version": 3
   },
   "file_extension": ".py",
   "mimetype": "text/x-python",
   "name": "python",
   "nbconvert_exporter": "python",
   "pygments_lexer": "ipython3",
   "version": "3.7.6"
  }
 },
 "nbformat": 4,
 "nbformat_minor": 4
}
