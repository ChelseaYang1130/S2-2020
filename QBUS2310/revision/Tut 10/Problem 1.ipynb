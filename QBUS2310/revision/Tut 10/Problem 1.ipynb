{
 "cells": [
  {
   "cell_type": "code",
   "execution_count": 31,
   "metadata": {},
   "outputs": [],
   "source": [
    "import gurobi as grb"
   ]
  },
  {
   "cell_type": "code",
   "execution_count": 32,
   "metadata": {},
   "outputs": [],
   "source": [
    "A1 = grb.Model('P1')"
   ]
  },
  {
   "cell_type": "code",
   "execution_count": 33,
   "metadata": {},
   "outputs": [],
   "source": [
    "activity = [\"A\",\"B\",\"C\",\"D\",\"E\",\"F\"]\n",
    "X1 = A1.addVars(activity, name=\"X\",vtype=grb.GRB.INTEGER)"
   ]
  },
  {
   "cell_type": "code",
   "execution_count": 34,
   "metadata": {},
   "outputs": [
    {
     "data": {
      "text/plain": [
       "<gurobi.Constr *Awaiting Model Update*>"
      ]
     },
     "execution_count": 34,
     "metadata": {},
     "output_type": "execute_result"
    }
   ],
   "source": [
    "A1.addConstr(X1['A']>=3)\n",
    "A1.addConstr(X1['B']-X1['A']>=2)\n",
    "A1.addConstr(X1['C']-X1['A']>=5)\n",
    "A1.addConstr(X1['D']-X1['B']>=8)\n",
    "A1.addConstr(X1['D']-X1['C']>=8)\n",
    "A1.addConstr(X1['E']-X1['B']>=4)\n",
    "A1.addConstr(X1['E']-X1['C']>=4)\n",
    "A1.addConstr(X1['F']-X1['E']>=2)\n",
    "A1.addConstr(X1['F']-X1['D']>=2)"
   ]
  },
  {
   "cell_type": "code",
   "execution_count": 35,
   "metadata": {},
   "outputs": [],
   "source": [
    "A1.setObjective(X1['F'],grb.GRB.MINIMIZE)"
   ]
  },
  {
   "cell_type": "code",
   "execution_count": 36,
   "metadata": {},
   "outputs": [],
   "source": [
    "A1.write('P1.lp')"
   ]
  },
  {
   "cell_type": "code",
   "execution_count": 37,
   "metadata": {},
   "outputs": [
    {
     "name": "stdout",
     "output_type": "stream",
     "text": [
      "Gurobi Optimizer version 9.0.3 build v9.0.3rc0 (mac64)\n",
      "Optimize a model with 9 rows, 6 columns and 17 nonzeros\n",
      "Model fingerprint: 0x8c1a3fa6\n",
      "Variable types: 0 continuous, 6 integer (0 binary)\n",
      "Coefficient statistics:\n",
      "  Matrix range     [1e+00, 1e+00]\n",
      "  Objective range  [1e+00, 1e+00]\n",
      "  Bounds range     [0e+00, 0e+00]\n",
      "  RHS range        [2e+00, 8e+00]\n",
      "Presolve removed 9 rows and 6 columns\n",
      "Presolve time: 0.00s\n",
      "Presolve: All rows and columns removed\n",
      "\n",
      "Explored 0 nodes (0 simplex iterations) in 0.01 seconds\n",
      "Thread count was 1 (of 8 available processors)\n",
      "\n",
      "Solution count 1: 18 \n",
      "\n",
      "Optimal solution found (tolerance 1.00e-04)\n",
      "Best objective 1.800000000000e+01, best bound 1.800000000000e+01, gap 0.0000%\n"
     ]
    }
   ],
   "source": [
    "A1.optimize()"
   ]
  },
  {
   "cell_type": "code",
   "execution_count": 39,
   "metadata": {},
   "outputs": [
    {
     "name": "stdout",
     "output_type": "stream",
     "text": [
      "Activity A finishes at 3.0.\n",
      "Activity B finishes at 5.0.\n",
      "Activity C finishes at 8.0.\n",
      "Activity D finishes at 16.0.\n",
      "Activity E finishes at 12.0.\n",
      "Activity F finishes at 18.0.\n"
     ]
    }
   ],
   "source": [
    "for i in X1:\n",
    "    print(\"Activity {} finishes at {}.\".format(i,X1[i].x))"
   ]
  },
  {
   "cell_type": "code",
   "execution_count": null,
   "metadata": {},
   "outputs": [],
   "source": []
  }
 ],
 "metadata": {
  "kernelspec": {
   "display_name": "Python 3",
   "language": "python",
   "name": "python3"
  },
  "language_info": {
   "codemirror_mode": {
    "name": "ipython",
    "version": 3
   },
   "file_extension": ".py",
   "mimetype": "text/x-python",
   "name": "python",
   "nbconvert_exporter": "python",
   "pygments_lexer": "ipython3",
   "version": "3.7.6"
  }
 },
 "nbformat": 4,
 "nbformat_minor": 4
}
