{
 "cells": [
  {
   "cell_type": "code",
   "execution_count": 16,
   "metadata": {},
   "outputs": [],
   "source": [
    "import gurobi as grb"
   ]
  },
  {
   "cell_type": "code",
   "execution_count": 17,
   "metadata": {},
   "outputs": [],
   "source": [
    "A1 = grb.Model('P1Q3')"
   ]
  },
  {
   "cell_type": "code",
   "execution_count": 18,
   "metadata": {},
   "outputs": [],
   "source": [
    "meat=[1,2,3]\n",
    "cost = [0.75,0.87,0.98]\n",
    "fat = [0.15,0.1,0.05]\n",
    "protein = [0.7,0.75,0.8]\n",
    "water = [0.12,0.1,0.08]\n",
    "filer = [0.03,0.05,0.07]\n",
    "X1 = A1.addVars(meat,obj=fat,name=\"X\")\n"
   ]
  },
  {
   "cell_type": "code",
   "execution_count": 19,
   "metadata": {},
   "outputs": [
    {
     "data": {
      "text/plain": [
       "<gurobi.Constr *Awaiting Model Update*>"
      ]
     },
     "execution_count": 19,
     "metadata": {},
     "output_type": "execute_result"
    }
   ],
   "source": [
    "A1.addConstr(sum(X1[i] for i in meat)==1)\n",
    "A1.addConstr(sum(protein[i-1]*X1[i] for i in meat)>=0.75,name=\"Protein\")\n",
    "A1.addConstr(sum(water[i-1]*X1[i] for i in meat)<=0.1,name=\"Water\")\n",
    "A1.addConstr(sum(filer[i-1]*X1[i] for i in meat)<=0.1,name=\"Filer\")"
   ]
  },
  {
   "cell_type": "code",
   "execution_count": 20,
   "metadata": {},
   "outputs": [],
   "source": [
    "A1.write('P1Q3.lp')"
   ]
  },
  {
   "cell_type": "code",
   "execution_count": 21,
   "metadata": {},
   "outputs": [],
   "source": [
    "A1.ModelSense = grb.GRB.MINIMIZE"
   ]
  },
  {
   "cell_type": "code",
   "execution_count": 22,
   "metadata": {},
   "outputs": [
    {
     "name": "stdout",
     "output_type": "stream",
     "text": [
      "Gurobi Optimizer version 9.0.3 build v9.0.3rc0 (mac64)\n",
      "Optimize a model with 4 rows, 3 columns and 12 nonzeros\n",
      "Model fingerprint: 0xadd98de1\n",
      "Coefficient statistics:\n",
      "  Matrix range     [3e-02, 1e+00]\n",
      "  Objective range  [5e-02, 1e-01]\n",
      "  Bounds range     [0e+00, 0e+00]\n",
      "  RHS range        [1e-01, 1e+00]\n",
      "Presolve time: 0.01s\n",
      "Presolved: 4 rows, 3 columns, 12 nonzeros\n",
      "\n",
      "Iteration    Objective       Primal Inf.    Dual Inf.      Time\n",
      "       0    5.0000000e-02   0.000000e+00   0.000000e+00      0s\n",
      "\n",
      "Solved in 0 iterations and 0.01 seconds\n",
      "Optimal objective  5.000000000e-02\n"
     ]
    }
   ],
   "source": [
    "A1.optimize()"
   ]
  },
  {
   "cell_type": "code",
   "execution_count": 36,
   "metadata": {},
   "outputs": [
    {
     "name": "stdout",
     "output_type": "stream",
     "text": [
      "The minimum percentage of fat is 0.05.\n",
      "The cost is 0.98.\n"
     ]
    }
   ],
   "source": [
    "print(\"The minimum percentage of fat is {}.\".format(A1.ObjVal))\n",
    "cost1 = sum(cost[i-1]*X1[i].x for i in meat)\n",
    "print(\"The cost is {}.\".format(cost1))"
   ]
  },
  {
   "cell_type": "code",
   "execution_count": 24,
   "metadata": {},
   "outputs": [
    {
     "data": {
      "text/plain": [
       "<gurobi.Constr *Awaiting Model Update*>"
      ]
     },
     "execution_count": 24,
     "metadata": {},
     "output_type": "execute_result"
    }
   ],
   "source": [
    "A2 = grb.Model('P1Q3')\n",
    "X2 = A2.addVars(meat,obj=cost,name=\"X\")\n",
    "A2.addConstr(sum(X2[i] for i in meat)==1)\n",
    "A2.addConstr(sum(protein[i-1]*X2[i] for i in meat)>=0.75,name=\"Protein\")\n",
    "A2.addConstr(sum(water[i-1]*X2[i] for i in meat)<=0.1,name=\"Water\")\n",
    "A2.addConstr(sum(filer[i-1]*X2[i] for i in meat)<=0.1,name=\"Filer\")"
   ]
  },
  {
   "cell_type": "code",
   "execution_count": 26,
   "metadata": {},
   "outputs": [],
   "source": [
    "A2.write('P1Q3-1.lp')"
   ]
  },
  {
   "cell_type": "code",
   "execution_count": 28,
   "metadata": {},
   "outputs": [
    {
     "name": "stdout",
     "output_type": "stream",
     "text": [
      "Gurobi Optimizer version 9.0.3 build v9.0.3rc0 (mac64)\n",
      "Optimize a model with 4 rows, 3 columns and 12 nonzeros\n",
      "Model fingerprint: 0xcc4b7b5b\n",
      "Coefficient statistics:\n",
      "  Matrix range     [3e-02, 1e+00]\n",
      "  Objective range  [8e-01, 1e+00]\n",
      "  Bounds range     [0e+00, 0e+00]\n",
      "  RHS range        [1e-01, 1e+00]\n",
      "Presolve time: 0.01s\n",
      "Presolved: 4 rows, 3 columns, 12 nonzeros\n",
      "\n",
      "Iteration    Objective       Primal Inf.    Dual Inf.      Time\n",
      "       0    7.5000000e-01   2.100000e-01   0.000000e+00      0s\n",
      "       1    8.6500000e-01   0.000000e+00   0.000000e+00      0s\n",
      "\n",
      "Solved in 1 iterations and 0.01 seconds\n",
      "Optimal objective  8.650000000e-01\n"
     ]
    }
   ],
   "source": [
    "A2.ModelSense = grb.GRB.MINIMIZE\n",
    "A2.optimize()"
   ]
  },
  {
   "cell_type": "code",
   "execution_count": 33,
   "metadata": {},
   "outputs": [
    {
     "name": "stdout",
     "output_type": "stream",
     "text": [
      "The minimum cost is 0.865.\n",
      "The %fat is 0.10000000000000002.\n"
     ]
    }
   ],
   "source": [
    "print(\"The minimum cost is {}.\".format(A2.ObjVal))\n",
    "fat1 = sum(fat[i-1]*X2[i].x for i in meat)\n",
    "print(\"The %fat is {}.\".format(fat1))"
   ]
  },
  {
   "cell_type": "code",
   "execution_count": 34,
   "metadata": {},
   "outputs": [],
   "source": [
    "min_fat = A1.ObjVal\n",
    "min_cost = A2.ObjVal"
   ]
  },
  {
   "cell_type": "code",
   "execution_count": 37,
   "metadata": {},
   "outputs": [],
   "source": [
    "A3 = grb.Model('P1Q4')"
   ]
  },
  {
   "cell_type": "code",
   "execution_count": 45,
   "metadata": {},
   "outputs": [],
   "source": [
    "Q = A3.addVar(obj=1,name=\"Q\")\n",
    "X3 = A3.addVars(meat,obj=fat,name=\"X\")"
   ]
  },
  {
   "cell_type": "code",
   "execution_count": 46,
   "metadata": {},
   "outputs": [
    {
     "data": {
      "text/plain": [
       "<gurobi.Constr *Awaiting Model Update*>"
      ]
     },
     "execution_count": 46,
     "metadata": {},
     "output_type": "execute_result"
    }
   ],
   "source": [
    "A3.addConstr(sum(X3[i] for i in meat)==1)\n",
    "A3.addConstr(sum(protein[i-1]*X3[i] for i in meat)>=0.75,name=\"Protein\")\n",
    "A3.addConstr(sum(water[i-1]*X3[i] for i in meat)<=0.1,name=\"Water\")\n",
    "A3.addConstr(sum(filer[i-1]*X3[i] for i in meat)<=0.1,name=\"Filer\")"
   ]
  },
  {
   "cell_type": "code",
   "execution_count": 48,
   "metadata": {},
   "outputs": [
    {
     "data": {
      "text/plain": [
       "<gurobi.Constr *Awaiting Model Update*>"
      ]
     },
     "execution_count": 48,
     "metadata": {},
     "output_type": "execute_result"
    }
   ],
   "source": [
    "A3.addConstr(((sum(cost[i-1]*X3[i] for i in meat)-min_cost)/min_cost)<=Q)\n",
    "A3.addConstr(((sum(fat[i-1]*X3[i] for i in meat)-min_fat)/min_fat)<=Q)"
   ]
  },
  {
   "cell_type": "code",
   "execution_count": 49,
   "metadata": {},
   "outputs": [],
   "source": [
    "A3.ModelSense = grb.GRB.MINIMIZE"
   ]
  },
  {
   "cell_type": "code",
   "execution_count": 50,
   "metadata": {},
   "outputs": [
    {
     "name": "stdout",
     "output_type": "stream",
     "text": [
      "Gurobi Optimizer version 9.0.3 build v9.0.3rc0 (mac64)\n",
      "Optimize a model with 6 rows, 7 columns and 20 nonzeros\n",
      "Model fingerprint: 0x405c98de\n",
      "Coefficient statistics:\n",
      "  Matrix range     [3e-02, 3e+00]\n",
      "  Objective range  [5e-02, 1e+00]\n",
      "  Bounds range     [1e+00, 1e+00]\n",
      "  RHS range        [1e-01, 1e+00]\n",
      "Presolve removed 0 rows and 3 columns\n",
      "Presolve time: 0.01s\n",
      "Presolved: 6 rows, 4 columns, 20 nonzeros\n",
      "\n",
      "Iteration    Objective       Primal Inf.    Dual Inf.      Time\n",
      "       0    5.0000000e-02   1.329480e-01   0.000000e+00      0s\n",
      "       2    1.7321429e-01   0.000000e+00   0.000000e+00      0s\n",
      "\n",
      "Solved in 2 iterations and 0.01 seconds\n",
      "Optimal objective  1.732142857e-01\n"
     ]
    }
   ],
   "source": [
    "A3.optimize()"
   ]
  },
  {
   "cell_type": "code",
   "execution_count": 52,
   "metadata": {},
   "outputs": [
    {
     "name": "stdout",
     "output_type": "stream",
     "text": [
      "Q is <gurobi.Var Q (value 0.11734693877551033)>.\n",
      "The percentage of meat 1 is 0.058673469387755195.\n",
      "The percentage of meat 2 is 0.0.\n",
      "The percentage of meat 3 is 0.9413265306122448.\n"
     ]
    }
   ],
   "source": [
    "print(\"Q is {}.\".format(Q))\n",
    "for i in meat:\n",
    "    print(\"The percentage of meat {} is {}.\".format(i,X3[i].x))"
   ]
  },
  {
   "cell_type": "code",
   "execution_count": 53,
   "metadata": {},
   "outputs": [],
   "source": [
    "A4 = grb.Model('P1Q5')"
   ]
  },
  {
   "cell_type": "code",
   "execution_count": 54,
   "metadata": {},
   "outputs": [],
   "source": [
    "Q = A4.addVar(obj=1,name=\"Q\")\n",
    "X4 = A4.addVars(meat,obj=fat,name=\"X\")"
   ]
  },
  {
   "cell_type": "code",
   "execution_count": 56,
   "metadata": {},
   "outputs": [
    {
     "data": {
      "text/plain": [
       "<gurobi.Constr *Awaiting Model Update*>"
      ]
     },
     "execution_count": 56,
     "metadata": {},
     "output_type": "execute_result"
    }
   ],
   "source": [
    "A4.addConstr(sum(X4[i] for i in meat)==1)\n",
    "A4.addConstr(sum(protein[i-1]*X4[i] for i in meat)>=0.75,name=\"Protein\")\n",
    "A4.addConstr(sum(water[i-1]*X4[i] for i in meat)<=0.1,name=\"Water\")\n",
    "A4.addConstr(sum(filer[i-1]*X4[i] for i in meat)<=0.1,name=\"Filer\")\n",
    "A4.addConstr(((sum(cost[i-1]*X4[i] for i in meat)-min_cost)/min_cost)<=Q)\n",
    "A4.addConstr(((sum(fat[i-1]*X4[i] for i in meat)-min_fat)*2/min_fat)<=Q)"
   ]
  },
  {
   "cell_type": "code",
   "execution_count": 57,
   "metadata": {},
   "outputs": [
    {
     "name": "stdout",
     "output_type": "stream",
     "text": [
      "Gurobi Optimizer version 9.0.3 build v9.0.3rc0 (mac64)\n",
      "Optimize a model with 6 rows, 4 columns and 20 nonzeros\n",
      "Model fingerprint: 0x1559dc41\n",
      "Coefficient statistics:\n",
      "  Matrix range     [3e-02, 6e+00]\n",
      "  Objective range  [5e-02, 1e+00]\n",
      "  Bounds range     [0e+00, 0e+00]\n",
      "  RHS range        [1e-01, 2e+00]\n",
      "Presolve time: 0.01s\n",
      "Presolved: 6 rows, 4 columns, 20 nonzeros\n",
      "\n",
      "Iteration    Objective       Primal Inf.    Dual Inf.      Time\n",
      "       0    5.0000000e-02   1.329480e-01   0.000000e+00      0s\n",
      "       2    1.7777778e-01   0.000000e+00   0.000000e+00      0s\n",
      "\n",
      "Solved in 2 iterations and 0.01 seconds\n",
      "Optimal objective  1.777777778e-01\n"
     ]
    }
   ],
   "source": [
    "A4.ModelSense = grb.GRB.MINIMIZE\n",
    "A4.optimize()"
   ]
  },
  {
   "cell_type": "code",
   "execution_count": 59,
   "metadata": {},
   "outputs": [
    {
     "name": "stdout",
     "output_type": "stream",
     "text": [
      "Q is 0.12466124661246625.\n",
      "The percentage of meat 1 is 0.03116531165311656.\n",
      "The percentage of meat 2 is 0.0.\n",
      "The percentage of meat 3 is 0.9688346883468835.\n"
     ]
    }
   ],
   "source": [
    "print(\"Q is {}.\".format(Q.x))\n",
    "for i in meat:\n",
    "    print(\"The percentage of meat {} is {}.\".format(i,X4[i].x))"
   ]
  },
  {
   "cell_type": "code",
   "execution_count": null,
   "metadata": {},
   "outputs": [],
   "source": []
  }
 ],
 "metadata": {
  "kernelspec": {
   "display_name": "Python 3",
   "language": "python",
   "name": "python3"
  },
  "language_info": {
   "codemirror_mode": {
    "name": "ipython",
    "version": 3
   },
   "file_extension": ".py",
   "mimetype": "text/x-python",
   "name": "python",
   "nbconvert_exporter": "python",
   "pygments_lexer": "ipython3",
   "version": "3.7.6"
  }
 },
 "nbformat": 4,
 "nbformat_minor": 4
}
