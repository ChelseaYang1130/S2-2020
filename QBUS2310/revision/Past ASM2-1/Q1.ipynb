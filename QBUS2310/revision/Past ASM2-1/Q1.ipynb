{
 "cells": [
  {
   "cell_type": "code",
   "execution_count": 1,
   "metadata": {},
   "outputs": [],
   "source": [
    "import gurobi as grb"
   ]
  },
  {
   "cell_type": "code",
   "execution_count": 6,
   "metadata": {},
   "outputs": [],
   "source": [
    "A1 = grb.Model('Q1a')"
   ]
  },
  {
   "cell_type": "code",
   "execution_count": 7,
   "metadata": {},
   "outputs": [],
   "source": [
    "fund = ['A','B']\n",
    "return_rate = [0.12,0.09]\n",
    "risk = [0.5,0.3]"
   ]
  },
  {
   "cell_type": "code",
   "execution_count": 8,
   "metadata": {},
   "outputs": [],
   "source": [
    "X1 = A1.addVars(fund,obj=return_rate,name=\"X\")"
   ]
  },
  {
   "cell_type": "code",
   "execution_count": 12,
   "metadata": {},
   "outputs": [
    {
     "data": {
      "text/plain": [
       "<gurobi.Constr *Awaiting Model Update*>"
      ]
     },
     "execution_count": 12,
     "metadata": {},
     "output_type": "execute_result"
    }
   ],
   "source": [
    "A1.addConstr(X1['A']+X1['B']==50000)\n",
    "A1.addConstr(X1['A']>=20000)\n",
    "A1.addConstr(X1['B']>=10000)"
   ]
  },
  {
   "cell_type": "code",
   "execution_count": 14,
   "metadata": {},
   "outputs": [],
   "source": [
    "A1.ModelSense = grb.GRB.MAXIMIZE"
   ]
  },
  {
   "cell_type": "code",
   "execution_count": 15,
   "metadata": {},
   "outputs": [
    {
     "name": "stdout",
     "output_type": "stream",
     "text": [
      "Gurobi Optimizer version 9.0.3 build v9.0.3rc0 (mac64)\n",
      "Optimize a model with 4 rows, 2 columns and 6 nonzeros\n",
      "Model fingerprint: 0x3ed41921\n",
      "Coefficient statistics:\n",
      "  Matrix range     [1e+00, 1e+00]\n",
      "  Objective range  [9e-02, 1e-01]\n",
      "  Bounds range     [0e+00, 0e+00]\n",
      "  RHS range        [1e+04, 5e+04]\n",
      "Presolve removed 4 rows and 2 columns\n",
      "Presolve time: 0.01s\n",
      "Presolve: All rows and columns removed\n",
      "Iteration    Objective       Primal Inf.    Dual Inf.      Time\n",
      "       0    5.7000000e+03   0.000000e+00   0.000000e+00      0s\n",
      "\n",
      "Solved in 0 iterations and 0.02 seconds\n",
      "Optimal objective  5.700000000e+03\n"
     ]
    }
   ],
   "source": [
    "A1.optimize()"
   ]
  },
  {
   "cell_type": "code",
   "execution_count": 24,
   "metadata": {},
   "outputs": [
    {
     "name": "stdout",
     "output_type": "stream",
     "text": [
      "X[A]=40000.0.\n",
      "X[B]=10000.0.\n",
      "The maximum rate of return is 0.114.\n",
      "The risk is 0.46.\n"
     ]
    }
   ],
   "source": [
    "for i in X1:\n",
    "    print(\"X[{}]={}.\".format(i,X1[i].x))\n",
    "max_return = A1.ObjVal/50000\n",
    "risk1 = (X1['A'].x*risk[0]+X1['B'].x*risk[1])/50000\n",
    "print(\"The maximum rate of return is {}.\".format(max_return))\n",
    "print(\"The risk is {}.\".format(risk1))"
   ]
  },
  {
   "cell_type": "code",
   "execution_count": 25,
   "metadata": {},
   "outputs": [],
   "source": [
    "A2 = grb.Model('Q1b')"
   ]
  },
  {
   "cell_type": "code",
   "execution_count": 26,
   "metadata": {},
   "outputs": [],
   "source": [
    "X2 = A2.addVars(fund,obj=risk,name=\"X\")"
   ]
  },
  {
   "cell_type": "code",
   "execution_count": 28,
   "metadata": {},
   "outputs": [
    {
     "data": {
      "text/plain": [
       "<gurobi.Constr *Awaiting Model Update*>"
      ]
     },
     "execution_count": 28,
     "metadata": {},
     "output_type": "execute_result"
    }
   ],
   "source": [
    "A2.addConstr(X2['A']+X2['B']==50000)\n",
    "A2.addConstr(X2['A']>=20000)\n",
    "A2.addConstr(X2['B']>=10000)"
   ]
  },
  {
   "cell_type": "code",
   "execution_count": 30,
   "metadata": {},
   "outputs": [],
   "source": [
    "A2.ModelSense = grb.GRB.MINIMIZE"
   ]
  },
  {
   "cell_type": "code",
   "execution_count": 31,
   "metadata": {},
   "outputs": [
    {
     "name": "stdout",
     "output_type": "stream",
     "text": [
      "Gurobi Optimizer version 9.0.3 build v9.0.3rc0 (mac64)\n",
      "Optimize a model with 3 rows, 2 columns and 4 nonzeros\n",
      "Model fingerprint: 0xb8f8f82e\n",
      "Coefficient statistics:\n",
      "  Matrix range     [1e+00, 1e+00]\n",
      "  Objective range  [3e-01, 5e-01]\n",
      "  Bounds range     [0e+00, 0e+00]\n",
      "  RHS range        [1e+04, 5e+04]\n",
      "Presolve removed 3 rows and 2 columns\n",
      "Presolve time: 0.01s\n",
      "Presolve: All rows and columns removed\n",
      "Iteration    Objective       Primal Inf.    Dual Inf.      Time\n",
      "       0    1.9000000e+04   0.000000e+00   0.000000e+00      0s\n",
      "\n",
      "Solved in 0 iterations and 0.01 seconds\n",
      "Optimal objective  1.900000000e+04\n"
     ]
    }
   ],
   "source": [
    "A2.optimize()"
   ]
  },
  {
   "cell_type": "code",
   "execution_count": 33,
   "metadata": {},
   "outputs": [
    {
     "name": "stdout",
     "output_type": "stream",
     "text": [
      "X[A]=20000.0.\n",
      "X[B]=30000.0.\n",
      "The minimum risk is 0.38.\n",
      "The return is 0.102.\n"
     ]
    }
   ],
   "source": [
    "for i in X2:\n",
    "    print(\"X[{}]={}.\".format(i,X2[i].x))\n",
    "min_risk = A2.ObjVal/50000\n",
    "return2 = (X2['A'].x*return_rate[0]+X2['B'].x*return_rate[1])/50000\n",
    "print(\"The minimum risk is {}.\".format(min_risk))\n",
    "print(\"The return is {}.\".format(return2))"
   ]
  },
  {
   "cell_type": "code",
   "execution_count": 45,
   "metadata": {},
   "outputs": [],
   "source": [
    "A3 = grb.Model('Q1C')"
   ]
  },
  {
   "cell_type": "code",
   "execution_count": 46,
   "metadata": {},
   "outputs": [],
   "source": [
    "X3=A3.addVars(fund,name=\"X\")\n",
    "Q=A3.addVar(obj=1,name=\"Q\")"
   ]
  },
  {
   "cell_type": "code",
   "execution_count": 47,
   "metadata": {},
   "outputs": [
    {
     "data": {
      "text/plain": [
       "<gurobi.Constr *Awaiting Model Update*>"
      ]
     },
     "execution_count": 47,
     "metadata": {},
     "output_type": "execute_result"
    }
   ],
   "source": [
    "A3.addConstr(X3['A']+X3['B']==50000)\n",
    "A3.addConstr(X3['A']>=20000)\n",
    "A3.addConstr(X3['B']>=10000)\n",
    "A3.addConstr((max_return-(0.12*X3['A']+0.09*X3['B'])/50000)/max_return<=Q)\n",
    "A3.addConstr(((0.5*X3['A']+0.3*X3['B'])/50000-min_risk)/min_risk<=Q)"
   ]
  },
  {
   "cell_type": "code",
   "execution_count": 48,
   "metadata": {},
   "outputs": [],
   "source": [
    "A3.ModelSense = grb.GRB.MINIMIZE"
   ]
  },
  {
   "cell_type": "code",
   "execution_count": 49,
   "metadata": {},
   "outputs": [
    {
     "name": "stdout",
     "output_type": "stream",
     "text": [
      "Gurobi Optimizer version 9.0.3 build v9.0.3rc0 (mac64)\n",
      "Optimize a model with 5 rows, 3 columns and 10 nonzeros\n",
      "Model fingerprint: 0xe30c788c\n",
      "Coefficient statistics:\n",
      "  Matrix range     [2e-05, 1e+00]\n",
      "  Objective range  [1e+00, 1e+00]\n",
      "  Bounds range     [0e+00, 0e+00]\n",
      "  RHS range        [1e+00, 5e+04]\n",
      "Presolve removed 3 rows and 1 columns\n",
      "Presolve time: 0.01s\n",
      "Presolved: 2 rows, 2 columns, 4 nonzeros\n",
      "\n",
      "Iteration    Objective       Primal Inf.    Dual Inf.      Time\n",
      "       0    0.0000000e+00   2.105263e-01   0.000000e+00      0s\n",
      "       2    7.0175439e-02   0.000000e+00   0.000000e+00      0s\n",
      "\n",
      "Solved in 2 iterations and 0.01 seconds\n",
      "Optimal objective  7.017543860e-02\n"
     ]
    }
   ],
   "source": [
    "A3.optimize()"
   ]
  },
  {
   "cell_type": "code",
   "execution_count": 52,
   "metadata": {},
   "outputs": [
    {
     "name": "stdout",
     "output_type": "stream",
     "text": [
      "Q=0.07017543859649122\n",
      "X[A]=26666.666666666653\n",
      "X[B]=23333.333333333347\n",
      "The rate of return is 0.10599999999999998.\n",
      "The risk is 0.40666666666666657.\n"
     ]
    }
   ],
   "source": [
    "print(\"Q={}\".format(Q.x))\n",
    "for i in X3:\n",
    "    print(\"X[{}]={}\".format(i,X3[i].x))\n",
    "return3 = (X3['A'].x*return_rate[0]+X3['B'].x*return_rate[1])/50000\n",
    "risk3 = (X3['A'].x*risk[0]+X3['B'].x*risk[1])/50000\n",
    "print(\"The rate of return is {}.\".format(return3))\n",
    "print(\"The risk is {}.\".format(risk3))"
   ]
  },
  {
   "cell_type": "code",
   "execution_count": null,
   "metadata": {},
   "outputs": [],
   "source": []
  },
  {
   "cell_type": "code",
   "execution_count": null,
   "metadata": {},
   "outputs": [],
   "source": []
  }
 ],
 "metadata": {
  "kernelspec": {
   "display_name": "Python 3",
   "language": "python",
   "name": "python3"
  },
  "language_info": {
   "codemirror_mode": {
    "name": "ipython",
    "version": 3
   },
   "file_extension": ".py",
   "mimetype": "text/x-python",
   "name": "python",
   "nbconvert_exporter": "python",
   "pygments_lexer": "ipython3",
   "version": "3.7.6"
  }
 },
 "nbformat": 4,
 "nbformat_minor": 4
}
