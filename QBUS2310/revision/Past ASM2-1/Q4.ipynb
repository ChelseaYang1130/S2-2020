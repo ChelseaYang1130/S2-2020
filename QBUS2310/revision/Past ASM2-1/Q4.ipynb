{
 "cells": [
  {
   "cell_type": "code",
   "execution_count": 9,
   "metadata": {},
   "outputs": [],
   "source": [
    "import gurobi as grb"
   ]
  },
  {
   "cell_type": "code",
   "execution_count": 10,
   "metadata": {},
   "outputs": [],
   "source": [
    "A1 = grb.Model('Q4a')"
   ]
  },
  {
   "cell_type": "code",
   "execution_count": 11,
   "metadata": {},
   "outputs": [],
   "source": [
    "bus = [1,2,3]\n",
    "cost = [490,440,400]\n",
    "pollute = [8,5,7]\n",
    "safety = [9,8,6]\n",
    "seat = [50,40,30]\n",
    "X1 = A1.addVars(bus,obj=cost,name=\"X\",vtype=grb.GRB.INTEGER)"
   ]
  },
  {
   "cell_type": "code",
   "execution_count": 12,
   "metadata": {},
   "outputs": [
    {
     "data": {
      "text/plain": [
       "<gurobi.Constr *Awaiting Model Update*>"
      ]
     },
     "execution_count": 12,
     "metadata": {},
     "output_type": "execute_result"
    }
   ],
   "source": [
    "A1.addConstr(sum(X1[i] for i in bus)==80)\n",
    "A1.addConstr(X1[1]>=80*0.1)\n",
    "A1.addConstr(sum(X1[i]*seat[i-1] for i in bus)>=3000)"
   ]
  },
  {
   "cell_type": "code",
   "execution_count": 14,
   "metadata": {},
   "outputs": [],
   "source": [
    "A1.ModelSense = grb.GRB.MINIMIZE"
   ]
  },
  {
   "cell_type": "code",
   "execution_count": 15,
   "metadata": {},
   "outputs": [],
   "source": [
    "A1.write('Q4a.lp')"
   ]
  },
  {
   "cell_type": "code",
   "execution_count": 18,
   "metadata": {},
   "outputs": [
    {
     "name": "stdout",
     "output_type": "stream",
     "text": [
      "Gurobi Optimizer version 9.0.3 build v9.0.3rc0 (mac64)\n",
      "Optimize a model with 3 rows, 3 columns and 7 nonzeros\n",
      "Model fingerprint: 0x6f41c9e9\n",
      "Variable types: 0 continuous, 3 integer (0 binary)\n",
      "Coefficient statistics:\n",
      "  Matrix range     [1e+00, 5e+01]\n",
      "  Objective range  [4e+02, 5e+02]\n",
      "  Bounds range     [0e+00, 0e+00]\n",
      "  RHS range        [8e+00, 3e+03]\n",
      "Presolve removed 1 rows and 0 columns\n",
      "Presolve time: 0.01s\n",
      "Presolved: 2 rows, 3 columns, 5 nonzeros\n",
      "Variable types: 0 continuous, 3 integer (0 binary)\n",
      "Found heuristic solution: objective 39110.000000\n",
      "\n",
      "Root relaxation: objective 3.448000e+04, 1 iterations, 0.00 seconds\n",
      "\n",
      "    Nodes    |    Current Node    |     Objective Bounds      |     Work\n",
      " Expl Unexpl |  Obj  Depth IntInf | Incumbent    BestBd   Gap | It/Node Time\n",
      "\n",
      "*    0     0               0    34480.000000 34480.0000  0.00%     -    0s\n",
      "\n",
      "Explored 0 nodes (1 simplex iterations) in 0.04 seconds\n",
      "Thread count was 8 (of 8 available processors)\n",
      "\n",
      "Solution count 2: 34480 39110 \n",
      "\n",
      "Optimal solution found (tolerance 1.00e-04)\n",
      "Best objective 3.448000000000e+04, best bound 3.448000000000e+04, gap 0.0000%\n"
     ]
    }
   ],
   "source": [
    "A1.optimize()"
   ]
  },
  {
   "cell_type": "code",
   "execution_count": 25,
   "metadata": {},
   "outputs": [
    {
     "name": "stdout",
     "output_type": "stream",
     "text": [
      "X[1]=8.0\n",
      "X[2]=44.0\n",
      "X[3]=28.0\n",
      "The minimum cost is $34480.0.\n",
      "The mean pollution rating is 6.0.\n",
      "The mean safety rating is 7.4.\n"
     ]
    }
   ],
   "source": [
    "for i in X1:\n",
    "    print(\"X[{}]={}\".format(i,X1[i].x))\n",
    "pollute1 = sum(X1[i].x*pollute[i-1] for i in bus)/80\n",
    "safety1 = sum(X1[i].x*safety[i-1] for i in bus)/80\n",
    "min_cost = A1.ObjVal\n",
    "print(\"The minimum cost is ${}.\".format(min_cost))\n",
    "print(\"The mean pollution rating is {}.\".format(pollute1))\n",
    "print(\"The mean safety rating is {}.\".format(safety1))"
   ]
  },
  {
   "cell_type": "code",
   "execution_count": 26,
   "metadata": {},
   "outputs": [],
   "source": [
    "A2 = grb.Model('Q4b')"
   ]
  },
  {
   "cell_type": "code",
   "execution_count": 27,
   "metadata": {},
   "outputs": [],
   "source": [
    "X2 = A2.addVars(bus,obj=pollute,name=\"X\",vtype=grb.GRB.INTEGER)"
   ]
  },
  {
   "cell_type": "code",
   "execution_count": 29,
   "metadata": {},
   "outputs": [
    {
     "data": {
      "text/plain": [
       "<gurobi.Constr *Awaiting Model Update*>"
      ]
     },
     "execution_count": 29,
     "metadata": {},
     "output_type": "execute_result"
    }
   ],
   "source": [
    "A2.addConstr(sum(X2[i] for i in bus)==80)\n",
    "A2.addConstr(X2[1]>=80*0.1)\n",
    "A2.addConstr(sum(X2[i]*seat[i-1] for i in bus)>=3000)"
   ]
  },
  {
   "cell_type": "code",
   "execution_count": 30,
   "metadata": {},
   "outputs": [],
   "source": [
    "A2.ModelSense = grb.GRB.MINIMIZE"
   ]
  },
  {
   "cell_type": "code",
   "execution_count": 31,
   "metadata": {},
   "outputs": [],
   "source": [
    "A2.write('Q4b.lp')"
   ]
  },
  {
   "cell_type": "code",
   "execution_count": 32,
   "metadata": {},
   "outputs": [
    {
     "name": "stdout",
     "output_type": "stream",
     "text": [
      "Gurobi Optimizer version 9.0.3 build v9.0.3rc0 (mac64)\n",
      "Optimize a model with 3 rows, 3 columns and 7 nonzeros\n",
      "Model fingerprint: 0xe85f7ef0\n",
      "Variable types: 0 continuous, 3 integer (0 binary)\n",
      "Coefficient statistics:\n",
      "  Matrix range     [1e+00, 5e+01]\n",
      "  Objective range  [5e+00, 8e+00]\n",
      "  Bounds range     [0e+00, 0e+00]\n",
      "  RHS range        [8e+00, 3e+03]\n",
      "Presolve removed 3 rows and 3 columns\n",
      "Presolve time: 0.00s\n",
      "Presolve: All rows and columns removed\n",
      "\n",
      "Explored 0 nodes (0 simplex iterations) in 0.01 seconds\n",
      "Thread count was 1 (of 8 available processors)\n",
      "\n",
      "Solution count 1: 424 \n",
      "\n",
      "Optimal solution found (tolerance 1.00e-04)\n",
      "Best objective 4.240000000000e+02, best bound 4.240000000000e+02, gap 0.0000%\n"
     ]
    }
   ],
   "source": [
    "A2.optimize()"
   ]
  },
  {
   "cell_type": "code",
   "execution_count": 42,
   "metadata": {},
   "outputs": [
    {
     "name": "stdout",
     "output_type": "stream",
     "text": [
      "X[1]=8.0\n",
      "X[2]=72.0\n",
      "X[3]=-0.0\n",
      "The cost is $35600.0.\n",
      "The minimum mean pollution rating is 5.3.\n",
      "The mean safety rating is 8.1.\n"
     ]
    }
   ],
   "source": [
    "for i in X2:\n",
    "    print(\"X[{}]={}\".format(i,X2[i].x))\n",
    "min_pollute = A2.ObjVal/80\n",
    "safety2 = sum(X2[i].x*safety[i-1] for i in bus)/80\n",
    "cost2 = sum(X2[i].x*cost[i-1] for i in bus)\n",
    "print(\"The cost is ${}.\".format(cost2))\n",
    "print(\"The minimum mean pollution rating is {}.\".format(min_pollute))\n",
    "print(\"The mean safety rating is {}.\".format(safety2))"
   ]
  },
  {
   "cell_type": "code",
   "execution_count": 36,
   "metadata": {},
   "outputs": [],
   "source": [
    "A3 = grb.Model('Q4c')"
   ]
  },
  {
   "cell_type": "code",
   "execution_count": 37,
   "metadata": {},
   "outputs": [],
   "source": [
    "X3 = A3.addVars(bus,obj=safety,name=\"X\",vtype=grb.GRB.INTEGER)"
   ]
  },
  {
   "cell_type": "code",
   "execution_count": 38,
   "metadata": {},
   "outputs": [
    {
     "data": {
      "text/plain": [
       "<gurobi.Constr *Awaiting Model Update*>"
      ]
     },
     "execution_count": 38,
     "metadata": {},
     "output_type": "execute_result"
    }
   ],
   "source": [
    "A3.addConstr(sum(X3[i] for i in bus)==80)\n",
    "A3.addConstr(X3[1]>=80*0.1)\n",
    "A3.addConstr(sum(X3[i]*seat[i-1] for i in bus)>=3000)"
   ]
  },
  {
   "cell_type": "code",
   "execution_count": 39,
   "metadata": {},
   "outputs": [],
   "source": [
    "A3.ModelSense = grb.GRB.MAXIMIZE"
   ]
  },
  {
   "cell_type": "code",
   "execution_count": 40,
   "metadata": {},
   "outputs": [],
   "source": [
    "A3.write('Q4b.lp')"
   ]
  },
  {
   "cell_type": "code",
   "execution_count": 41,
   "metadata": {},
   "outputs": [
    {
     "name": "stdout",
     "output_type": "stream",
     "text": [
      "Gurobi Optimizer version 9.0.3 build v9.0.3rc0 (mac64)\n",
      "Optimize a model with 3 rows, 3 columns and 7 nonzeros\n",
      "Model fingerprint: 0x3823ce78\n",
      "Variable types: 0 continuous, 3 integer (0 binary)\n",
      "Coefficient statistics:\n",
      "  Matrix range     [1e+00, 5e+01]\n",
      "  Objective range  [6e+00, 9e+00]\n",
      "  Bounds range     [0e+00, 0e+00]\n",
      "  RHS range        [8e+00, 3e+03]\n",
      "Presolve removed 3 rows and 3 columns\n",
      "Presolve time: 0.00s\n",
      "Presolve: All rows and columns removed\n",
      "\n",
      "Explored 0 nodes (0 simplex iterations) in 0.01 seconds\n",
      "Thread count was 1 (of 8 available processors)\n",
      "\n",
      "Solution count 1: 720 \n",
      "\n",
      "Optimal solution found (tolerance 1.00e-04)\n",
      "Best objective 7.200000000000e+02, best bound 7.200000000000e+02, gap 0.0000%\n"
     ]
    }
   ],
   "source": [
    "A3.optimize()"
   ]
  },
  {
   "cell_type": "code",
   "execution_count": 45,
   "metadata": {},
   "outputs": [
    {
     "name": "stdout",
     "output_type": "stream",
     "text": [
      "X[1]=80.0\n",
      "X[2]=-0.0\n",
      "X[3]=-0.0\n",
      "The cost is $39200.0.\n",
      "The mean pollution rating is 8.0.\n",
      "The maximum mean safety rating is 9.0.\n"
     ]
    }
   ],
   "source": [
    "for i in X3:\n",
    "    print(\"X[{}]={}\".format(i,X3[i].x))\n",
    "pollute3 = sum(X3[i].x*pollute[i-1] for i in bus)/80\n",
    "max_safety = A3.ObjVal/80\n",
    "cost3 = sum(X3[i].x*cost[i-1] for i in bus)\n",
    "print(\"The cost is ${}.\".format(cost3))\n",
    "print(\"The mean pollution rating is {}.\".format(pollute3))\n",
    "print(\"The maximum mean safety rating is {}.\".format(max_safety))"
   ]
  },
  {
   "cell_type": "code",
   "execution_count": 54,
   "metadata": {},
   "outputs": [],
   "source": [
    "A4 = grb.Model('Q4d')"
   ]
  },
  {
   "cell_type": "code",
   "execution_count": 55,
   "metadata": {},
   "outputs": [],
   "source": [
    "X4 = A4.addVars(bus,name=\"X\",vtype=grb.GRB.INTEGER)\n",
    "Q = A4.addVar(obj=1,name=\"Q\")"
   ]
  },
  {
   "cell_type": "code",
   "execution_count": 56,
   "metadata": {},
   "outputs": [
    {
     "data": {
      "text/plain": [
       "<gurobi.Constr *Awaiting Model Update*>"
      ]
     },
     "execution_count": 56,
     "metadata": {},
     "output_type": "execute_result"
    }
   ],
   "source": [
    "A4.addConstr(sum(X4[i] for i in bus)==80)\n",
    "A4.addConstr(X4[1]>=80*0.1)\n",
    "A4.addConstr(sum(X4[i]*seat[i-1] for i in bus)>=3000)\n",
    "A4.addConstr((sum(X4[i]*cost[i-1] for i in bus)-min_cost)/min_cost<=Q)\n",
    "A4.addConstr((sum(X4[i]*pollute[i-1] for i in bus)/80-min_cost)/min_cost<=Q)\n",
    "A4.addConstr((max_safety-sum(X4[i]*pollute[i-1] for i in bus)/80)/max_safety<=Q)"
   ]
  },
  {
   "cell_type": "code",
   "execution_count": 58,
   "metadata": {},
   "outputs": [],
   "source": [
    "A4.write('Q4d.lp')"
   ]
  },
  {
   "cell_type": "code",
   "execution_count": 59,
   "metadata": {},
   "outputs": [],
   "source": [
    "A4.ModelSense = grb.GRB.MINIMIZE"
   ]
  },
  {
   "cell_type": "code",
   "execution_count": 60,
   "metadata": {},
   "outputs": [
    {
     "name": "stdout",
     "output_type": "stream",
     "text": [
      "Gurobi Optimizer version 9.0.3 build v9.0.3rc0 (mac64)\n",
      "Optimize a model with 6 rows, 4 columns and 19 nonzeros\n",
      "Model fingerprint: 0x41cb3e25\n",
      "Variable types: 1 continuous, 3 integer (0 binary)\n",
      "Coefficient statistics:\n",
      "  Matrix range     [2e-06, 5e+01]\n",
      "  Objective range  [1e+00, 1e+00]\n",
      "  Bounds range     [0e+00, 0e+00]\n",
      "  RHS range        [1e+00, 3e+03]\n",
      "Presolve removed 2 rows and 0 columns\n",
      "Presolve time: 0.00s\n",
      "Presolved: 4 rows, 4 columns, 11 nonzeros\n",
      "Variable types: 1 continuous, 3 integer (0 binary)\n",
      "Found heuristic solution: objective 0.1368910\n",
      "Found heuristic solution: objective 0.1361111\n",
      "\n",
      "Root relaxation: objective 1.200645e-01, 2 iterations, 0.00 seconds\n",
      "\n",
      "    Nodes    |    Current Node    |     Objective Bounds      |     Work\n",
      " Expl Unexpl |  Obj  Depth IntInf | Incumbent    BestBd   Gap | It/Node Time\n",
      "\n",
      "     0     0    0.12006    0    2    0.13611    0.12006  11.8%     -    0s\n",
      "H    0     0                       0.1212297    0.12006  0.96%     -    0s\n",
      "*    0     0               0       0.1208333    0.12083  0.00%     -    0s\n",
      "\n",
      "Explored 1 nodes (3 simplex iterations) in 0.03 seconds\n",
      "Thread count was 8 (of 8 available processors)\n",
      "\n",
      "Solution count 4: 0.120833 0.12123 0.136111 0.136891 \n",
      "\n",
      "Optimal solution found (tolerance 1.00e-04)\n",
      "Best objective 1.208333333333e-01, best bound 1.208333333333e-01, gap 0.0000%\n"
     ]
    }
   ],
   "source": [
    "A4.optimize()"
   ]
  },
  {
   "cell_type": "code",
   "execution_count": 62,
   "metadata": {},
   "outputs": [
    {
     "name": "stdout",
     "output_type": "stream",
     "text": [
      "X[1]=73.0\n",
      "X[2]=-0.0\n",
      "X[3]=7.0\n",
      "The value of Q is 0.12083333333333322.\n",
      "The cost is $38570.0.\n",
      "The mean pollution rating is 7.9125.\n",
      "The maximum mean safety rating is 8.7375.\n"
     ]
    }
   ],
   "source": [
    "for i in X4:\n",
    "    print(\"X[{}]={}\".format(i,X4[i].x))\n",
    "pollute4 = sum(X4[i].x*pollute[i-1] for i in bus)/80\n",
    "safety4 = sum(X4[i].x*safety[i-1] for i in bus)/80\n",
    "cost4 = sum(X4[i].x*cost[i-1] for i in bus)\n",
    "print(\"The value of Q is {}.\".format(Q.x))\n",
    "print(\"The cost is ${}.\".format(cost4))\n",
    "print(\"The mean pollution rating is {}.\".format(pollute4))\n",
    "print(\"The mean safety rating is {}.\".format(safety4))"
   ]
  },
  {
   "cell_type": "code",
   "execution_count": null,
   "metadata": {},
   "outputs": [],
   "source": []
  }
 ],
 "metadata": {
  "kernelspec": {
   "display_name": "Python 3",
   "language": "python",
   "name": "python3"
  },
  "language_info": {
   "codemirror_mode": {
    "name": "ipython",
    "version": 3
   },
   "file_extension": ".py",
   "mimetype": "text/x-python",
   "name": "python",
   "nbconvert_exporter": "python",
   "pygments_lexer": "ipython3",
   "version": "3.7.6"
  }
 },
 "nbformat": 4,
 "nbformat_minor": 4
}
