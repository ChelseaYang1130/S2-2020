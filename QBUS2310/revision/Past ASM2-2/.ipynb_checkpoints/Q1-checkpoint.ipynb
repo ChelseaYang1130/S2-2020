{
 "cells": [
  {
   "cell_type": "code",
   "execution_count": 7,
   "metadata": {},
   "outputs": [],
   "source": [
    "import gurobi as grb"
   ]
  },
  {
   "cell_type": "code",
   "execution_count": 8,
   "metadata": {},
   "outputs": [],
   "source": [
    "A1 = grb.Model('Q1a')"
   ]
  },
  {
   "cell_type": "code",
   "execution_count": 9,
   "metadata": {},
   "outputs": [],
   "source": [
    "return_rate = [0.06,0.07,0.08,0.09,0.11]\n",
    "risk = [7,4,6,5,9]\n",
    "maturity = [3,9,5,4,10]\n",
    "fund = [1,2,3,4,5]"
   ]
  },
  {
   "cell_type": "code",
   "execution_count": 10,
   "metadata": {},
   "outputs": [],
   "source": [
    "X1 = A1.addVars(fund, obj=return_rate,name=\"X\")"
   ]
  },
  {
   "cell_type": "code",
   "execution_count": 54,
   "metadata": {},
   "outputs": [
    {
     "data": {
      "text/plain": [
       "<gurobi.Constr *Awaiting Model Update*>"
      ]
     },
     "execution_count": 54,
     "metadata": {},
     "output_type": "execute_result"
    }
   ],
   "source": [
    "A1.addConstr(sum(return_rate[i-1]*X1[i] for i in fund)>=500000*0.072)\n",
    "A1.addConstr(sum(risk[i-1]*X1[i] for i in fund)<=500000*7.5)\n",
    "A1.addConstr(sum(maturity[i-1]*X1[i] for i in fund)>=500000*7.5)"
   ]
  },
  {
   "cell_type": "code",
   "execution_count": 13,
   "metadata": {},
   "outputs": [],
   "source": [
    "A1.ModelSense = grb.GRB.MAXIMIZE"
   ]
  },
  {
   "cell_type": "code",
   "execution_count": 37,
   "metadata": {},
   "outputs": [
    {
     "name": "stdout",
     "output_type": "stream",
     "text": [
      "Gurobi Optimizer version 9.0.3 build v9.0.3rc0 (mac64)\n",
      "Optimize a model with 3 rows, 5 columns and 15 nonzeros\n",
      "Coefficient statistics:\n",
      "  Matrix range     [6e-02, 1e+01]\n",
      "  Objective range  [6e-02, 1e-01]\n",
      "  Bounds range     [0e+00, 0e+00]\n",
      "  RHS range        [4e+04, 4e+06]\n",
      "\n",
      "Solved in 2 iterations and 0.00 seconds\n",
      "Optimal objective  6.724137931e+04\n"
     ]
    }
   ],
   "source": [
    "A1.optimize()"
   ]
  },
  {
   "cell_type": "code",
   "execution_count": 38,
   "metadata": {},
   "outputs": [
    {
     "name": "stdout",
     "output_type": "stream",
     "text": [
      "X[1]=0.0\n",
      "X[2]=129310.34482758622\n",
      "X[3]=0.0\n",
      "X[4]=646551.724137931\n",
      "X[5]=0.0\n",
      "The maximum return rate is 0.13448275862068965.\n"
     ]
    }
   ],
   "source": [
    "for i in X1:\n",
    "    print(\"X[{}]={}\".format(i,X1[i].x))\n",
    "max_return_rate = A1.ObjVal/500000\n",
    "print(\"The maximum return rate is {}.\".format(max_return_rate))"
   ]
  },
  {
   "cell_type": "code",
   "execution_count": 39,
   "metadata": {},
   "outputs": [],
   "source": [
    "A2 = grb.Model('Q1b')"
   ]
  },
  {
   "cell_type": "code",
   "execution_count": 40,
   "metadata": {},
   "outputs": [],
   "source": [
    "X2 = A2.addVars(fund, obj=risk,name=\"X\")"
   ]
  },
  {
   "cell_type": "code",
   "execution_count": 41,
   "metadata": {},
   "outputs": [
    {
     "data": {
      "text/plain": [
       "<gurobi.Constr *Awaiting Model Update*>"
      ]
     },
     "execution_count": 41,
     "metadata": {},
     "output_type": "execute_result"
    }
   ],
   "source": [
    "A2.addConstr(sum(return_rate[i-1]*X2[i] for i in fund)>=500000*0.072)\n",
    "A2.addConstr(sum(risk[i-1]*X2[i] for i in fund)<=500000*7.5)\n",
    "A2.addConstr(sum(maturity[i-1]*X2[i] for i in fund)<=500000*7.5)"
   ]
  },
  {
   "cell_type": "code",
   "execution_count": 42,
   "metadata": {},
   "outputs": [],
   "source": [
    "A2.ModelSense = grb.GRB.MINIMIZE"
   ]
  },
  {
   "cell_type": "code",
   "execution_count": 43,
   "metadata": {},
   "outputs": [
    {
     "name": "stdout",
     "output_type": "stream",
     "text": [
      "Gurobi Optimizer version 9.0.3 build v9.0.3rc0 (mac64)\n",
      "Optimize a model with 3 rows, 5 columns and 15 nonzeros\n",
      "Model fingerprint: 0xe70827b7\n",
      "Coefficient statistics:\n",
      "  Matrix range     [6e-02, 1e+01]\n",
      "  Objective range  [4e+00, 9e+00]\n",
      "  Bounds range     [0e+00, 0e+00]\n",
      "  RHS range        [4e+04, 4e+06]\n",
      "Presolve time: 0.01s\n",
      "Presolved: 3 rows, 5 columns, 15 nonzeros\n",
      "\n",
      "Iteration    Objective       Primal Inf.    Dual Inf.      Time\n",
      "       0    0.0000000e+00   2.880000e+05   0.000000e+00      0s\n",
      "       1    2.0000000e+06   0.000000e+00   0.000000e+00      0s\n",
      "\n",
      "Solved in 1 iterations and 0.01 seconds\n",
      "Optimal objective  2.000000000e+06\n"
     ]
    }
   ],
   "source": [
    "A2.optimize()"
   ]
  },
  {
   "cell_type": "code",
   "execution_count": 44,
   "metadata": {},
   "outputs": [
    {
     "name": "stdout",
     "output_type": "stream",
     "text": [
      "X[1]=0.0\n",
      "X[2]=0.0\n",
      "X[3]=0.0\n",
      "X[4]=400000.0\n",
      "X[5]=0.0\n",
      "The minimum risk index is 4.0.\n"
     ]
    }
   ],
   "source": [
    "for i in X2:\n",
    "    print(\"X[{}]={}\".format(i,X2[i].x))\n",
    "min_risk = A2.ObjVal/500000\n",
    "print(\"The minimum risk index is {}.\".format(min_risk))"
   ]
  },
  {
   "cell_type": "code",
   "execution_count": 45,
   "metadata": {},
   "outputs": [],
   "source": [
    "A3 = grb.Model('Q1c')"
   ]
  },
  {
   "cell_type": "code",
   "execution_count": 46,
   "metadata": {},
   "outputs": [],
   "source": [
    "X3 = A3.addVars(fund, obj=maturity,name=\"X\")"
   ]
  },
  {
   "cell_type": "code",
   "execution_count": 47,
   "metadata": {},
   "outputs": [
    {
     "data": {
      "text/plain": [
       "<gurobi.Constr *Awaiting Model Update*>"
      ]
     },
     "execution_count": 47,
     "metadata": {},
     "output_type": "execute_result"
    }
   ],
   "source": [
    "A3.addConstr(sum(return_rate[i-1]*X3[i] for i in fund)>=500000*0.072)\n",
    "A3.addConstr(sum(risk[i-1]*X3[i] for i in fund)<=500000*7.5)\n",
    "A3.addConstr(sum(maturity[i-1]*X3[i] for i in fund)<=500000*7.5)"
   ]
  },
  {
   "cell_type": "code",
   "execution_count": 48,
   "metadata": {},
   "outputs": [],
   "source": [
    "A3.ModelSense = grb.GRB.MINIMIZE"
   ]
  },
  {
   "cell_type": "code",
   "execution_count": 49,
   "metadata": {},
   "outputs": [
    {
     "name": "stdout",
     "output_type": "stream",
     "text": [
      "Gurobi Optimizer version 9.0.3 build v9.0.3rc0 (mac64)\n",
      "Optimize a model with 3 rows, 5 columns and 15 nonzeros\n",
      "Model fingerprint: 0x8a346243\n",
      "Coefficient statistics:\n",
      "  Matrix range     [6e-02, 1e+01]\n",
      "  Objective range  [3e+00, 1e+01]\n",
      "  Bounds range     [0e+00, 0e+00]\n",
      "  RHS range        [4e+04, 4e+06]\n",
      "Presolve time: 0.01s\n",
      "Presolved: 3 rows, 5 columns, 15 nonzeros\n",
      "\n",
      "Iteration    Objective       Primal Inf.    Dual Inf.      Time\n",
      "       0    0.0000000e+00   2.880000e+05   0.000000e+00      0s\n",
      "       1    1.6000000e+06   0.000000e+00   0.000000e+00      0s\n",
      "\n",
      "Solved in 1 iterations and 0.01 seconds\n",
      "Optimal objective  1.600000000e+06\n"
     ]
    }
   ],
   "source": [
    "A3.optimize()"
   ]
  },
  {
   "cell_type": "code",
   "execution_count": 50,
   "metadata": {},
   "outputs": [
    {
     "name": "stdout",
     "output_type": "stream",
     "text": [
      "X[1]=0.0\n",
      "X[2]=129310.34482758622\n",
      "X[3]=0.0\n",
      "X[4]=646551.724137931\n",
      "X[5]=0.0\n",
      "The minimum time to maturity is 3.2.\n"
     ]
    }
   ],
   "source": [
    "for i in X3:\n",
    "    print(\"X[{}]={}\".format(i,X1[i].x))\n",
    "min_maturity = A3.ObjVal/500000\n",
    "print(\"The minimum time to maturity is {}.\".format(min_maturity))"
   ]
  },
  {
   "cell_type": "code",
   "execution_count": null,
   "metadata": {},
   "outputs": [],
   "source": []
  },
  {
   "cell_type": "code",
   "execution_count": null,
   "metadata": {},
   "outputs": [],
   "source": []
  }
 ],
 "metadata": {
  "kernelspec": {
   "display_name": "Python 3",
   "language": "python",
   "name": "python3"
  },
  "language_info": {
   "codemirror_mode": {
    "name": "ipython",
    "version": 3
   },
   "file_extension": ".py",
   "mimetype": "text/x-python",
   "name": "python",
   "nbconvert_exporter": "python",
   "pygments_lexer": "ipython3",
   "version": "3.7.6"
  }
 },
 "nbformat": 4,
 "nbformat_minor": 4
}
