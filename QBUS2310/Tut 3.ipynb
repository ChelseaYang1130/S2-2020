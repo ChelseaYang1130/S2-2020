{
 "cells": [
  {
   "cell_type": "markdown",
   "metadata": {},
   "source": [
    "## Problem 2"
   ]
  },
  {
   "cell_type": "code",
   "execution_count": 1,
   "metadata": {},
   "outputs": [],
   "source": [
    "import gurobipy as grb"
   ]
  },
  {
   "cell_type": "code",
   "execution_count": 8,
   "metadata": {},
   "outputs": [],
   "source": [
    "A = grb.Model('Q2')"
   ]
  },
  {
   "cell_type": "code",
   "execution_count": 13,
   "metadata": {},
   "outputs": [],
   "source": [
    "employee = {1:1, 2:1, 3:1, 4:1, 5:1}\n",
    "job = {1:1, 2:1,3:1,4:1}\n",
    "time = [[22,18,30,18],\n",
    "        [18,0,27,22],\n",
    "        [26,20,28,28],\n",
    "        [16,22,0,14],\n",
    "        [21,0,25,28]]\n",
    "X = A.addVars(employee, job, obj=time)"
   ]
  },
  {
   "cell_type": "code",
   "execution_count": 22,
   "metadata": {},
   "outputs": [],
   "source": [
    "A.modelSense = grb.GRB.MINIMIZE"
   ]
  },
  {
   "cell_type": "code",
   "execution_count": 39,
   "metadata": {},
   "outputs": [],
   "source": [
    "for j in job:\n",
    "    A.addConstr(sum(X[(i,j)] for i in employee)==1)"
   ]
  },
  {
   "cell_type": "code",
   "execution_count": 40,
   "metadata": {},
   "outputs": [],
   "source": [
    "A.write('Q2.lp') # write your model to the disk so you can check if the formulation is correct"
   ]
  },
  {
   "cell_type": "code",
   "execution_count": 41,
   "metadata": {},
   "outputs": [],
   "source": [
    "for e in employee:\n",
    "    A.addConstr(sum(X[(e,i)] for i in job)<=1)"
   ]
  },
  {
   "cell_type": "code",
   "execution_count": 42,
   "metadata": {},
   "outputs": [
    {
     "data": {
      "text/plain": [
       "<gurobi.Constr *Awaiting Model Update*>"
      ]
     },
     "execution_count": 42,
     "metadata": {},
     "output_type": "execute_result"
    }
   ],
   "source": [
    "A.addConstr(X[(2,2)]==0)\n",
    "A.addConstr(X[(5,2)]==0)\n",
    "A.addConstr(X[(4,3)]==0)"
   ]
  },
  {
   "cell_type": "code",
   "execution_count": 43,
   "metadata": {},
   "outputs": [
    {
     "name": "stdout",
     "output_type": "stream",
     "text": [
      "Gurobi Optimizer version 9.0.3 build v9.0.3rc0 (mac64)\n",
      "Optimize a model with 31 rows, 20 columns and 109 nonzeros\n",
      "Coefficient statistics:\n",
      "  Matrix range     [1e+00, 1e+00]\n",
      "  Objective range  [1e+01, 3e+01]\n",
      "  Bounds range     [0e+00, 0e+00]\n",
      "  RHS range        [1e+00, 1e+00]\n",
      "Iteration    Objective       Primal Inf.    Dual Inf.      Time\n",
      "       0    7.5000000e+01   0.000000e+00   0.000000e+00      0s\n",
      "\n",
      "Solved in 0 iterations and 0.00 seconds\n",
      "Optimal objective  7.500000000e+01\n"
     ]
    }
   ],
   "source": [
    "A.optimize()"
   ]
  },
  {
   "cell_type": "code",
   "execution_count": 44,
   "metadata": {},
   "outputs": [
    {
     "name": "stdout",
     "output_type": "stream",
     "text": [
      "X (1, 1) 0.0\n",
      "X (1, 2) 1.0\n",
      "X (1, 3) 0.0\n",
      "X (1, 4) 0.0\n",
      "X (2, 1) 1.0\n",
      "X (2, 2) 0.0\n",
      "X (2, 3) 0.0\n",
      "X (2, 4) 0.0\n",
      "X (3, 1) 0.0\n",
      "X (3, 2) 0.0\n",
      "X (3, 3) 0.0\n",
      "X (3, 4) 0.0\n",
      "X (4, 1) 0.0\n",
      "X (4, 2) 0.0\n",
      "X (4, 3) 0.0\n",
      "X (4, 4) 1.0\n",
      "X (5, 1) 0.0\n",
      "X (5, 2) 0.0\n",
      "X (5, 3) 1.0\n",
      "X (5, 4) 0.0\n"
     ]
    }
   ],
   "source": [
    "for i in X: print(\"X\",i,X[i].x)"
   ]
  },
  {
   "cell_type": "code",
   "execution_count": 45,
   "metadata": {},
   "outputs": [
    {
     "data": {
      "text/plain": [
       "{(1, 1): <gurobi.Var C0 (value 0.0)>,\n",
       " (1, 2): <gurobi.Var C1 (value 1.0)>,\n",
       " (1, 3): <gurobi.Var C2 (value 0.0)>,\n",
       " (1, 4): <gurobi.Var C3 (value 0.0)>,\n",
       " (2, 1): <gurobi.Var C4 (value 1.0)>,\n",
       " (2, 2): <gurobi.Var C5 (value 0.0)>,\n",
       " (2, 3): <gurobi.Var C6 (value 0.0)>,\n",
       " (2, 4): <gurobi.Var C7 (value 0.0)>,\n",
       " (3, 1): <gurobi.Var C8 (value 0.0)>,\n",
       " (3, 2): <gurobi.Var C9 (value 0.0)>,\n",
       " (3, 3): <gurobi.Var C10 (value 0.0)>,\n",
       " (3, 4): <gurobi.Var C11 (value 0.0)>,\n",
       " (4, 1): <gurobi.Var C12 (value 0.0)>,\n",
       " (4, 2): <gurobi.Var C13 (value 0.0)>,\n",
       " (4, 3): <gurobi.Var C14 (value 0.0)>,\n",
       " (4, 4): <gurobi.Var C15 (value 1.0)>,\n",
       " (5, 1): <gurobi.Var C16 (value 0.0)>,\n",
       " (5, 2): <gurobi.Var C17 (value 0.0)>,\n",
       " (5, 3): <gurobi.Var C18 (value 1.0)>,\n",
       " (5, 4): <gurobi.Var C19 (value 0.0)>}"
      ]
     },
     "execution_count": 45,
     "metadata": {},
     "output_type": "execute_result"
    }
   ],
   "source": [
    "X"
   ]
  },
  {
   "cell_type": "code",
   "execution_count": null,
   "metadata": {},
   "outputs": [],
   "source": []
  }
 ],
 "metadata": {
  "kernelspec": {
   "display_name": "Python 3",
   "language": "python",
   "name": "python3"
  },
  "language_info": {
   "codemirror_mode": {
    "name": "ipython",
    "version": 3
   },
   "file_extension": ".py",
   "mimetype": "text/x-python",
   "name": "python",
   "nbconvert_exporter": "python",
   "pygments_lexer": "ipython3",
   "version": "3.7.6"
  }
 },
 "nbformat": 4,
 "nbformat_minor": 4
}
