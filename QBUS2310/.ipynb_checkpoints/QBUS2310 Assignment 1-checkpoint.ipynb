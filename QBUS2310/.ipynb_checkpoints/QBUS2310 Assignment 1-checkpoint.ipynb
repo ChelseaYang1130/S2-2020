{
 "cells": [
  {
   "cell_type": "code",
   "execution_count": 206,
   "metadata": {},
   "outputs": [],
   "source": [
    "import gurobi as grb"
   ]
  },
  {
   "cell_type": "code",
   "execution_count": 207,
   "metadata": {},
   "outputs": [],
   "source": [
    "A = grb.Model('Q1')"
   ]
  },
  {
   "cell_type": "code",
   "execution_count": 208,
   "metadata": {},
   "outputs": [],
   "source": [
    "subcontract = {1:1,2:1.3,3:1.6}\n",
    "delivery = {1,2,3,4}\n",
    "\n",
    "petrol = {1:-1.1,2:1.5}\n",
    "petrol_amount = {1:-1.1,2:1.5}\n",
    "driver = {1:8000}"
   ]
  },
  {
   "cell_type": "code",
   "execution_count": 209,
   "metadata": {},
   "outputs": [],
   "source": [
    "X1 = A.addVars(delivery, obj = 0, vtype = grb.GRB.INTEGER)\n",
    "X2 = A.addVars(subcontract, obj = subcontract.values(), vtype = grb.GRB.INTEGER)\n",
    "X3 = A.addVars(petrol, obj = petrol.values())\n",
    "X4 = A.addVars(driver, obj = driver.values(), vtype = grb.GRB.INTEGER)\n",
    "Y1 = A.addVars(subcontract, obj =0, vtype = grb.GRB.BINARY)\n",
    "Y2 = A.addVars(petrol, obj =0, vtype = grb.GRB.BINARY)\n",
    "Y3 = A.addVars(driver, obj =0, vtype = grb.GRB.BINARY)"
   ]
  },
  {
   "cell_type": "code",
   "execution_count": 210,
   "metadata": {},
   "outputs": [],
   "source": [
    "A.modelSense = grb.GRB.MINIMIZE"
   ]
  },
  {
   "cell_type": "code",
   "execution_count": 211,
   "metadata": {},
   "outputs": [
    {
     "data": {
      "text/plain": [
       "<gurobi.Constr *Awaiting Model Update*>"
      ]
     },
     "execution_count": 211,
     "metadata": {},
     "output_type": "execute_result"
    }
   ],
   "source": [
    "# subcontract constraints\n",
    "A.addConstr(X2[1]+X2[2]+X2[3]+11000*X1[1]+9000*X1[2]+7000*X1[3]+6000*X1[4]==280000)\n",
    "A.addConstr(X2[1]<=25000*Y1[1])\n",
    "A.addConstr(X2[2]<=25000*Y1[2])\n",
    "A.addConstr(X2[3]>=Y1[3])\n",
    "A.addConstr(Y1[1]-Y1[2]>=0)\n",
    "A.addConstr(Y1[2]-Y1[3]>=0)"
   ]
  },
  {
   "cell_type": "code",
   "execution_count": 212,
   "metadata": {},
   "outputs": [
    {
     "data": {
      "text/plain": [
       "<gurobi.QConstr Not Yet Added>"
      ]
     },
     "execution_count": 212,
     "metadata": {},
     "output_type": "execute_result"
    }
   ],
   "source": [
    "# petrol constraints\n",
    "A.addConstr(2000*X1[1]+1700*X1[2]+1200*X1[3]+1100*X1[4]<=60000)\n",
    "A.addConstr(50000-2000*X1[1]-1700*X1[2]-1200*X1[3]-1100*X1[4]<=10000*Y2[1]) # excess\n",
    "A.addConstr(2000*X1[1]+1700*X1[2]+1200*X1[3]+1100*X1[4]-50000<=10000*Y2[2]) # additional\n",
    "A.addConstr(Y2[1]+Y2[2]<=1)\n",
    "A.addConstr(X3[1] == (50000-2000*X1[1]-1700*X1[2]-1200*X1[3]-1100*X1[4])*Y2[1])\n",
    "A.addConstr(X3[2] == (2000*X1[1]+1700*X1[2]+1200*X1[3]+1100*X1[4]-50000)*Y2[2])"
   ]
  },
  {
   "cell_type": "code",
   "execution_count": 213,
   "metadata": {},
   "outputs": [
    {
     "data": {
      "text/plain": [
       "<gurobi.QConstr Not Yet Added>"
      ]
     },
     "execution_count": 213,
     "metadata": {},
     "output_type": "execute_result"
    }
   ],
   "source": [
    "# Drivers\n",
    "A.addConstr(2*X1[1]+2*X1[2]+X1[3]+X1[4]<=45)\n",
    "A.addConstr(2*X1[1]+2*X1[2]+X1[3]+X1[4]-35<=10*Y3[1])\n",
    "A.addConstr(X4[1]==Y3[1]*(2*X1[1]+2*X1[2]+X1[3]+X1[4]-35))"
   ]
  },
  {
   "cell_type": "code",
   "execution_count": 214,
   "metadata": {},
   "outputs": [
    {
     "data": {
      "text/plain": [
       "<gurobi.Constr *Awaiting Model Update*>"
      ]
     },
     "execution_count": 214,
     "metadata": {},
     "output_type": "execute_result"
    }
   ],
   "source": [
    "# Maintainance\n",
    "A.addConstr(20*X1[1]+14*X1[2]+12*X1[3]+10*X1[4]<=400)"
   ]
  },
  {
   "cell_type": "code",
   "execution_count": 215,
   "metadata": {},
   "outputs": [
    {
     "name": "stdout",
     "output_type": "stream",
     "text": [
      "Gurobi Optimizer version 9.0.3 build v9.0.3rc0 (mac64)\n",
      "Optimize a model with 13 rows, 16 columns and 46 nonzeros\n",
      "Model fingerprint: 0x18680e08\n",
      "Model has 3 quadratic constraints\n",
      "Variable types: 2 continuous, 14 integer (6 binary)\n",
      "Coefficient statistics:\n",
      "  Matrix range     [1e+00, 2e+04]\n",
      "  QMatrix range    [1e+00, 2e+03]\n",
      "  QLMatrix range   [1e+00, 5e+04]\n",
      "  Objective range  [1e+00, 8e+03]\n",
      "  Bounds range     [1e+00, 1e+00]\n",
      "  RHS range        [1e+00, 3e+05]\n",
      "Presolve removed 9 rows and 7 columns\n",
      "Presolve time: 0.00s\n",
      "Presolved: 17 rows, 13 columns, 54 nonzeros\n",
      "Variable types: 0 continuous, 13 integer (1 binary)\n",
      "Found heuristic solution: objective 76070.000000\n",
      "\n",
      "Root relaxation: objective 3.279391e+04, 11 iterations, 0.00 seconds\n",
      "\n",
      "    Nodes    |    Current Node    |     Objective Bounds      |     Work\n",
      " Expl Unexpl |  Obj  Depth IntInf | Incumbent    BestBd   Gap | It/Node Time\n",
      "\n",
      "     0     0 32793.9130    0    8 76070.0000 32793.9130  56.9%     -    0s\n",
      "H    0     0                    53010.000000 32793.9130  38.1%     -    0s\n",
      "     0     0 38100.0000    0    3 53010.0000 38100.0000  28.1%     -    0s\n",
      "H    0     0                    40660.000000 38100.0000  6.30%     -    0s\n",
      "     0     0          -    0      40660.0000 40660.0000  0.00%     -    0s\n",
      "\n",
      "Cutting planes:\n",
      "  Gomory: 1\n",
      "  RLT: 1\n",
      "\n",
      "Explored 1 nodes (16 simplex iterations) in 0.03 seconds\n",
      "Thread count was 8 (of 8 available processors)\n",
      "\n",
      "Solution count 3: 40660 53010 76070 \n",
      "\n",
      "Optimal solution found (tolerance 1.00e-04)\n",
      "Best objective 4.066000000000e+04, best bound 4.066000000000e+04, gap 0.0000%\n"
     ]
    }
   ],
   "source": [
    "A.optimize()"
   ]
  },
  {
   "cell_type": "code",
   "execution_count": 216,
   "metadata": {},
   "outputs": [
    {
     "name": "stdout",
     "output_type": "stream",
     "text": [
      "Warning: Q constraint 0 doesn't have a name\n"
     ]
    }
   ],
   "source": [
    "A.write('Assignment Q1.lp')"
   ]
  },
  {
   "cell_type": "code",
   "execution_count": 217,
   "metadata": {},
   "outputs": [
    {
     "name": "stdout",
     "output_type": "stream",
     "text": [
      "The company should operate 0 trucks of model A.\n",
      "The company should operate 2 trucks of model B.\n",
      "The company should operate 31 trucks of model C.\n",
      "The company should operate 0 trucks of model D.\n"
     ]
    }
   ],
   "source": [
    "model = [\"A\",\"B\",\"C\",\"D\"]\n",
    "for i in range(1,5):\n",
    "    print(\"The company should operate {} trucks of model {}.\".format(round(X1[i].x), model[i-1]))"
   ]
  },
  {
   "cell_type": "code",
   "execution_count": 235,
   "metadata": {},
   "outputs": [
    {
     "name": "stdout",
     "output_type": "stream",
     "text": [
      "The minimum cost is $40660.\n"
     ]
    }
   ],
   "source": [
    "print(\"The minimum cost is ${}.\".format(round(A.objVal)))"
   ]
  },
  {
   "cell_type": "code",
   "execution_count": 219,
   "metadata": {},
   "outputs": [
    {
     "name": "stdout",
     "output_type": "stream",
     "text": [
      "The company should sub-contract the delivery of 45000 products to other companies.\n"
     ]
    }
   ],
   "source": [
    "op_subcontract = round(X2[1].x+X2[2].x+X2[3].x)\n",
    "print(\"The company should sub-contract the delivery of {} products to other companies.\".format(op_subcontract))"
   ]
  },
  {
   "cell_type": "code",
   "execution_count": 239,
   "metadata": {},
   "outputs": [
    {
     "name": "stdout",
     "output_type": "stream",
     "text": [
      "The amount of petrol required is 40600 liters.\n",
      "The amount of excessive petrol is 9400 liters.\n",
      "The amount of additional petrol required is 0 liters.\n"
     ]
    }
   ],
   "source": [
    "petrol_used = 2000*X1[1].x + 1700*X1[2].x + 1200*X1[3].x + 1100*X1[4].x \n",
    "print(\"The amount of petrol required is {} liters.\".format(round(petrol_used)))\n",
    "print(\"The amount of excessive petrol is {} liters.\".format(round(X3[1].x)))\n",
    "print(\"The amount of additional petrol required is {} liters.\".format(round(X3[2].x)))"
   ]
  },
  {
   "cell_type": "code",
   "execution_count": 241,
   "metadata": {},
   "outputs": [
    {
     "name": "stdout",
     "output_type": "stream",
     "text": [
      "The number of drivers required: 35\n",
      "The number of additional drivers: 0\n"
     ]
    }
   ],
   "source": [
    "driver_required = 2*X1[1].x + 2*X1[2].x + X1[3].x + X1[4].x \n",
    "print(\"The number of drivers required:\", round(driver_required))\n",
    "print(\"The number of additional drivers:\", round(X4[1].x))"
   ]
  },
  {
   "cell_type": "code",
   "execution_count": 243,
   "metadata": {},
   "outputs": [
    {
     "name": "stdout",
     "output_type": "stream",
     "text": [
      "The amount of maintainance required: 400 hours.\n"
     ]
    }
   ],
   "source": [
    "maintainance_required = 20*X1[1].x+14*X1[2].x+12*X1[3].x+10*X1[4].x \n",
    "print(\"The amount of maintainance required:\", round(maintainance_required),\"hours.\")"
   ]
  }
 ],
 "metadata": {
  "kernelspec": {
   "display_name": "Python 3",
   "language": "python",
   "name": "python3"
  },
  "language_info": {
   "codemirror_mode": {
    "name": "ipython",
    "version": 3
   },
   "file_extension": ".py",
   "mimetype": "text/x-python",
   "name": "python",
   "nbconvert_exporter": "python",
   "pygments_lexer": "ipython3",
   "version": "3.7.6"
  }
 },
 "nbformat": 4,
 "nbformat_minor": 4
}
