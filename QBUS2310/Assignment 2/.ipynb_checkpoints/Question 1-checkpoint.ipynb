{
 "cells": [
  {
   "cell_type": "markdown",
   "metadata": {},
   "source": [
    "# a. Maximize return"
   ]
  },
  {
   "cell_type": "code",
   "execution_count": 1,
   "metadata": {},
   "outputs": [],
   "source": [
    "import gurobi as grb"
   ]
  },
  {
   "cell_type": "code",
   "execution_count": 2,
   "metadata": {},
   "outputs": [],
   "source": [
    "fund = [\"A\",\"B\"]\n",
    "return_rate = {\"A\":0.14,\"B\":0.11}\n",
    "risk = {\"A\":0.6,\"B\":0.4}"
   ]
  },
  {
   "cell_type": "code",
   "execution_count": 3,
   "metadata": {},
   "outputs": [
    {
     "name": "stdout",
     "output_type": "stream",
     "text": [
      "Using license file /Users/chelseayeung/gurobi.lic\n",
      "Academic license - for non-commercial use only\n"
     ]
    }
   ],
   "source": [
    "A1 = grb.Model('Q1a')"
   ]
  },
  {
   "cell_type": "code",
   "execution_count": 4,
   "metadata": {},
   "outputs": [],
   "source": [
    "X = A1.addVars(fund,obj = return_rate,name = \"X\")"
   ]
  },
  {
   "cell_type": "code",
   "execution_count": 5,
   "metadata": {},
   "outputs": [
    {
     "data": {
      "text/plain": [
       "<gurobi.Constr *Awaiting Model Update*>"
      ]
     },
     "execution_count": 5,
     "metadata": {},
     "output_type": "execute_result"
    }
   ],
   "source": [
    "A1.addConstr(X[\"A\"]+X[\"B\"]==80000)\n",
    "A1.addConstr(X[\"A\"]>=30000)\n",
    "A1.addConstr(X[\"B\"]>=20000)"
   ]
  },
  {
   "cell_type": "code",
   "execution_count": 6,
   "metadata": {},
   "outputs": [],
   "source": [
    "A1.ModelSense = grb.GRB.MAXIMIZE"
   ]
  },
  {
   "cell_type": "code",
   "execution_count": 7,
   "metadata": {},
   "outputs": [
    {
     "name": "stdout",
     "output_type": "stream",
     "text": [
      "Gurobi Optimizer version 9.0.3 build v9.0.3rc0 (mac64)\n",
      "Optimize a model with 3 rows, 2 columns and 4 nonzeros\n",
      "Model fingerprint: 0x6937dfc8\n",
      "Coefficient statistics:\n",
      "  Matrix range     [1e+00, 1e+00]\n",
      "  Objective range  [1e-01, 1e-01]\n",
      "  Bounds range     [0e+00, 0e+00]\n",
      "  RHS range        [2e+04, 8e+04]\n",
      "Presolve removed 3 rows and 2 columns\n",
      "Presolve time: 0.01s\n",
      "Presolve: All rows and columns removed\n",
      "Iteration    Objective       Primal Inf.    Dual Inf.      Time\n",
      "       0    1.0600000e+04   0.000000e+00   0.000000e+00      0s\n",
      "\n",
      "Solved in 0 iterations and 0.01 seconds\n",
      "Optimal objective  1.060000000e+04\n"
     ]
    }
   ],
   "source": [
    "A1.optimize()"
   ]
  },
  {
   "cell_type": "code",
   "execution_count": 8,
   "metadata": {},
   "outputs": [],
   "source": [
    "A1.write(\"Q1a.lp\")"
   ]
  },
  {
   "cell_type": "code",
   "execution_count": 9,
   "metadata": {},
   "outputs": [],
   "source": [
    "return_a = A1.ObjVal/80000\n",
    "risk_a = (sum(X[i].x*risk[i] for i in X))/80000"
   ]
  },
  {
   "cell_type": "code",
   "execution_count": 10,
   "metadata": {},
   "outputs": [
    {
     "name": "stdout",
     "output_type": "stream",
     "text": [
      "The maximum return is 0.1325.\n",
      "The risk is 0.55.\n",
      "The investment in fund A is $60000.0.\n",
      "The investment in fund B is $20000.0.\n"
     ]
    }
   ],
   "source": [
    "print(\"The maximum return is {}.\".format(return_a))\n",
    "print(\"The risk is {}.\".format(risk_a))\n",
    "print(\"The investment in fund A is ${}.\".format(X[\"A\"].x))\n",
    "print(\"The investment in fund B is ${}.\".format(X[\"B\"].x))"
   ]
  },
  {
   "cell_type": "markdown",
   "metadata": {},
   "source": [
    "# b. Minimize risk"
   ]
  },
  {
   "cell_type": "code",
   "execution_count": 11,
   "metadata": {},
   "outputs": [],
   "source": [
    "A2 = grb.Model('Q1b')"
   ]
  },
  {
   "cell_type": "code",
   "execution_count": 12,
   "metadata": {},
   "outputs": [],
   "source": [
    "X2 = A2.addVars(fund,obj = risk,name = \"X\")"
   ]
  },
  {
   "cell_type": "code",
   "execution_count": 13,
   "metadata": {},
   "outputs": [
    {
     "data": {
      "text/plain": [
       "<gurobi.Constr *Awaiting Model Update*>"
      ]
     },
     "execution_count": 13,
     "metadata": {},
     "output_type": "execute_result"
    }
   ],
   "source": [
    "A2.addConstr(X2[\"A\"]+X2[\"B\"]==80000)\n",
    "A2.addConstr(X2[\"A\"]>=30000)\n",
    "A2.addConstr(X2[\"B\"]>=20000)"
   ]
  },
  {
   "cell_type": "code",
   "execution_count": 14,
   "metadata": {},
   "outputs": [],
   "source": [
    "A2.ModelSense = grb.GRB.MINIMIZE"
   ]
  },
  {
   "cell_type": "code",
   "execution_count": 15,
   "metadata": {},
   "outputs": [],
   "source": [
    "A2.write(\"Q1b.lp\")"
   ]
  },
  {
   "cell_type": "code",
   "execution_count": 16,
   "metadata": {},
   "outputs": [
    {
     "name": "stdout",
     "output_type": "stream",
     "text": [
      "Gurobi Optimizer version 9.0.3 build v9.0.3rc0 (mac64)\n",
      "Optimize a model with 3 rows, 2 columns and 4 nonzeros\n",
      "Model fingerprint: 0xe99ce532\n",
      "Coefficient statistics:\n",
      "  Matrix range     [1e+00, 1e+00]\n",
      "  Objective range  [4e-01, 6e-01]\n",
      "  Bounds range     [0e+00, 0e+00]\n",
      "  RHS range        [2e+04, 8e+04]\n",
      "Presolve removed 3 rows and 2 columns\n",
      "Presolve time: 0.01s\n",
      "Presolve: All rows and columns removed\n",
      "Iteration    Objective       Primal Inf.    Dual Inf.      Time\n",
      "       0    3.8000000e+04   0.000000e+00   0.000000e+00      0s\n",
      "\n",
      "Solved in 0 iterations and 0.01 seconds\n",
      "Optimal objective  3.800000000e+04\n"
     ]
    }
   ],
   "source": [
    "A2.optimize()"
   ]
  },
  {
   "cell_type": "code",
   "execution_count": 17,
   "metadata": {},
   "outputs": [],
   "source": [
    "risk_b = A2.ObjVal/80000\n",
    "return_b = (sum(X2[i].x*return_rate[i] for i in X2))/80000"
   ]
  },
  {
   "cell_type": "code",
   "execution_count": 18,
   "metadata": {},
   "outputs": [
    {
     "name": "stdout",
     "output_type": "stream",
     "text": [
      "The minimum risk is 0.475.\n",
      "The return is 0.12125.\n",
      "The investment in fund A is $30000.0.\n",
      "The investment in fund B is $50000.0.\n"
     ]
    }
   ],
   "source": [
    "print(\"The minimum risk is {}.\".format(risk_b))\n",
    "print(\"The return is {}.\".format(return_b))\n",
    "\n",
    "print(\"The investment in fund A is ${}.\".format(X2[\"A\"].x))\n",
    "print(\"The investment in fund B is ${}.\".format(X2[\"B\"].x))"
   ]
  },
  {
   "cell_type": "markdown",
   "metadata": {},
   "source": [
    "# c. MINIMAX"
   ]
  },
  {
   "cell_type": "code",
   "execution_count": 19,
   "metadata": {},
   "outputs": [],
   "source": [
    "A3 = grb.Model('Q1c')"
   ]
  },
  {
   "cell_type": "code",
   "execution_count": 20,
   "metadata": {},
   "outputs": [],
   "source": [
    "X3 = A3.addVars(fund,name =\"X\")\n",
    "Q = A3.addVar(obj=1,name=\"Q\")"
   ]
  },
  {
   "cell_type": "code",
   "execution_count": 21,
   "metadata": {},
   "outputs": [],
   "source": [
    "min_risk = A2.ObjVal\n",
    "max_return = A1.ObjVal"
   ]
  },
  {
   "cell_type": "code",
   "execution_count": 22,
   "metadata": {},
   "outputs": [
    {
     "data": {
      "text/plain": [
       "<gurobi.Constr *Awaiting Model Update*>"
      ]
     },
     "execution_count": 22,
     "metadata": {},
     "output_type": "execute_result"
    }
   ],
   "source": [
    "A3.addConstr(X3[\"A\"]+X3[\"B\"]==80000)\n",
    "A3.addConstr(X3[\"A\"]>=30000)\n",
    "A3.addConstr(X3[\"B\"]>=20000)\n",
    "A3.addConstr((0.1325-(0.14*X3[\"A\"]+0.11*X3[\"B\"])/80000)/0.1325<=Q)\n",
    "A3.addConstr(((0.6*X3[\"A\"]+0.4*X3[\"B\"])/80000-0.475)/0.475<=Q)"
   ]
  },
  {
   "cell_type": "code",
   "execution_count": 23,
   "metadata": {},
   "outputs": [],
   "source": [
    "A3.ModelSense = grb.GRB.MINIMIZE"
   ]
  },
  {
   "cell_type": "code",
   "execution_count": 24,
   "metadata": {},
   "outputs": [],
   "source": [
    "A3.write(\"Q1c.lp\")"
   ]
  },
  {
   "cell_type": "code",
   "execution_count": 25,
   "metadata": {},
   "outputs": [
    {
     "name": "stdout",
     "output_type": "stream",
     "text": [
      "Gurobi Optimizer version 9.0.3 build v9.0.3rc0 (mac64)\n",
      "Optimize a model with 5 rows, 3 columns and 10 nonzeros\n",
      "Model fingerprint: 0x174147e4\n",
      "Coefficient statistics:\n",
      "  Matrix range     [1e-05, 1e+00]\n",
      "  Objective range  [1e+00, 1e+00]\n",
      "  Bounds range     [0e+00, 0e+00]\n",
      "  RHS range        [1e+00, 8e+04]\n",
      "Presolve removed 3 rows and 1 columns\n",
      "Presolve time: 0.00s\n",
      "Presolved: 2 rows, 2 columns, 4 nonzeros\n",
      "\n",
      "Iteration    Objective       Primal Inf.    Dual Inf.      Time\n",
      "       0    0.0000000e+00   1.578947e-01   0.000000e+00      0s\n",
      "       2    5.5214724e-02   0.000000e+00   0.000000e+00      0s\n",
      "\n",
      "Solved in 2 iterations and 0.01 seconds\n",
      "Optimal objective  5.521472393e-02\n"
     ]
    }
   ],
   "source": [
    "A3.optimize()"
   ]
  },
  {
   "cell_type": "code",
   "execution_count": 26,
   "metadata": {},
   "outputs": [],
   "source": [
    "Q = A3.ObjVal\n",
    "risk_c = (sum(X3[i].x*risk[i] for i in X3))/80000\n",
    "return_c = (sum(X3[i].x*return_rate[i] for i in X3))/80000"
   ]
  },
  {
   "cell_type": "code",
   "execution_count": 27,
   "metadata": {},
   "outputs": [
    {
     "name": "stdout",
     "output_type": "stream",
     "text": [
      "The minimum Q is 0.055214723926380715.\n",
      "The return is 0.1251840490797546.\n",
      "The risk is 0.5012269938650308.\n",
      "The investment in fund A is $40490.797546012305.\n",
      "The investment in fund B is $39509.202453987695.\n"
     ]
    }
   ],
   "source": [
    "print(\"The minimum Q is {}.\".format(Q))\n",
    "print(\"The return is {}.\".format(return_c))\n",
    "print(\"The risk is {}.\".format(risk_c))\n",
    "print(\"The investment in fund A is ${}.\".format(X3[\"A\"].x))\n",
    "print(\"The investment in fund B is ${}.\".format(X3[\"B\"].x))"
   ]
  },
  {
   "cell_type": "code",
   "execution_count": null,
   "metadata": {},
   "outputs": [],
   "source": []
  }
 ],
 "metadata": {
  "kernelspec": {
   "display_name": "Python 3",
   "language": "python",
   "name": "python3"
  },
  "language_info": {
   "codemirror_mode": {
    "name": "ipython",
    "version": 3
   },
   "file_extension": ".py",
   "mimetype": "text/x-python",
   "name": "python",
   "nbconvert_exporter": "python",
   "pygments_lexer": "ipython3",
   "version": "3.7.6"
  }
 },
 "nbformat": 4,
 "nbformat_minor": 4
}
