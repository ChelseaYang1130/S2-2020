{
 "cells": [
  {
   "cell_type": "code",
   "execution_count": 1,
   "metadata": {},
   "outputs": [],
   "source": [
    "import gurobi as grb"
   ]
  },
  {
   "cell_type": "markdown",
   "metadata": {},
   "source": [
    "# a."
   ]
  },
  {
   "cell_type": "code",
   "execution_count": 2,
   "metadata": {},
   "outputs": [],
   "source": [
    "A1 = grb.Model('Q3a')"
   ]
  },
  {
   "cell_type": "code",
   "execution_count": 3,
   "metadata": {},
   "outputs": [],
   "source": [
    "cost  = {\"L\":650,\"M\":500,\"S\":250}\n",
    "pollute = {\"L\":8,\"M\":5,\"S\":7}\n",
    "safety = {\"L\":9,\"M\":8,\"S\":6}\n",
    "capacity = {\"L\":8,\"M\":5,\"S\":3}\n",
    "X1 = A1.addVars(cost, obj=cost,name =\"X\",vtype=grb.GRB.INTEGER)"
   ]
  },
  {
   "cell_type": "code",
   "execution_count": 4,
   "metadata": {},
   "outputs": [
    {
     "data": {
      "text/plain": [
       "<gurobi.Constr *Awaiting Model Update*>"
      ]
     },
     "execution_count": 4,
     "metadata": {},
     "output_type": "execute_result"
    }
   ],
   "source": [
    "A1.addConstr(sum(X1[i] for i in X1)==70,name=\"Total_trucks\")\n",
    "A1.addConstr(X1[\"L\"]>=70*0.2,name=\"Minimum_large_trucks\")\n",
    "A1.addConstr(sum(X1[i]*capacity[i] for i in X1)>=350,name=\"Total_capacity\")"
   ]
  },
  {
   "cell_type": "code",
   "execution_count": 5,
   "metadata": {},
   "outputs": [],
   "source": [
    "A1.ModelSense = grb.GRB.MINIMIZE"
   ]
  },
  {
   "cell_type": "code",
   "execution_count": 6,
   "metadata": {},
   "outputs": [],
   "source": [
    "A1.write('Q3a.lp')"
   ]
  },
  {
   "cell_type": "code",
   "execution_count": 7,
   "metadata": {},
   "outputs": [
    {
     "name": "stdout",
     "output_type": "stream",
     "text": [
      "Gurobi Optimizer version 9.0.3 build v9.0.3rc0 (mac64)\n",
      "Optimize a model with 3 rows, 3 columns and 7 nonzeros\n",
      "Model fingerprint: 0xa50cdc0d\n",
      "Variable types: 0 continuous, 3 integer (0 binary)\n",
      "Coefficient statistics:\n",
      "  Matrix range     [1e+00, 8e+00]\n",
      "  Objective range  [2e+02, 6e+02]\n",
      "  Bounds range     [0e+00, 0e+00]\n",
      "  RHS range        [1e+01, 4e+02]\n",
      "Presolve removed 1 rows and 0 columns\n",
      "Presolve time: 0.00s\n",
      "Presolved: 2 rows, 3 columns, 5 nonzeros\n",
      "Variable types: 0 continuous, 3 integer (0 binary)\n",
      "Found heuristic solution: objective 45100.000000\n",
      "\n",
      "Root relaxation: objective 2.870000e+04, 1 iterations, 0.00 seconds\n",
      "\n",
      "    Nodes    |    Current Node    |     Objective Bounds      |     Work\n",
      " Expl Unexpl |  Obj  Depth IntInf | Incumbent    BestBd   Gap | It/Node Time\n",
      "\n",
      "*    0     0               0    28700.000000 28700.0000  0.00%     -    0s\n",
      "\n",
      "Explored 0 nodes (1 simplex iterations) in 0.01 seconds\n",
      "Thread count was 8 (of 8 available processors)\n",
      "\n",
      "Solution count 2: 28700 45100 \n",
      "\n",
      "Optimal solution found (tolerance 1.00e-04)\n",
      "Best objective 2.870000000000e+04, best bound 2.870000000000e+04, gap 0.0000%\n"
     ]
    }
   ],
   "source": [
    "A1.optimize()"
   ]
  },
  {
   "cell_type": "code",
   "execution_count": 8,
   "metadata": {},
   "outputs": [
    {
     "name": "stdout",
     "output_type": "stream",
     "text": [
      "The minimum cost is $28700.0\n",
      "X[L]=28\n",
      "X[M]=0\n",
      "X[S]=42\n"
     ]
    }
   ],
   "source": [
    "print(\"The minimum cost is ${}\".format(A1.ObjVal))\n",
    "for i in X1:\n",
    "    print(\"X[{}]={}\".format(i,int(X1[i].x)))"
   ]
  },
  {
   "cell_type": "code",
   "execution_count": 9,
   "metadata": {},
   "outputs": [
    {
     "name": "stdout",
     "output_type": "stream",
     "text": [
      "The mean pollute rating is 7.4.\n",
      "The mean safety rating is 7.2.\n"
     ]
    }
   ],
   "source": [
    "mean_pollute = sum(X1[i].x*pollute[i] for i in X1)/70\n",
    "mean_safety = sum(X1[i].x*safety[i] for i in X1)/70\n",
    "print(\"The mean pollute rating is {}.\".format(mean_pollute))\n",
    "print(\"The mean safety rating is {}.\".format(mean_safety))"
   ]
  },
  {
   "cell_type": "markdown",
   "metadata": {},
   "source": [
    "# b."
   ]
  },
  {
   "cell_type": "code",
   "execution_count": 10,
   "metadata": {},
   "outputs": [],
   "source": [
    "A2 = grb.Model('Q3b')"
   ]
  },
  {
   "cell_type": "code",
   "execution_count": 11,
   "metadata": {},
   "outputs": [],
   "source": [
    "cost  = {\"L\":650,\"M\":500,\"S\":250}\n",
    "mean_pollute = {\"L\":8,\"M\":5,\"S\":7}\n",
    "safety = {\"L\":9,\"M\":8,\"S\":6}\n",
    "capacity = {\"L\":8,\"M\":5,\"S\":3}\n",
    "\n",
    "X2 = A2.addVars(mean_pollute,obj=mean_pollute, name=\"X\",vtype=grb.GRB.INTEGER)\n"
   ]
  },
  {
   "cell_type": "code",
   "execution_count": 12,
   "metadata": {},
   "outputs": [
    {
     "data": {
      "text/plain": [
       "<gurobi.Constr *Awaiting Model Update*>"
      ]
     },
     "execution_count": 12,
     "metadata": {},
     "output_type": "execute_result"
    }
   ],
   "source": [
    "A2.addConstr(sum(X2[i] for i in X2)==70,name=\"Total_trucks\")\n",
    "A2.addConstr(X2[\"L\"]>=70*0.2,name=\"Minimum_large_trucks\")\n",
    "A2.addConstr(sum(X2[i]*capacity[i] for i in X2)>=350,name=\"Total_capacity\")"
   ]
  },
  {
   "cell_type": "code",
   "execution_count": 13,
   "metadata": {},
   "outputs": [],
   "source": [
    "A2.ModelSense = grb.GRB.MINIMIZE"
   ]
  },
  {
   "cell_type": "code",
   "execution_count": 14,
   "metadata": {},
   "outputs": [
    {
     "name": "stdout",
     "output_type": "stream",
     "text": [
      "Gurobi Optimizer version 9.0.3 build v9.0.3rc0 (mac64)\n",
      "Optimize a model with 3 rows, 3 columns and 7 nonzeros\n",
      "Model fingerprint: 0x5b4098dd\n",
      "Variable types: 0 continuous, 3 integer (0 binary)\n",
      "Coefficient statistics:\n",
      "  Matrix range     [1e+00, 8e+00]\n",
      "  Objective range  [5e+00, 8e+00]\n",
      "  Bounds range     [0e+00, 0e+00]\n",
      "  RHS range        [1e+01, 4e+02]\n",
      "Presolve removed 3 rows and 3 columns\n",
      "Presolve time: 0.00s\n",
      "Presolve: All rows and columns removed\n",
      "\n",
      "Explored 0 nodes (0 simplex iterations) in 0.02 seconds\n",
      "Thread count was 1 (of 8 available processors)\n",
      "\n",
      "Solution count 1: 392 \n",
      "\n",
      "Optimal solution found (tolerance 1.00e-04)\n",
      "Best objective 3.920000000000e+02, best bound 3.920000000000e+02, gap 0.0000%\n"
     ]
    }
   ],
   "source": [
    "A2.optimize()"
   ]
  },
  {
   "cell_type": "code",
   "execution_count": 15,
   "metadata": {},
   "outputs": [],
   "source": [
    "A2.write('Q3b.lp')"
   ]
  },
  {
   "cell_type": "code",
   "execution_count": 16,
   "metadata": {},
   "outputs": [
    {
     "name": "stdout",
     "output_type": "stream",
     "text": [
      "X[L]=14\n",
      "X[M]=56\n",
      "X[S]=0\n",
      "The minimum mean pollute rating is 5.6.\n",
      "The mean safety rating is 8.2.\n",
      "The cost is 37100.0.\n"
     ]
    }
   ],
   "source": [
    "mean_safety_b = sum(X2[i].x*safety[i] for i in X2)/70\n",
    "cost_b = sum(X2[i].x*cost[i] for i in X2)\n",
    "for i in X2:\n",
    "    print(\"X[{}]={}\".format(i,int(X2[i].x)))\n",
    "    \n",
    "print(\"The minimum mean pollute rating is {}.\".format(A2.ObjVal/70))\n",
    "print(\"The mean safety rating is {}.\".format(mean_safety_b))\n",
    "print(\"The cost is {}.\".format(cost_b))"
   ]
  },
  {
   "cell_type": "markdown",
   "metadata": {},
   "source": [
    "# c"
   ]
  },
  {
   "cell_type": "code",
   "execution_count": 17,
   "metadata": {},
   "outputs": [],
   "source": [
    "A3 = grb.Model('Q3c')"
   ]
  },
  {
   "cell_type": "code",
   "execution_count": 18,
   "metadata": {},
   "outputs": [],
   "source": [
    "cost  = {\"L\":650,\"M\":500,\"S\":250}\n",
    "pollute = {\"L\":8,\"M\":5,\"S\":7}\n",
    "mean_safety = {\"L\":9,\"M\":8,\"S\":6}\n",
    "capacity = {\"L\":8,\"M\":5,\"S\":3}\n",
    "\n",
    "X3 = A3.addVars(mean_safety,obj=mean_safety,name=\"X\",vtype=grb.GRB.INTEGER)"
   ]
  },
  {
   "cell_type": "code",
   "execution_count": 19,
   "metadata": {},
   "outputs": [
    {
     "data": {
      "text/plain": [
       "<gurobi.Constr *Awaiting Model Update*>"
      ]
     },
     "execution_count": 19,
     "metadata": {},
     "output_type": "execute_result"
    }
   ],
   "source": [
    "A3.addConstr(sum(X3[i] for i in X3)==70,name=\"Total_trucks\")\n",
    "A3.addConstr(X3[\"L\"]>=70*0.2,name=\"Minimum_large_trucks\")\n",
    "A3.addConstr(sum(X3[i]*capacity[i] for i in X3)>=350,name=\"Total_capacity\")"
   ]
  },
  {
   "cell_type": "code",
   "execution_count": 20,
   "metadata": {},
   "outputs": [],
   "source": [
    "A3.ModelSense = grb.GRB.MAXIMIZE"
   ]
  },
  {
   "cell_type": "code",
   "execution_count": 21,
   "metadata": {},
   "outputs": [
    {
     "name": "stdout",
     "output_type": "stream",
     "text": [
      "Gurobi Optimizer version 9.0.3 build v9.0.3rc0 (mac64)\n",
      "Optimize a model with 3 rows, 3 columns and 7 nonzeros\n",
      "Model fingerprint: 0x34a1bab1\n",
      "Variable types: 0 continuous, 3 integer (0 binary)\n",
      "Coefficient statistics:\n",
      "  Matrix range     [1e+00, 8e+00]\n",
      "  Objective range  [6e+00, 9e+00]\n",
      "  Bounds range     [0e+00, 0e+00]\n",
      "  RHS range        [1e+01, 4e+02]\n",
      "Presolve removed 3 rows and 3 columns\n",
      "Presolve time: 0.00s\n",
      "Presolve: All rows and columns removed\n",
      "\n",
      "Explored 0 nodes (0 simplex iterations) in 0.01 seconds\n",
      "Thread count was 1 (of 8 available processors)\n",
      "\n",
      "Solution count 1: 630 \n",
      "\n",
      "Optimal solution found (tolerance 1.00e-04)\n",
      "Best objective 6.300000000000e+02, best bound 6.300000000000e+02, gap 0.0000%\n"
     ]
    }
   ],
   "source": [
    "A3.optimize()"
   ]
  },
  {
   "cell_type": "code",
   "execution_count": 22,
   "metadata": {},
   "outputs": [
    {
     "name": "stdout",
     "output_type": "stream",
     "text": [
      "X[L]=70\n",
      "X[M]=0\n",
      "X[S]=0\n",
      "The maximum mean safety rating is 9.0.\n",
      "The mean pollute rating is 8.0.\n",
      "The cost is 45500.0.\n"
     ]
    }
   ],
   "source": [
    "mean_pollute_c = sum(X3[i].x*pollute[i] for i in X3)/70\n",
    "cost_c = sum(X3[i].x*cost[i] for i in X3)\n",
    "for i in X3:\n",
    "    print(\"X[{}]={}\".format(i,int(X3[i].x)))\n",
    "    \n",
    "print(\"The maximum mean safety rating is {}.\".format(A3.ObjVal/70))\n",
    "print(\"The mean pollute rating is {}.\".format(mean_pollute_c))\n",
    "print(\"The cost is {}.\".format(cost_c))"
   ]
  },
  {
   "cell_type": "markdown",
   "metadata": {},
   "source": [
    "# d"
   ]
  },
  {
   "cell_type": "code",
   "execution_count": 23,
   "metadata": {},
   "outputs": [],
   "source": [
    "A4 = grb.Model('Q3d')"
   ]
  },
  {
   "cell_type": "code",
   "execution_count": 24,
   "metadata": {},
   "outputs": [],
   "source": [
    "cost  = {\"L\":650,\"M\":500,\"S\":250}\n",
    "pollute = {\"L\":8,\"M\":5,\"S\":7}\n",
    "safety = {\"L\":9,\"M\":8,\"S\":6}\n",
    "capacity = {\"L\":8,\"M\":5,\"S\":3}\n",
    "X4 = A4.addVars(cost, obj=0,name =\"X\",vtype=grb.GRB.INTEGER)\n",
    "Q = A4.addVar(obj=1,name =\"Q\")"
   ]
  },
  {
   "cell_type": "code",
   "execution_count": 25,
   "metadata": {},
   "outputs": [
    {
     "data": {
      "text/plain": [
       "<gurobi.Constr *Awaiting Model Update*>"
      ]
     },
     "execution_count": 25,
     "metadata": {},
     "output_type": "execute_result"
    }
   ],
   "source": [
    "A4.addConstr(sum(X4[i] for i in X4)==70,name=\"Total_trucks\")\n",
    "A4.addConstr(X4[\"L\"]>=70*0.2,name=\"Minimum_large_trucks\")\n",
    "A4.addConstr(sum(X4[i]*capacity[i] for i in X4)>=350,name=\"Total_capacity\")\n",
    "\n",
    "A4.addConstr(2*((9-(sum(X4[i]*safety[i] for i in X4)/70))/9)<=Q, name = \"safety\")\n",
    "A4.addConstr((sum(X4[i]*pollute[i] for i in X4)/70-5.6)/5.6<=Q,name = \"pollute\")\n",
    "A4.addConstr((sum(X4[i]*cost[i] for i in X4)-28700)/28700<=Q,name=\"cost\")"
   ]
  },
  {
   "cell_type": "code",
   "execution_count": 26,
   "metadata": {},
   "outputs": [],
   "source": [
    "A4.write('Q3d.lp')"
   ]
  },
  {
   "cell_type": "code",
   "execution_count": 27,
   "metadata": {},
   "outputs": [],
   "source": [
    "A4.ModelSense = grb.GRB.MINIMIZE"
   ]
  },
  {
   "cell_type": "code",
   "execution_count": 28,
   "metadata": {},
   "outputs": [
    {
     "name": "stdout",
     "output_type": "stream",
     "text": [
      "Gurobi Optimizer version 9.0.3 build v9.0.3rc0 (mac64)\n",
      "Optimize a model with 6 rows, 4 columns and 19 nonzeros\n",
      "Model fingerprint: 0xcdccce48\n",
      "Variable types: 1 continuous, 3 integer (0 binary)\n",
      "Coefficient statistics:\n",
      "  Matrix range     [9e-03, 8e+00]\n",
      "  Objective range  [1e+00, 1e+00]\n",
      "  Bounds range     [0e+00, 0e+00]\n",
      "  RHS range        [1e+00, 4e+02]\n",
      "Presolve removed 1 rows and 0 columns\n",
      "Presolve time: 0.00s\n",
      "Presolved: 5 rows, 4 columns, 14 nonzeros\n",
      "Variable types: 1 continuous, 3 integer (0 binary)\n",
      "Found heuristic solution: objective 0.3111111\n",
      "\n",
      "Root relaxation: objective 2.262211e-01, 3 iterations, 0.00 seconds\n",
      "\n",
      "    Nodes    |    Current Node    |     Objective Bounds      |     Work\n",
      " Expl Unexpl |  Obj  Depth IntInf | Incumbent    BestBd   Gap | It/Node Time\n",
      "\n",
      "     0     0    0.22622    0    2    0.31111    0.22622  27.3%     -    0s\n",
      "H    0     0                       0.2285714    0.22622  1.03%     -    0s\n",
      "     0     0    0.22646    0    2    0.22857    0.22646  0.92%     -    0s\n",
      "H    0     0                       0.2282230    0.22646  0.77%     -    0s\n",
      "     0     0    0.22646    0    2    0.22822    0.22646  0.77%     -    0s\n",
      "\n",
      "Explored 1 nodes (5 simplex iterations) in 0.02 seconds\n",
      "Thread count was 8 (of 8 available processors)\n",
      "\n",
      "Solution count 3: 0.228223 0.228571 0.311111 \n",
      "\n",
      "Optimal solution found (tolerance 1.00e-04)\n",
      "Best objective 2.282229965157e-01, best bound 2.282229965157e-01, gap 0.0000%\n"
     ]
    }
   ],
   "source": [
    "A4.optimize()"
   ]
  },
  {
   "cell_type": "code",
   "execution_count": 29,
   "metadata": {},
   "outputs": [],
   "source": [
    "safety_d = sum(X4[i].x*safety[i] for i in X4)/70\n",
    "pollute_d = sum(X4[i].x*pollute[i] for i in X4)/70\n",
    "cost_d = sum(X4[i].x*cost[i] for i in X4)"
   ]
  },
  {
   "cell_type": "code",
   "execution_count": 30,
   "metadata": {},
   "outputs": [
    {
     "name": "stdout",
     "output_type": "stream",
     "text": [
      "X[L]=15\n",
      "X[M]=47\n",
      "X[S]=8\n",
      "The minimum value of Q is 0.22822299651567865.\n",
      "The mean safety rating is 7.985714285714286.\n",
      "The mean pollute rating is 5.871428571428571.\n",
      "The cost is 35250.0.\n"
     ]
    }
   ],
   "source": [
    "for i in X4:\n",
    "    print(\"X[{}]={}\".format(i,int(X4[i].x)))\n",
    "\n",
    "print(\"The minimum value of Q is {}.\".format(A4.ObjVal))\n",
    "print(\"The mean safety rating is {}.\".format(safety_d))\n",
    "print(\"The mean pollute rating is {}.\".format(pollute_d))\n",
    "print(\"The cost is {}.\".format(cost_d))"
   ]
  },
  {
   "cell_type": "code",
   "execution_count": null,
   "metadata": {},
   "outputs": [],
   "source": []
  }
 ],
 "metadata": {
  "kernelspec": {
   "display_name": "Python 3",
   "language": "python",
   "name": "python3"
  },
  "language_info": {
   "codemirror_mode": {
    "name": "ipython",
    "version": 3
   },
   "file_extension": ".py",
   "mimetype": "text/x-python",
   "name": "python",
   "nbconvert_exporter": "python",
   "pygments_lexer": "ipython3",
   "version": "3.7.6"
  }
 },
 "nbformat": 4,
 "nbformat_minor": 4
}
