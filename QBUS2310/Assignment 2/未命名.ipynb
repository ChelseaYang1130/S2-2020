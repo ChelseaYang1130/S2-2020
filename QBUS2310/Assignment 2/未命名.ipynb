{
 "cells": [
  {
   "cell_type": "code",
   "execution_count": 41,
   "metadata": {},
   "outputs": [],
   "source": [
    "import gurobi as grb"
   ]
  },
  {
   "cell_type": "code",
   "execution_count": 50,
   "metadata": {},
   "outputs": [],
   "source": [
    "A = grb.Model('Q2')"
   ]
  },
  {
   "cell_type": "code",
   "execution_count": 51,
   "metadata": {},
   "outputs": [],
   "source": [
    "task = ['A','B','C','D','E','F','G','H','I']\n",
    "t = {'A':13,'B':23,'C':18,'D':8,'E':8,'F':6,'G':7,'H':4,'I':4}\n",
    "crash = {'A':3,'B':2,'C':3,'D':2,'E':3,'F':2,'G':2,'H':1,'I':2}"
   ]
  },
  {
   "cell_type": "code",
   "execution_count": 52,
   "metadata": {},
   "outputs": [],
   "source": [
    "T = A.addVars(task, name='T',vtype=grb.GRB.INTEGER)\n",
    "# t = A.addVars(task, name='t',vtype=grb.GRB.INTEGER)\n",
    "C = A.addVars(task, name='C',vtype=grb.GRB.INTEGER)\n",
    "A.setObjective(T['I']+t['I']-C['I'])"
   ]
  },
  {
   "cell_type": "code",
   "execution_count": 53,
   "metadata": {},
   "outputs": [],
   "source": [
    "A.addConstr(T['F']-T['B']>=t['B']-C['B'])\n",
    "A.addConstr(T['E']-T['A']>=t['A']-C['A'])\n",
    "A.addConstr(T['E']-T['D']>=t['D']-C['D'])\n",
    "A.addConstr(T['G']-T['C']>=t['D']-C['D'])\n",
    "A.addConstr(T['F']-T['E']>=t['E']-C['E'])\n",
    "A.addConstr(T['G']-T['E']>=t['E']-C['E'])\n",
    "A.addConstr(T['H']-T['G']>=t['G']-C['G'])\n",
    "A.addConstr(T['H']-T['F']>=t['F']-C['F'])\n",
    "A.addConstr(T['I']-T['H']>=t['H']-C['H'])\n",
    "\n",
    "for i in task:\n",
    "    A.addConstr(C[i]<=crash[i])"
   ]
  },
  {
   "cell_type": "code",
   "execution_count": 54,
   "metadata": {},
   "outputs": [],
   "source": [
    "A.ModelSense = grb.GRB.MINIMIZE"
   ]
  },
  {
   "cell_type": "code",
   "execution_count": 55,
   "metadata": {},
   "outputs": [],
   "source": [
    "A.write('Crashing.lp')"
   ]
  },
  {
   "cell_type": "code",
   "execution_count": 56,
   "metadata": {},
   "outputs": [
    {
     "name": "stdout",
     "output_type": "stream",
     "text": [
      "Gurobi Optimizer version 9.0.3 build v9.0.3rc0 (mac64)\n",
      "Optimize a model with 18 rows, 18 columns and 36 nonzeros\n",
      "Model fingerprint: 0x67fd5b74\n",
      "Variable types: 0 continuous, 18 integer (0 binary)\n",
      "Coefficient statistics:\n",
      "  Matrix range     [1e+00, 1e+00]\n",
      "  Objective range  [1e+00, 1e+00]\n",
      "  Bounds range     [0e+00, 0e+00]\n",
      "  RHS range        [1e+00, 2e+01]\n",
      "Found heuristic solution: objective 31.0000000\n",
      "Presolve removed 18 rows and 18 columns\n",
      "Presolve time: 0.00s\n",
      "Presolve: All rows and columns removed\n",
      "\n",
      "Explored 0 nodes (0 simplex iterations) in 0.01 seconds\n",
      "Thread count was 1 (of 8 available processors)\n",
      "\n",
      "Solution count 2: 30 \n",
      "\n",
      "Optimal solution found (tolerance 1.00e-04)\n",
      "Best objective 3.000000000000e+01, best bound 3.000000000000e+01, gap 0.0000%\n"
     ]
    }
   ],
   "source": [
    "A.optimize()"
   ]
  },
  {
   "cell_type": "code",
   "execution_count": 58,
   "metadata": {},
   "outputs": [
    {
     "name": "stdout",
     "output_type": "stream",
     "text": [
      "The earliest compeletion time is 28.0 days.\n",
      "Task A is crashed by 3.0 days.\n",
      "Task B is crashed by 2.0 days.\n",
      "Task C is crashed by -0.0 days.\n",
      "Task D is crashed by 2.0 days.\n",
      "Task E is crashed by 3.0 days.\n",
      "Task F is crashed by 2.0 days.\n",
      "Task G is crashed by 2.0 days.\n",
      "Task H is crashed by 1.0 days.\n",
      "Task I is crashed by 2.0 days.\n"
     ]
    }
   ],
   "source": [
    "print(\"The earliest compeletion time is {} days.\".format(T['I'].x))\n",
    "for i in task:\n",
    "    print(\"Task {} is crashed by {} days.\".format(i,C[i].x))"
   ]
  },
  {
   "cell_type": "code",
   "execution_count": null,
   "metadata": {},
   "outputs": [],
   "source": []
  }
 ],
 "metadata": {
  "kernelspec": {
   "display_name": "Python 3",
   "language": "python",
   "name": "python3"
  },
  "language_info": {
   "codemirror_mode": {
    "name": "ipython",
    "version": 3
   },
   "file_extension": ".py",
   "mimetype": "text/x-python",
   "name": "python",
   "nbconvert_exporter": "python",
   "pygments_lexer": "ipython3",
   "version": "3.7.6"
  }
 },
 "nbformat": 4,
 "nbformat_minor": 4
}
