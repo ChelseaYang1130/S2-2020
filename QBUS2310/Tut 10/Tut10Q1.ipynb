{
 "cells": [
  {
   "cell_type": "code",
   "execution_count": 25,
   "metadata": {},
   "outputs": [],
   "source": [
    "import gurobi as grb"
   ]
  },
  {
   "cell_type": "code",
   "execution_count": 37,
   "metadata": {},
   "outputs": [],
   "source": [
    "model = grb.Model('Q1')"
   ]
  },
  {
   "cell_type": "code",
   "execution_count": 38,
   "metadata": {},
   "outputs": [],
   "source": [
    "time = {\"A\":3,\"B\":2,\"C\":5,\"D\":8,\"E\":4,\"F\":2}\n",
    "S = model.addVars(time,name=\"S\")\n",
    "F = model.addVars(time,name=\"F\")\n",
    "\n",
    "model.setObjective(F[\"F\"])"
   ]
  },
  {
   "cell_type": "code",
   "execution_count": 42,
   "metadata": {},
   "outputs": [],
   "source": [
    "model.modelSense = grb.GRB.MINIMIZE"
   ]
  },
  {
   "cell_type": "code",
   "execution_count": 41,
   "metadata": {},
   "outputs": [],
   "source": [
    "for a in time:\n",
    "    model.addConstr(S[a]+time[a]==F[a])"
   ]
  },
  {
   "cell_type": "code",
   "execution_count": 49,
   "metadata": {},
   "outputs": [
    {
     "data": {
      "text/plain": [
       "<gurobi.Constr *Awaiting Model Update*>"
      ]
     },
     "execution_count": 49,
     "metadata": {},
     "output_type": "execute_result"
    }
   ],
   "source": [
    "model.addConstr(S[\"B\"]>=F[\"A\"])\n",
    "model.addConstr(S[\"C\"]>=F[\"A\"])\n",
    "model.addConstr(S[\"D\"]>=F[\"B\"])\n",
    "model.addConstr(S[\"D\"]>=F[\"C\"])\n",
    "model.addConstr(S[\"E\"]>=F[\"B\"])\n",
    "model.addConstr(S[\"E\"]>=F[\"C\"])\n",
    "model.addConstr(S[\"F\"]>=F[\"D\"])\n"
   ]
  },
  {
   "cell_type": "code",
   "execution_count": 50,
   "metadata": {},
   "outputs": [
    {
     "name": "stdout",
     "output_type": "stream",
     "text": [
      "Gurobi Optimizer version 9.0.3 build v9.0.3rc0 (mac64)\n",
      "Optimize a model with 13 rows, 12 columns and 26 nonzeros\n",
      "Coefficient statistics:\n",
      "  Matrix range     [1e+00, 1e+00]\n",
      "  Objective range  [1e+00, 1e+00]\n",
      "  Bounds range     [0e+00, 0e+00]\n",
      "  RHS range        [2e+00, 8e+00]\n",
      "Iteration    Objective       Primal Inf.    Dual Inf.      Time\n",
      "       0    2.0000000e+00   2.800000e+01   0.000000e+00      0s\n",
      "       5    1.8000000e+01   0.000000e+00   0.000000e+00      0s\n",
      "\n",
      "Solved in 5 iterations and 0.01 seconds\n",
      "Optimal objective  1.800000000e+01\n"
     ]
    }
   ],
   "source": [
    "model.optimize()"
   ]
  },
  {
   "cell_type": "code",
   "execution_count": 51,
   "metadata": {},
   "outputs": [],
   "source": [
    "model.write('Tut10Q1.lp')"
   ]
  },
  {
   "cell_type": "code",
   "execution_count": 52,
   "metadata": {},
   "outputs": [
    {
     "name": "stdout",
     "output_type": "stream",
     "text": [
      "Activity A satarts at time 0, finishes at time 3!\n",
      "Activity B satarts at time 3, finishes at time 5!\n",
      "Activity C satarts at time 3, finishes at time 8!\n",
      "Activity D satarts at time 8, finishes at time 16!\n",
      "Activity E satarts at time 8, finishes at time 12!\n",
      "Activity F satarts at time 16, finishes at time 18!\n"
     ]
    }
   ],
   "source": [
    "for a in time:\n",
    "    print(\"Activity {} satarts at time {}, finishes at time {}!\".format(a,int(S[a].x),int(F[a].x)))"
   ]
  },
  {
   "cell_type": "code",
   "execution_count": null,
   "metadata": {},
   "outputs": [],
   "source": []
  }
 ],
 "metadata": {
  "kernelspec": {
   "display_name": "Python 3",
   "language": "python",
   "name": "python3"
  },
  "language_info": {
   "codemirror_mode": {
    "name": "ipython",
    "version": 3
   },
   "file_extension": ".py",
   "mimetype": "text/x-python",
   "name": "python",
   "nbconvert_exporter": "python",
   "pygments_lexer": "ipython3",
   "version": "3.7.6"
  }
 },
 "nbformat": 4,
 "nbformat_minor": 4
}
