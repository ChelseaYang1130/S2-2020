{
 "cells": [
  {
   "cell_type": "code",
   "execution_count": 53,
   "metadata": {},
   "outputs": [],
   "source": [
    "import gurobi as grb"
   ]
  },
  {
   "cell_type": "code",
   "execution_count": 54,
   "metadata": {},
   "outputs": [],
   "source": [
    "A1 = grb.Model('Q1')"
   ]
  },
  {
   "cell_type": "code",
   "execution_count": 55,
   "metadata": {},
   "outputs": [],
   "source": [
    "limit = {\"truck\":[45,60,15],\"railway\":[50,55,10],\"air\":[55,45,5]}\n",
    "cost = [200/1000,140/1000,400/1000,200/1000,140/1000,400/1000,200/1000,140/1000,400/1000]\n",
    "week = [1,2,3]\n",
    "way = [\"truck\",\"railway\",\"air\"]\n",
    "X = A1.addVars(week,way,name =\"X\",obj=cost)"
   ]
  },
  {
   "cell_type": "code",
   "execution_count": 56,
   "metadata": {},
   "outputs": [],
   "source": [
    "A1.addConstr(sum(X[(i,j)] for j in way for i in week)>=250000,name=\"Total delivery\")\n",
    "A1.addConstr(sum(X[(1,j)] for j in way)>=120000,name=\"By week 1\")\n",
    "A1.addConstr(sum(X[(i,j)] for j in way for i in [1,2])>=250000*0.8,name=\"By week 2\")\n",
    "A1.addConstr(sum(X[(i,\"truck\")] for i in week)>=250000*0.45,name=\"By truck\")\n",
    "A1.addConstr(sum(X[(i,\"railway\")] for i in week)>=250000*0.45,name=\"By railway\")\n",
    "A1.addConstr(sum(X[(i,\"air\")] for i in week)<=250000*0.15,name=\"By air cargo\")\n",
    "\n",
    "for i in week:\n",
    "    for j in way:\n",
    "        A1.addConstr(X[(i,j)]<=limit[j][i-1],name=\"Limit\")"
   ]
  },
  {
   "cell_type": "code",
   "execution_count": 58,
   "metadata": {},
   "outputs": [],
   "source": [
    "A1.ModelSense = grb.GRB.MINIMIZE"
   ]
  },
  {
   "cell_type": "code",
   "execution_count": 60,
   "metadata": {},
   "outputs": [
    {
     "name": "stdout",
     "output_type": "stream",
     "text": [
      "Gurobi Optimizer version 9.0.3 build v9.0.3rc0 (mac64)\n",
      "Optimize a model with 15 rows, 9 columns and 36 nonzeros\n",
      "Model fingerprint: 0xa54605dc\n",
      "Coefficient statistics:\n",
      "  Matrix range     [1e+00, 1e+00]\n",
      "  Objective range  [1e-01, 4e-01]\n",
      "  Bounds range     [0e+00, 0e+00]\n",
      "  RHS range        [5e+00, 2e+05]\n",
      "Presolve removed 10 rows and 0 columns\n",
      "Presolve time: 0.01s\n",
      "\n",
      "Solved in 0 iterations and 0.01 seconds\n",
      "Infeasible model\n"
     ]
    }
   ],
   "source": [
    "A1.optimize()"
   ]
  },
  {
   "cell_type": "code",
   "execution_count": null,
   "metadata": {},
   "outputs": [],
   "source": []
  },
  {
   "cell_type": "code",
   "execution_count": 59,
   "metadata": {},
   "outputs": [
    {
     "name": "stdout",
     "output_type": "stream",
     "text": [
      "Warning: constraint name \"Total delivery\" has a space\n"
     ]
    }
   ],
   "source": [
    "A1.write('Q1.lp')"
   ]
  },
  {
   "cell_type": "code",
   "execution_count": null,
   "metadata": {},
   "outputs": [],
   "source": []
  }
 ],
 "metadata": {
  "kernelspec": {
   "display_name": "Python 3",
   "language": "python",
   "name": "python3"
  },
  "language_info": {
   "codemirror_mode": {
    "name": "ipython",
    "version": 3
   },
   "file_extension": ".py",
   "mimetype": "text/x-python",
   "name": "python",
   "nbconvert_exporter": "python",
   "pygments_lexer": "ipython3",
   "version": "3.7.6"
  }
 },
 "nbformat": 4,
 "nbformat_minor": 4
}
