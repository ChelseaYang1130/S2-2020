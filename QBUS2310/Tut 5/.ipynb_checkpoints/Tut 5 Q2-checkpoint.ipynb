{
 "cells": [
  {
   "cell_type": "code",
   "execution_count": 1,
   "metadata": {},
   "outputs": [],
   "source": [
    "import gurobipy as grb"
   ]
  },
  {
   "cell_type": "code",
   "execution_count": 2,
   "metadata": {},
   "outputs": [
    {
     "name": "stdout",
     "output_type": "stream",
     "text": [
      "Using license file /Users/chelseayeung/gurobi.lic\n",
      "Academic license - for non-commercial use only\n"
     ]
    }
   ],
   "source": [
    "A = grb.Model('W5Q2')"
   ]
  },
  {
   "cell_type": "code",
   "execution_count": 29,
   "metadata": {},
   "outputs": [],
   "source": [
    "ships = {1:1200,2:1120}\n",
    "ports = [1,2,3]\n",
    "destinations = {1:500,2:600,3:450,4:700}\n",
    "\n",
    "distance = [[75, 88, 103,56],\n",
    "           [105,76,101,85],\n",
    "           [43,80,95,62]]\n",
    "\n",
    "Y = A.addVars(ships, ports, obj=0, vtype = grb.GRB.BINARY)\n",
    "X = A.addVars(ports, destinations, obj = distance)"
   ]
  },
  {
   "cell_type": "code",
   "execution_count": 30,
   "metadata": {},
   "outputs": [],
   "source": [
    "A.modelSense = grb.GRB.MINIMIZE"
   ]
  },
  {
   "cell_type": "code",
   "execution_count": 31,
   "metadata": {},
   "outputs": [],
   "source": [
    "for i in ports:\n",
    "    A.addConstr(sum(Y[k,i] for k in ships)<=1)"
   ]
  },
  {
   "cell_type": "code",
   "execution_count": 32,
   "metadata": {},
   "outputs": [],
   "source": [
    "for k in ships:\n",
    "    A.addConstr(sum(Y[k,i] for i in ports)==1)"
   ]
  },
  {
   "cell_type": "code",
   "execution_count": 33,
   "metadata": {},
   "outputs": [],
   "source": [
    "for i in ports:\n",
    "    A.addConstr(sum(X[i,j] for j in destinations)<=sum(Y[k,i]*ships[k] for k in ships))"
   ]
  },
  {
   "cell_type": "code",
   "execution_count": 34,
   "metadata": {},
   "outputs": [],
   "source": [
    "for j in destinations:\n",
    "    A.addConstr(sum(X[i,j] for i in ports)>=destinations[j])"
   ]
  },
  {
   "cell_type": "code",
   "execution_count": 35,
   "metadata": {},
   "outputs": [
    {
     "name": "stdout",
     "output_type": "stream",
     "text": [
      "Gurobi Optimizer version 9.0.3 build v9.0.3rc0 (mac64)\n",
      "Optimize a model with 41 rows, 78 columns and 138 nonzeros\n",
      "Model fingerprint: 0x5ee73e89\n",
      "Variable types: 66 continuous, 12 integer (12 binary)\n",
      "Coefficient statistics:\n",
      "  Matrix range     [1e+00, 1e+03]\n",
      "  Objective range  [4e+01, 1e+02]\n",
      "  Bounds range     [1e+00, 1e+00]\n",
      "  RHS range        [1e+00, 7e+02]\n",
      "\n",
      "MIP start from previous solve produced solution with objective 457550 (0.01s)\n",
      "Loaded MIP start from previous solve with objective 457550\n",
      "\n",
      "Presolve removed 29 rows and 60 columns\n",
      "Presolve time: 0.00s\n",
      "Presolved: 12 rows, 18 columns, 42 nonzeros\n",
      "Variable types: 12 continuous, 6 integer (6 binary)\n",
      "\n",
      "Root relaxation: objective 4.523500e+05, 10 iterations, 0.00 seconds\n",
      "\n",
      "    Nodes    |    Current Node    |     Objective Bounds      |     Work\n",
      " Expl Unexpl |  Obj  Depth IntInf | Incumbent    BestBd   Gap | It/Node Time\n",
      "\n",
      "     0     0 452750.000    0    2 457550.000 452750.000  1.05%     -    0s\n",
      "     0     0     cutoff    0      457550.000 457550.000  0.00%     -    0s\n",
      "\n",
      "Cutting planes:\n",
      "  Gomory: 1\n",
      "  Implied bound: 5\n",
      "  MIR: 2\n",
      "\n",
      "Explored 1 nodes (18 simplex iterations) in 0.04 seconds\n",
      "Thread count was 8 (of 8 available processors)\n",
      "\n",
      "Solution count 1: 457550 \n",
      "\n",
      "Optimal solution found (tolerance 1.00e-04)\n",
      "Best objective 4.575500000000e+05, best bound 4.575500000000e+05, gap 0.0000%\n"
     ]
    }
   ],
   "source": [
    "A.optimize()"
   ]
  },
  {
   "cell_type": "code",
   "execution_count": 36,
   "metadata": {},
   "outputs": [],
   "source": [
    "A.write('Q2.lp')"
   ]
  },
  {
   "cell_type": "code",
   "execution_count": 40,
   "metadata": {
    "scrolled": true
   },
   "outputs": [
    {
     "name": "stdout",
     "output_type": "stream",
     "text": [
      "ship 1 is going to port3\n",
      "ship 2 is going to port1\n",
      "shipping 350.0 tons from port 1 to destination 3!\n",
      "shipping 700.0 tons from port 1 to destination 4!\n",
      "shipping 500.0 tons from port 3 to destination 1!\n",
      "shipping 600.0 tons from port 3 to destination 2!\n",
      "shipping 100.0 tons from port 3 to destination 3!\n"
     ]
    }
   ],
   "source": [
    "for k in ships:\n",
    "    for i in ports:\n",
    "        if Y[k,i].x ==1:\n",
    "            print(\"ship {} is going to port{}\".format(k,i))\n",
    "            \n",
    "for i in ports:\n",
    "    for j in destinations:\n",
    "        if X[i,j].x >0:\n",
    "            print(\"shipping {} tons from port {} to destination {}!\".format(X[i,j].x,i,j))"
   ]
  }
 ],
 "metadata": {
  "kernelspec": {
   "display_name": "Python 3",
   "language": "python",
   "name": "python3"
  },
  "language_info": {
   "codemirror_mode": {
    "name": "ipython",
    "version": 3
   },
   "file_extension": ".py",
   "mimetype": "text/x-python",
   "name": "python",
   "nbconvert_exporter": "python",
   "pygments_lexer": "ipython3",
   "version": "3.7.6"
  }
 },
 "nbformat": 4,
 "nbformat_minor": 4
}
