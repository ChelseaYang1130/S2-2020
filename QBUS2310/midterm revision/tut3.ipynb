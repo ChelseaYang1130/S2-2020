{
 "cells": [
  {
   "cell_type": "markdown",
   "metadata": {},
   "source": [
    "# Q1"
   ]
  },
  {
   "cell_type": "markdown",
   "metadata": {},
   "source": [
    "Let $X_{ij}$ be the number of computers delivered from source i to destination j, where $i,j=1,2,3$.\n",
    "\n",
    "objective: Min $Z=3X_{11}+7X_{12}+6X_{13}+2X_{21}+4X_{22}+3X_{23}+4X_{31}+3X_{32}+5X_{33}$\n",
    "\n",
    "s.t.\n",
    "\n",
    "$X_{11}+X_{12}+X_{13}\\leq40$\n",
    "\n",
    "$X_{21}+X_{22}+X_{23}\\leq100$\n",
    "\n",
    "$X_{31}+X_{32}+X_{33}\\leq60$\n",
    "\n",
    "$X_{11}+X_{21}+X_{31}=70$\n",
    "\n",
    "$X_{12}+X_{22}+X_{32}=80$\n",
    "\n",
    "$X_{13}+X_{23}+X_{33}=40$\n",
    "\n",
    "$X_{12}\\geq20$\n",
    "\n",
    "$X_{31}\\geq25$\n",
    "\n",
    "$X_{11},X_{12},X_{13},X_{21},X_{22},X_{23},X_{31},X_{32},X_{33}\\geq 0$"
   ]
  },
  {
   "cell_type": "code",
   "execution_count": 42,
   "metadata": {},
   "outputs": [],
   "source": [
    "import gurobipy as grb"
   ]
  },
  {
   "cell_type": "code",
   "execution_count": 43,
   "metadata": {},
   "outputs": [],
   "source": [
    "A1 = grb.Model('Q1')"
   ]
  },
  {
   "cell_type": "code",
   "execution_count": 44,
   "metadata": {},
   "outputs": [],
   "source": [
    "coef = [[3,7,6],\n",
    "       [2,4,3],\n",
    "       [4,3,5]]\n",
    "source = {1:1,2:1,3:1}\n",
    "dest = {1:1,2:1,3:1}\n",
    "X = A1.addVars(source,dest,obj=coef)"
   ]
  },
  {
   "cell_type": "code",
   "execution_count": 45,
   "metadata": {},
   "outputs": [],
   "source": [
    "A1.ModelSense = grb.GRB.MINIMIZE"
   ]
  },
  {
   "cell_type": "code",
   "execution_count": 48,
   "metadata": {},
   "outputs": [
    {
     "data": {
      "text/plain": [
       "<gurobi.Constr *Awaiting Model Update*>"
      ]
     },
     "execution_count": 48,
     "metadata": {},
     "output_type": "execute_result"
    }
   ],
   "source": [
    "A1.addConstr(sum(X[(1,j)] for j in dest)<=40)\n",
    "A1.addConstr(sum(X[(2,j)] for j in dest)<=100)\n",
    "A1.addConstr(sum(X[(3,j)] for j in dest)<=60)\n",
    "A1.addConstr(sum(X[(i,1)] for i in source)==70)\n",
    "A1.addConstr(sum(X[(i,2)] for i in source)==80)\n",
    "A1.addConstr(sum(X[(i,3)] for i in source)==40)\n",
    "A1.addConstr(X[(3,1)]>=25)\n",
    "A1.addConstr(X[(1,2)]>=20)\n"
   ]
  },
  {
   "cell_type": "code",
   "execution_count": 49,
   "metadata": {},
   "outputs": [],
   "source": [
    "A1.write('Tut3Q1.lp')"
   ]
  },
  {
   "cell_type": "code",
   "execution_count": 50,
   "metadata": {},
   "outputs": [
    {
     "name": "stdout",
     "output_type": "stream",
     "text": [
      "Gurobi Optimizer version 9.0.3 build v9.0.3rc0 (mac64)\n",
      "Optimize a model with 8 rows, 9 columns and 20 nonzeros\n",
      "Model fingerprint: 0x9cecc250\n",
      "Coefficient statistics:\n",
      "  Matrix range     [1e+00, 1e+00]\n",
      "  Objective range  [2e+00, 7e+00]\n",
      "  Bounds range     [0e+00, 0e+00]\n",
      "  RHS range        [2e+01, 1e+02]\n",
      "Presolve removed 3 rows and 1 columns\n",
      "Presolve time: 0.01s\n",
      "Presolved: 5 rows, 8 columns, 16 nonzeros\n",
      "\n",
      "Iteration    Objective       Primal Inf.    Dual Inf.      Time\n",
      "       0    4.4500000e+02   2.125000e+01   0.000000e+00      0s\n",
      "       3    6.6500000e+02   0.000000e+00   0.000000e+00      0s\n",
      "\n",
      "Solved in 3 iterations and 0.02 seconds\n",
      "Optimal objective  6.650000000e+02\n"
     ]
    }
   ],
   "source": [
    "A1.optimize()"
   ]
  },
  {
   "cell_type": "code",
   "execution_count": 51,
   "metadata": {},
   "outputs": [
    {
     "name": "stdout",
     "output_type": "stream",
     "text": [
      "X (1, 1) : 10.0\n",
      "X (1, 2) : 20.0\n",
      "X (1, 3) : 0.0\n",
      "X (2, 1) : 35.0\n",
      "X (2, 2) : 25.0\n",
      "X (2, 3) : 40.0\n",
      "X (3, 1) : 25.0\n",
      "X (3, 2) : 35.0\n",
      "X (3, 3) : 0.0\n"
     ]
    }
   ],
   "source": [
    "for i in X:\n",
    "    print(\"X\",i,\":\",X[i].x)"
   ]
  },
  {
   "cell_type": "markdown",
   "metadata": {},
   "source": [
    "# Q2"
   ]
  },
  {
   "cell_type": "markdown",
   "metadata": {},
   "source": [
    "Let $X_{ij}$ be the proportion of job j done by employee i, where $i=1,2,3,4,5$ and $j=1,2,3,4$\n",
    "\n",
    "objective: Min $Z=22X_{11}+18X_{12}+30X_{13}+18X_{14}+18X_{21}+0X_{22}+27X_{23}+22X_{24}+26X_{31}+20X_{32}+28X_{33}+28X_{34}+16X_{41}+22X_{42}+0X_{43}+14X_{44}+21X_{51}+0X_{52}+25X_{53}+28X_{54}$\n",
    "\n",
    "s.t.\n",
    "\n",
    "$X_{11}+X_{12}+X_{13}+X_{14}\\leq1$\n",
    "\n",
    "$X_{21}+X_{22}+X_{23}+X_{24}\\leq1$\n",
    "\n",
    "$X_{31}+X_{32}+X_{33}+X_{34}\\leq1$\n",
    "\n",
    "$X_{41}+X_{42}+X_{43}+X_{44}\\leq1$\n",
    "\n",
    "$X_{51}+X_{52}+X_{53}+X_{54}\\leq1$\n",
    "\n",
    "$X_{11}+X_{21}+X_{31}+X_{41}=1$\n",
    "\n",
    "$X_{12}+X_{22}+X_{32}+X_{42}=1$\n",
    "\n",
    "$X_{13}+X_{23}+X_{33}+X_{43}=1$\n",
    "\n",
    "$X_{14}+X_{24}+X_{34}+X_{44}=1$\n",
    "\n",
    "$X_{22},X_{43},X_{52}=0$"
   ]
  },
  {
   "cell_type": "code",
   "execution_count": 80,
   "metadata": {},
   "outputs": [],
   "source": [
    "A2 = grb.Model('Q2')"
   ]
  },
  {
   "cell_type": "code",
   "execution_count": 81,
   "metadata": {},
   "outputs": [],
   "source": [
    "employee = {1:1,2:1,3:1,4:1,5:1}\n",
    "job = {1:1,2:1,3:1,4:1}\n",
    "coef = [[22,18,30,18],\n",
    "       [18,0,27,22],\n",
    "       [26,20,28,28],\n",
    "       [16,22,0,14],\n",
    "       [21,0,25,28]]\n",
    "X = A2.addVars(employee,job,obj=coef)"
   ]
  },
  {
   "cell_type": "code",
   "execution_count": 82,
   "metadata": {},
   "outputs": [],
   "source": [
    "A2.ModelSense = grb.GRB.MINIMIZE"
   ]
  },
  {
   "cell_type": "code",
   "execution_count": 83,
   "metadata": {},
   "outputs": [],
   "source": [
    "for i in employee:\n",
    "    A2.addConstr(sum(X[(i,j)] for j in job)<=1)"
   ]
  },
  {
   "cell_type": "code",
   "execution_count": 84,
   "metadata": {},
   "outputs": [],
   "source": [
    "for j in job:\n",
    "    A2.addConstr(sum(X[(i,j)] for i in employee)==1)"
   ]
  },
  {
   "cell_type": "code",
   "execution_count": 85,
   "metadata": {},
   "outputs": [
    {
     "data": {
      "text/plain": [
       "<gurobi.Constr *Awaiting Model Update*>"
      ]
     },
     "execution_count": 85,
     "metadata": {},
     "output_type": "execute_result"
    }
   ],
   "source": [
    "A2.addConstr(X[(2,2)]==0)\n",
    "A2.addConstr(X[(4,3)]==0)\n",
    "A2.addConstr(X[(5,2)]==0)\n"
   ]
  },
  {
   "cell_type": "code",
   "execution_count": 86,
   "metadata": {},
   "outputs": [],
   "source": [
    "A2.write('Tut3Q2.lp')"
   ]
  },
  {
   "cell_type": "code",
   "execution_count": 87,
   "metadata": {},
   "outputs": [
    {
     "name": "stdout",
     "output_type": "stream",
     "text": [
      "Gurobi Optimizer version 9.0.3 build v9.0.3rc0 (mac64)\n",
      "Optimize a model with 12 rows, 20 columns and 43 nonzeros\n",
      "Model fingerprint: 0x8bb8e172\n",
      "Coefficient statistics:\n",
      "  Matrix range     [1e+00, 1e+00]\n",
      "  Objective range  [1e+01, 3e+01]\n",
      "  Bounds range     [0e+00, 0e+00]\n",
      "  RHS range        [1e+00, 1e+00]\n",
      "Presolve removed 3 rows and 3 columns\n",
      "Presolve time: 0.00s\n",
      "Presolved: 9 rows, 17 columns, 34 nonzeros\n",
      "\n",
      "Iteration    Objective       Primal Inf.    Dual Inf.      Time\n",
      "       0    7.3000000e+01   1.000000e+00   0.000000e+00      0s\n",
      "       1    7.5000000e+01   0.000000e+00   0.000000e+00      0s\n",
      "\n",
      "Solved in 1 iterations and 0.01 seconds\n",
      "Optimal objective  7.500000000e+01\n"
     ]
    }
   ],
   "source": [
    "A2.optimize()"
   ]
  },
  {
   "cell_type": "code",
   "execution_count": 89,
   "metadata": {},
   "outputs": [
    {
     "name": "stdout",
     "output_type": "stream",
     "text": [
      "X (1, 1) 0.0\n",
      "X (1, 2) 1.0\n",
      "X (1, 3) 0.0\n",
      "X (1, 4) 0.0\n",
      "X (2, 1) 1.0\n",
      "X (2, 2) 0.0\n",
      "X (2, 3) 0.0\n",
      "X (2, 4) 0.0\n",
      "X (3, 1) 0.0\n",
      "X (3, 2) 0.0\n",
      "X (3, 3) 0.0\n",
      "X (3, 4) 0.0\n",
      "X (4, 1) 0.0\n",
      "X (4, 2) 0.0\n",
      "X (4, 3) 0.0\n",
      "X (4, 4) 1.0\n",
      "X (5, 1) 0.0\n",
      "X (5, 2) 0.0\n",
      "X (5, 3) 1.0\n",
      "X (5, 4) 0.0\n"
     ]
    }
   ],
   "source": [
    "for i in X:\n",
    "    print(\"X\",i,X[i].x)"
   ]
  },
  {
   "cell_type": "markdown",
   "metadata": {},
   "source": [
    "# Q3"
   ]
  },
  {
   "cell_type": "markdown",
   "metadata": {},
   "source": [
    "Let $X_{i}$ be the number of operators starting at shift i, where $i=1,2,3,4,5,6$. Shifts: 12am - 8am, 4am-12pm,8am-4pm,12pm-8pm,4pm-12am,8pm-4am\n",
    "\n",
    "objective: Min $Z=X_1+X_2+X_3+X_4+X_5+X_6$\n",
    "\n",
    "s.t.\n",
    "\n",
    "$X_1+X_6\\geq4$\n",
    "\n",
    "$X_1+X_2\\geq6$\n",
    "\n",
    "$X_2+X_3\\geq90$\n",
    "\n",
    "$X_3+X_4\\geq85$\n",
    "\n",
    "$X_4+X_5\\geq55$\n",
    "\n",
    "$X_5+X_6\\geq20$\n",
    "\n",
    "$X_1,X_2,X_3,X_4,X_5,X_6\\geq0$"
   ]
  },
  {
   "cell_type": "code",
   "execution_count": 90,
   "metadata": {},
   "outputs": [],
   "source": [
    "A3 = grb.Model('Q3')"
   ]
  },
  {
   "cell_type": "code",
   "execution_count": 94,
   "metadata": {},
   "outputs": [],
   "source": [
    "shift = [1,2,3,4,5,6]\n",
    "X = A3.addVars(shift,obj=1)"
   ]
  },
  {
   "cell_type": "code",
   "execution_count": 95,
   "metadata": {},
   "outputs": [
    {
     "data": {
      "text/plain": [
       "<gurobi.Constr *Awaiting Model Update*>"
      ]
     },
     "execution_count": 95,
     "metadata": {},
     "output_type": "execute_result"
    }
   ],
   "source": [
    "A3.addConstr(X[1]+X[6]>=4)\n",
    "A3.addConstr(X[1]+X[2]>=6)\n",
    "A3.addConstr(X[2]+X[3]>=90)\n",
    "A3.addConstr(X[3]+X[4]>=85)\n",
    "A3.addConstr(X[4]+X[5]>=55)\n",
    "A3.addConstr(X[5]+X[6]>=20)"
   ]
  },
  {
   "cell_type": "code",
   "execution_count": 96,
   "metadata": {},
   "outputs": [],
   "source": [
    "A3.write('Tut3Q3.lp')"
   ]
  },
  {
   "cell_type": "code",
   "execution_count": 97,
   "metadata": {},
   "outputs": [
    {
     "name": "stdout",
     "output_type": "stream",
     "text": [
      "Gurobi Optimizer version 9.0.3 build v9.0.3rc0 (mac64)\n",
      "Optimize a model with 6 rows, 6 columns and 12 nonzeros\n",
      "Model fingerprint: 0xa058e164\n",
      "Coefficient statistics:\n",
      "  Matrix range     [1e+00, 1e+00]\n",
      "  Objective range  [1e+00, 1e+00]\n",
      "  Bounds range     [0e+00, 0e+00]\n",
      "  RHS range        [4e+00, 9e+01]\n",
      "Presolve time: 0.01s\n",
      "Presolved: 6 rows, 6 columns, 12 nonzeros\n",
      "\n",
      "Iteration    Objective       Primal Inf.    Dual Inf.      Time\n",
      "       0    0.0000000e+00   2.600000e+02   0.000000e+00      0s\n",
      "       5    1.4900000e+02   0.000000e+00   0.000000e+00      0s\n",
      "\n",
      "Solved in 5 iterations and 0.01 seconds\n",
      "Optimal objective  1.490000000e+02\n"
     ]
    }
   ],
   "source": [
    "A3.optimize()"
   ]
  },
  {
   "cell_type": "code",
   "execution_count": 99,
   "metadata": {},
   "outputs": [
    {
     "name": "stdout",
     "output_type": "stream",
     "text": [
      "X 1 : 4.0\n",
      "X 2 : 40.0\n",
      "X 3 : 50.0\n",
      "X 4 : 35.0\n",
      "X 5 : 20.0\n",
      "X 6 : 0.0\n"
     ]
    }
   ],
   "source": [
    "for i in X:\n",
    "    print(\"X\",i,\":\",X[i].x)"
   ]
  }
 ],
 "metadata": {
  "kernelspec": {
   "display_name": "Python 3",
   "language": "python",
   "name": "python3"
  },
  "language_info": {
   "codemirror_mode": {
    "name": "ipython",
    "version": 3
   },
   "file_extension": ".py",
   "mimetype": "text/x-python",
   "name": "python",
   "nbconvert_exporter": "python",
   "pygments_lexer": "ipython3",
   "version": "3.7.6"
  }
 },
 "nbformat": 4,
 "nbformat_minor": 4
}
