{
 "cells": [
  {
   "cell_type": "code",
   "execution_count": 1,
   "metadata": {},
   "outputs": [],
   "source": [
    "import gurobi as grb"
   ]
  },
  {
   "cell_type": "markdown",
   "metadata": {},
   "source": [
    "# Q1"
   ]
  },
  {
   "cell_type": "markdown",
   "metadata": {},
   "source": [
    "Let $X_i$ be the number of workers for shift i, where $i=1,2,3,4,5,6,7$.\n",
    "\n",
    "objective: Min $Z=32X_1+80X_2+32X_3+80X_4+32X_5+80X_6+32X_7$\n",
    "\n",
    "s.t.\n",
    "\n",
    "$X_1+X_2\\geq11$\n",
    "\n",
    "$X_2+X_3+X_4\\geq24$\n",
    "\n",
    "$X_2+X_3+X_4\\geq16$\n",
    "\n",
    "$X_4+X_5+X_6\\geq10$\n",
    "\n",
    "$X_4+X_5+X_6\\geq22$\n",
    "\n",
    "$X_6+X_7\\geq17$\n",
    "\n",
    "$X_6+X_7\\geq6$\n",
    "\n",
    "$X_2\\geq1$\n",
    "\n",
    "$X_6\\geq1$\n",
    "\n",
    "$\\frac{X_2+X_4}{X_2+X_3+X_4}\\geq 0.3$\n",
    "\n",
    "$\\frac{X_4+X_6}{X_4+X_5+X_6}\\geq 0.3$\n",
    "\n",
    "$X_1,X_2,X_3,X_4,X_5,X_6,X_7\\geq0$\n",
    "\n",
    "$X_1,X_2,X_3,X_4,X_5,X_6,X_7$ is integer"
   ]
  },
  {
   "cell_type": "code",
   "execution_count": 42,
   "metadata": {},
   "outputs": [],
   "source": [
    "A1 = grb.Model('Q1')"
   ]
  },
  {
   "cell_type": "code",
   "execution_count": 43,
   "metadata": {},
   "outputs": [],
   "source": [
    "shift = [1,2,3,4,5,6,7]\n",
    "coef = [32,80,32,80,32,80,32]\n",
    "X = A1.addVars(shift,obj=coef,vtype=grb.GRB.INTEGER)"
   ]
  },
  {
   "cell_type": "code",
   "execution_count": 44,
   "metadata": {},
   "outputs": [
    {
     "data": {
      "text/plain": [
       "<gurobi.Constr *Awaiting Model Update*>"
      ]
     },
     "execution_count": 44,
     "metadata": {},
     "output_type": "execute_result"
    }
   ],
   "source": [
    "A1.addConstr(X[1]+X[2]>=11)\n",
    "A1.addConstr(X[2]+X[3]+X[4]>=24)\n",
    "A1.addConstr(X[2]+X[3]+X[4]>=16)\n",
    "A1.addConstr(X[4]+X[5]+X[6]>=10)\n",
    "A1.addConstr(X[4]+X[5]+X[6]>=22)\n",
    "A1.addConstr(X[6]+X[7]>=17)\n",
    "A1.addConstr(X[6]+X[7]>=6)\n",
    "A1.addConstr(X[2]>=1)\n",
    "A1.addConstr(X[6]>=1)\n",
    "A1.addConstr(X[2]+X[4]>=0.3*(X[2]+X[3]+X[4]))\n",
    "A1.addConstr(X[4]+X[6]>=0.3*(X[4]+X[5]+X[6]))\n",
    "\n"
   ]
  },
  {
   "cell_type": "code",
   "execution_count": 45,
   "metadata": {},
   "outputs": [],
   "source": [
    "A1.write('Tut4Q1.lp')"
   ]
  },
  {
   "cell_type": "code",
   "execution_count": 46,
   "metadata": {},
   "outputs": [],
   "source": [
    "A1.ModelSense = grb.GRB.MINIMIZE"
   ]
  },
  {
   "cell_type": "code",
   "execution_count": 47,
   "metadata": {},
   "outputs": [
    {
     "name": "stdout",
     "output_type": "stream",
     "text": [
      "Gurobi Optimizer version 9.0.3 build v9.0.3rc0 (mac64)\n",
      "Optimize a model with 11 rows, 7 columns and 26 nonzeros\n",
      "Model fingerprint: 0x53dda28d\n",
      "Variable types: 0 continuous, 7 integer (0 binary)\n",
      "Coefficient statistics:\n",
      "  Matrix range     [3e-01, 1e+00]\n",
      "  Objective range  [3e+01, 8e+01]\n",
      "  Bounds range     [0e+00, 0e+00]\n",
      "  RHS range        [1e+00, 2e+01]\n",
      "Found heuristic solution: objective 2896.0000000\n",
      "Presolve removed 5 rows and 0 columns\n",
      "Presolve time: 0.00s\n",
      "Presolved: 6 rows, 7 columns, 16 nonzeros\n",
      "Variable types: 0 continuous, 7 integer (0 binary)\n",
      "\n",
      "Root relaxation: objective 2.499200e+03, 2 iterations, 0.00 seconds\n",
      "\n",
      "    Nodes    |    Current Node    |     Objective Bounds      |     Work\n",
      " Expl Unexpl |  Obj  Depth IntInf | Incumbent    BestBd   Gap | It/Node Time\n",
      "\n",
      "     0     0 2499.20000    0    5 2896.00000 2499.20000  13.7%     -    0s\n",
      "H    0     0                    2512.0000000 2499.20000  0.51%     -    0s\n",
      "     0     0 2499.20000    0    5 2512.00000 2499.20000  0.51%     -    0s\n",
      "\n",
      "Explored 1 nodes (2 simplex iterations) in 0.02 seconds\n",
      "Thread count was 8 (of 8 available processors)\n",
      "\n",
      "Solution count 2: 2512 2896 \n",
      "\n",
      "Optimal solution found (tolerance 1.00e-04)\n",
      "Best objective 2.512000000000e+03, best bound 2.512000000000e+03, gap 0.0000%\n"
     ]
    }
   ],
   "source": [
    "A1.optimize()"
   ]
  },
  {
   "cell_type": "code",
   "execution_count": 48,
   "metadata": {},
   "outputs": [
    {
     "name": "stdout",
     "output_type": "stream",
     "text": [
      "X 1 = 9\n",
      "X 2 = 2\n",
      "X 3 = 16\n",
      "X 4 = 6\n",
      "X 5 = 15\n",
      "X 6 = 1\n",
      "X 7 = 16\n"
     ]
    }
   ],
   "source": [
    "for i in X:\n",
    "    print(\"X\",i,\"=\",int(X[i].x))"
   ]
  },
  {
   "cell_type": "markdown",
   "metadata": {},
   "source": [
    "# Q2"
   ]
  },
  {
   "cell_type": "markdown",
   "metadata": {},
   "source": [
    "Let X_{i} be the binary variable indicating whether the emergency center is built in building site i, where $i=1,2,3,4,5$.\n",
    "\n",
    "object: Min $Z=450X_1+650X_2+550X_3+500X_4+525X_5$\n",
    "\n",
    "s.t.\n",
    "\n",
    "$X1+X3\\geq1$\n",
    "\n",
    "$X_1+X_2+X_4+X_5\\geq1$\n",
    "\n",
    "$X_2+X_4\\geq1$\n",
    "\n",
    "$X_3+X_5\\geq1$\n",
    "\n",
    "$X_1+X_2\\geq1$\n",
    "\n",
    "$X_4+X_5\\geq1$\n",
    "\n",
    "$X_i$ is binary for all i"
   ]
  },
  {
   "cell_type": "code",
   "execution_count": 49,
   "metadata": {},
   "outputs": [],
   "source": [
    "A2 = grb.Model('Q2')"
   ]
  },
  {
   "cell_type": "code",
   "execution_count": 50,
   "metadata": {},
   "outputs": [],
   "source": [
    "site = [1,2,3,4,5]\n",
    "coef = [450,650,550,500,525]\n",
    "X = A2.addVars(site, obj=coef,vtype=grb.GRB.BINARY)"
   ]
  },
  {
   "cell_type": "code",
   "execution_count": 51,
   "metadata": {},
   "outputs": [
    {
     "data": {
      "text/plain": [
       "<gurobi.Constr *Awaiting Model Update*>"
      ]
     },
     "execution_count": 51,
     "metadata": {},
     "output_type": "execute_result"
    }
   ],
   "source": [
    "A2.addConstr(X[1]+X[3]>=1)\n",
    "A2.addConstr(X[1]+X[2]+X[4]+X[5]>=1)\n",
    "A2.addConstr(X[2]+X[4]>=1)\n",
    "A2.addConstr(X[3]+X[5]>=1)\n",
    "A2.addConstr(X[1]+X[2]>=1)\n",
    "A2.addConstr(X[4]+X[5]>=1)"
   ]
  },
  {
   "cell_type": "code",
   "execution_count": 52,
   "metadata": {},
   "outputs": [],
   "source": [
    "A2.ModelSense = grb.GRB.MINIMIZE"
   ]
  },
  {
   "cell_type": "code",
   "execution_count": 53,
   "metadata": {},
   "outputs": [
    {
     "name": "stdout",
     "output_type": "stream",
     "text": [
      "Gurobi Optimizer version 9.0.3 build v9.0.3rc0 (mac64)\n",
      "Optimize a model with 6 rows, 5 columns and 14 nonzeros\n",
      "Model fingerprint: 0x0ab32901\n",
      "Variable types: 0 continuous, 5 integer (5 binary)\n",
      "Coefficient statistics:\n",
      "  Matrix range     [1e+00, 1e+00]\n",
      "  Objective range  [4e+02, 6e+02]\n",
      "  Bounds range     [1e+00, 1e+00]\n",
      "  RHS range        [1e+00, 1e+00]\n",
      "Found heuristic solution: objective 1725.0000000\n",
      "Presolve removed 1 rows and 0 columns\n",
      "Presolve time: 0.00s\n",
      "Presolved: 5 rows, 5 columns, 10 nonzeros\n",
      "Variable types: 0 continuous, 5 integer (5 binary)\n",
      "\n",
      "Root relaxation: objective 1.337500e+03, 5 iterations, 0.00 seconds\n",
      "\n",
      "    Nodes    |    Current Node    |     Objective Bounds      |     Work\n",
      " Expl Unexpl |  Obj  Depth IntInf | Incumbent    BestBd   Gap | It/Node Time\n",
      "\n",
      "     0     0 1337.50000    0    5 1725.00000 1337.50000  22.5%     -    0s\n",
      "H    0     0                    1475.0000000 1337.50000  9.32%     -    0s\n",
      "     0     0 1337.50000    0    5 1475.00000 1337.50000  9.32%     -    0s\n",
      "\n",
      "Explored 1 nodes (5 simplex iterations) in 0.02 seconds\n",
      "Thread count was 8 (of 8 available processors)\n",
      "\n",
      "Solution count 2: 1475 1725 \n",
      "\n",
      "Optimal solution found (tolerance 1.00e-04)\n",
      "Best objective 1.475000000000e+03, best bound 1.475000000000e+03, gap 0.0000%\n"
     ]
    }
   ],
   "source": [
    "A2.optimize()"
   ]
  },
  {
   "cell_type": "code",
   "execution_count": 54,
   "metadata": {},
   "outputs": [],
   "source": [
    "A2.write('Tut4Q2.lp')"
   ]
  },
  {
   "cell_type": "code",
   "execution_count": 55,
   "metadata": {},
   "outputs": [
    {
     "name": "stdout",
     "output_type": "stream",
     "text": [
      "X 1 = 1.0\n",
      "X 2 = 0.0\n",
      "X 3 = 0.0\n",
      "X 4 = 1.0\n",
      "X 5 = 1.0\n"
     ]
    }
   ],
   "source": [
    "for i in X:\n",
    "    print(\"X\",i,\"=\",X[i].x)"
   ]
  },
  {
   "cell_type": "markdown",
   "metadata": {},
   "source": [
    "# Q3"
   ]
  },
  {
   "cell_type": "markdown",
   "metadata": {},
   "source": [
    "Let $X_i$ be the binary variable indicating whether a fire station is built in region i, where $i=1,2,3,4,5,6,7$.\n",
    "\n",
    "objective: min $Z=\\sum^7_{i=1}X_i$\n",
    "\n",
    "s.t.\n",
    "\n",
    "$X_1+X_2+X_4\\geq1$\n",
    "\n",
    "$X_1+X_2+X_3+X_5+X_6\\geq1$\n",
    "\n",
    "$X_2+X_3+X_6+X_7\\geq1$\n",
    "\n",
    "$X_1+X_4+X_5+X_6\\geq1$\n",
    "\n",
    "$X_2+X_4+X_5+X_7\\geq1$\n",
    "\n",
    "$X_2+X_3+X_4+X_6\\geq1$\n",
    "\n",
    "$X_3+X_5+X_7\\geq1$\n",
    "\n",
    "$X_i$ is binary for all i"
   ]
  },
  {
   "cell_type": "code",
   "execution_count": 72,
   "metadata": {},
   "outputs": [],
   "source": [
    "A3 = grb.Model('Q3')"
   ]
  },
  {
   "cell_type": "code",
   "execution_count": 73,
   "metadata": {},
   "outputs": [],
   "source": [
    "region = [1,2,3,4,5,6,7]\n",
    "X = A3.addVars(region,obj=1,vtype=grb.GRB.BINARY)"
   ]
  },
  {
   "cell_type": "code",
   "execution_count": 74,
   "metadata": {},
   "outputs": [],
   "source": [
    "A3.ModelSense = grb.GRB.MINIMIZE"
   ]
  },
  {
   "cell_type": "code",
   "execution_count": 75,
   "metadata": {},
   "outputs": [
    {
     "data": {
      "text/plain": [
       "<gurobi.Constr *Awaiting Model Update*>"
      ]
     },
     "execution_count": 75,
     "metadata": {},
     "output_type": "execute_result"
    }
   ],
   "source": [
    "A3.addConstr(X[1]+X[2]+X[4]>=1)\n",
    "A3.addConstr(X[1]+X[2]+X[3]+X[5]+X[6]>=1)\n",
    "A3.addConstr(X[2]+X[3]+X[6]+X[7]>=1)\n",
    "A3.addConstr(X[1]+X[4]+X[5]+X[6]>=1)\n",
    "A3.addConstr(X[2]+X[4]+X[5]+X[7]>=1)\n",
    "A3.addConstr(X[2]+X[3]+X[4]+X[6]>=1)\n",
    "A3.addConstr(X[3]+X[5]+X[6]>=1)"
   ]
  },
  {
   "cell_type": "code",
   "execution_count": 76,
   "metadata": {},
   "outputs": [],
   "source": [
    "A3.write('Tut4Q3.lp')"
   ]
  },
  {
   "cell_type": "code",
   "execution_count": 77,
   "metadata": {},
   "outputs": [
    {
     "name": "stdout",
     "output_type": "stream",
     "text": [
      "Gurobi Optimizer version 9.0.3 build v9.0.3rc0 (mac64)\n",
      "Optimize a model with 7 rows, 7 columns and 27 nonzeros\n",
      "Model fingerprint: 0x45ea796c\n",
      "Variable types: 0 continuous, 7 integer (7 binary)\n",
      "Coefficient statistics:\n",
      "  Matrix range     [1e+00, 1e+00]\n",
      "  Objective range  [1e+00, 1e+00]\n",
      "  Bounds range     [1e+00, 1e+00]\n",
      "  RHS range        [1e+00, 1e+00]\n",
      "Found heuristic solution: objective 2.0000000\n",
      "Presolve removed 7 rows and 7 columns\n",
      "Presolve time: 0.00s\n",
      "Presolve: All rows and columns removed\n",
      "\n",
      "Explored 0 nodes (0 simplex iterations) in 0.01 seconds\n",
      "Thread count was 1 (of 8 available processors)\n",
      "\n",
      "Solution count 1: 2 \n",
      "\n",
      "Optimal solution found (tolerance 1.00e-04)\n",
      "Best objective 2.000000000000e+00, best bound 2.000000000000e+00, gap 0.0000%\n"
     ]
    }
   ],
   "source": [
    "A3.optimize()"
   ]
  },
  {
   "cell_type": "code",
   "execution_count": 78,
   "metadata": {},
   "outputs": [
    {
     "name": "stdout",
     "output_type": "stream",
     "text": [
      "X 1 = 0.0\n",
      "X 2 = 1.0\n",
      "X 3 = 0.0\n",
      "X 4 = 0.0\n",
      "X 5 = 0.0\n",
      "X 6 = 1.0\n",
      "X 7 = 0.0\n"
     ]
    }
   ],
   "source": [
    "for i in X:\n",
    "    print('X',i,\"=\",X[i].x)"
   ]
  },
  {
   "cell_type": "code",
   "execution_count": null,
   "metadata": {},
   "outputs": [],
   "source": []
  }
 ],
 "metadata": {
  "kernelspec": {
   "display_name": "Python 3",
   "language": "python",
   "name": "python3"
  },
  "language_info": {
   "codemirror_mode": {
    "name": "ipython",
    "version": 3
   },
   "file_extension": ".py",
   "mimetype": "text/x-python",
   "name": "python",
   "nbconvert_exporter": "python",
   "pygments_lexer": "ipython3",
   "version": "3.7.6"
  }
 },
 "nbformat": 4,
 "nbformat_minor": 4
}
