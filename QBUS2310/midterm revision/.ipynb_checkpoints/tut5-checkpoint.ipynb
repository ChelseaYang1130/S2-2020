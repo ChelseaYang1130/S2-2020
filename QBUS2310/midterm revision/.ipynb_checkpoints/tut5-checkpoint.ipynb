{
 "cells": [
  {
   "cell_type": "markdown",
   "metadata": {},
   "source": [
    "# Q1"
   ]
  },
  {
   "cell_type": "markdown",
   "metadata": {},
   "source": [
    "Let $X_{ij}$ be the number of product j produced by machine i, where $i=1,2, j=1,2,3$.\n",
    "\n",
    "Let $Y_{ij}$ be the binary variable indicating whether product j in produced by machin i, where $i=1,2, j=1,2,3$.\n",
    "\n",
    "objective: min $Z=13X_{11}+9X_{12}+10X_{13}+11X_{21}+12X_{22}+8X_{23}+Y_{11}+Y_{12}+Y_{13}+Y_{21}+Y_{22}+Y_{23}$\n",
    "\n",
    "s.t.\n",
    "\n",
    "$X_{11}+X_{21}=3$\n",
    "\n",
    "$X_{12}+X_{22}=7$\n",
    "\n",
    "$X_{13}+X_{23}=4$\n",
    "\n",
    "$0.4X_{11}+1.1X_{12}+0.9X_{13}\\leq8$\n",
    "\n",
    "$0.5X_{21}+1.2X_{22}+1.3X_{23}\\leq6$\n",
    "\n",
    "$X_{11}\\leq 3Y_{11}$\n",
    "\n",
    "$X_{12}\\leq 7Y_{12}$\n",
    "\n",
    "$X_{13}\\leq 6Y_{13}$\n",
    "\n",
    "$X_{21}\\leq 3Y_{21}$\n",
    "\n",
    "$X_{22}\\leq 7Y_{22}$\n",
    "\n",
    "$X_{23}\\leq 4Y_{23}$\n",
    "\n",
    "$Y_{ij}$ is binary for all i,j\n",
    "\n",
    "$X_{ij}\\geq0$ for all i,j\n"
   ]
  },
  {
   "cell_type": "code",
   "execution_count": 48,
   "metadata": {},
   "outputs": [],
   "source": [
    "import gurobipy as grb"
   ]
  },
  {
   "cell_type": "code",
   "execution_count": 57,
   "metadata": {},
   "outputs": [],
   "source": [
    "A1 = grb.Model('Q1')"
   ]
  },
  {
   "cell_type": "code",
   "execution_count": 58,
   "metadata": {},
   "outputs": [],
   "source": [
    "product = [1,2,3]\n",
    "machine = [1,2]\n",
    "coefX = [[13,9,10],\n",
    "       [11,12,8]]\n",
    "coefY = [[55,93,60],\n",
    "        [65,58,75]]\n",
    "X = A1.addVars(machine,product, obj=coefX,vtype=grb.GRB.INTEGER)\n",
    "Y = A1.addVars(machine,product, obj=coefY,vtype=grb.GRB.BINARY)"
   ]
  },
  {
   "cell_type": "code",
   "execution_count": 59,
   "metadata": {},
   "outputs": [],
   "source": [
    "A1.ModelSense = grb.GRB.MINIMIZE"
   ]
  },
  {
   "cell_type": "code",
   "execution_count": 60,
   "metadata": {},
   "outputs": [
    {
     "data": {
      "text/plain": [
       "<gurobi.Constr *Awaiting Model Update*>"
      ]
     },
     "execution_count": 60,
     "metadata": {},
     "output_type": "execute_result"
    }
   ],
   "source": [
    "A1.addConstr(X[(1,1)]+X[(2,1)]==3)\n",
    "A1.addConstr(X[(1,2)]+X[(2,2)]==7)\n",
    "A1.addConstr(X[(1,3)]+X[(2,3)]==4)\n",
    "\n",
    "A1.addConstr(0.4*X[(1,1)]+1.1*X[(1,2)]+0.9*X[(1,3)]<=8)\n",
    "A1.addConstr(0.5*X[(2,1)]+1.2*X[(2,2)]+1.3*X[(2,3)]<=6)\n",
    "\n",
    "A1.addConstr(X[(1,1)]<=3*Y[(1,1)])\n",
    "A1.addConstr(X[(2,1)]<=3*Y[(2,1)])\n",
    "A1.addConstr(X[(1,2)]<=7*Y[(1,2)])\n",
    "A1.addConstr(X[(2,2)]<=7*Y[(2,2)])\n",
    "A1.addConstr(X[(1,3)]<=4*Y[(1,3)])\n",
    "A1.addConstr(X[(2,3)]<=4*Y[(2,3)])\n"
   ]
  },
  {
   "cell_type": "code",
   "execution_count": 61,
   "metadata": {},
   "outputs": [],
   "source": [
    "A1.write('Tut5Q1.lp')"
   ]
  },
  {
   "cell_type": "code",
   "execution_count": 62,
   "metadata": {},
   "outputs": [
    {
     "name": "stdout",
     "output_type": "stream",
     "text": [
      "Gurobi Optimizer version 9.0.3 build v9.0.3rc0 (mac64)\n",
      "Optimize a model with 11 rows, 12 columns and 24 nonzeros\n",
      "Model fingerprint: 0xb9dffb08\n",
      "Variable types: 0 continuous, 12 integer (6 binary)\n",
      "Coefficient statistics:\n",
      "  Matrix range     [4e-01, 7e+00]\n",
      "  Objective range  [8e+00, 9e+01]\n",
      "  Bounds range     [1e+00, 1e+00]\n",
      "  RHS range        [3e+00, 8e+00]\n",
      "Found heuristic solution: objective 546.0000000\n",
      "Presolve removed 6 rows and 6 columns\n",
      "Presolve time: 0.00s\n",
      "Presolved: 5 rows, 6 columns, 12 nonzeros\n",
      "Variable types: 0 continuous, 6 integer (3 binary)\n",
      "\n",
      "Root relaxation: objective 4.206000e+02, 4 iterations, 0.00 seconds\n",
      "\n",
      "    Nodes    |    Current Node    |     Objective Bounds      |     Work\n",
      " Expl Unexpl |  Obj  Depth IntInf | Incumbent    BestBd   Gap | It/Node Time\n",
      "\n",
      "     0     0  420.60000    0    1  546.00000  420.60000  23.0%     -    0s\n",
      "H    0     0                     423.0000000  420.60000  0.57%     -    0s\n",
      "H    0     0                     421.0000000  420.60000  0.10%     -    0s\n",
      "     0     0  420.60000    0    1  421.00000  420.60000  0.10%     -    0s\n",
      "\n",
      "Explored 1 nodes (4 simplex iterations) in 0.02 seconds\n",
      "Thread count was 8 (of 8 available processors)\n",
      "\n",
      "Solution count 3: 421 423 546 \n",
      "\n",
      "Optimal solution found (tolerance 1.00e-04)\n",
      "Best objective 4.210000000000e+02, best bound 4.210000000000e+02, gap 0.0000%\n"
     ]
    }
   ],
   "source": [
    "A1.optimize()"
   ]
  },
  {
   "cell_type": "code",
   "execution_count": 63,
   "metadata": {},
   "outputs": [
    {
     "name": "stdout",
     "output_type": "stream",
     "text": [
      "X (1, 1) = 0.0\n",
      "X (1, 2) = 4.0\n",
      "X (1, 3) = 4.0\n",
      "X (2, 1) = 3.0\n",
      "X (2, 2) = 3.0\n",
      "X (2, 3) = 0.0\n",
      "Y (1, 1) = 0.0\n",
      "Y (1, 2) = 1.0\n",
      "Y (1, 3) = 1.0\n",
      "Y (2, 1) = 1.0\n",
      "Y (2, 2) = 1.0\n",
      "Y (2, 3) = 0.0\n"
     ]
    }
   ],
   "source": [
    "for i in X:\n",
    "    print(\"X\",i,\"=\",X[i].x)\n",
    "for j in Y:\n",
    "    print(\"Y\",j,\"=\",Y[j].x)"
   ]
  },
  {
   "cell_type": "code",
   "execution_count": 65,
   "metadata": {},
   "outputs": [
    {
     "name": "stdout",
     "output_type": "stream",
     "text": [
      "Obeject value: 421.0\n"
     ]
    }
   ],
   "source": [
    "print(\"Obeject value:\",A1.ObjVal)"
   ]
  },
  {
   "cell_type": "markdown",
   "metadata": {},
   "source": [
    "# Q2"
   ]
  },
  {
   "cell_type": "markdown",
   "metadata": {},
   "source": [
    "Let $Y_{ij}$ be the binary variable indicating whether products are shipped by ship i to destination j, where $i=1,2,j=1,2,3,4$.\n",
    "\n",
    "Let $X_{jk}$ be the number of producted delivered from port k to destination j, where $j=1,2,3,4,k=1,2,3$.\n",
    "\n",
    "objective: min $Z=75X_{11}+88X_{12}+103X_{13}+56X_{14}+105X_{21}+76X_{22}+101X_{23}+85X_{24}+43X_{31}+80X_{32}+95X_{33}+62X_{34}$\n",
    "\n",
    "s.t.\n",
    "\n",
    "$\\sum^3_{k=1}X_{k1}\\geq500$\n",
    "\n",
    "$\\sum^3_{k=1}X_{k2}\\geq600$\n",
    "\n",
    "$\\sum^3_{k=1}X_{k3}\\geq450$\n",
    "\n",
    "$\\sum^3_{k=1}X_{k4}\\geq700$\n",
    "\n",
    "$\\sum^4_{j=1}Y_{1j}=1$\n",
    "\n",
    "$\\sum^4_{j=1}Y_{2j}=1$\n",
    "\n",
    "$\\sum^4_{j=1}X_{1j}\\leq 1200Y_{1j}+1120Y_{2j}$\n",
    "\n",
    "$\\sum^4_{j=1}X_{2j}\\leq 1200Y_{1j}+1120Y_{2j}$\n",
    "\n",
    "$\\sum^4_{j=1}X_{3j}\\leq 1200Y_{1j}+1120Y_{2j}$\n",
    "\n",
    "$Y_{11}+Y_{21}\\leq1$\n",
    "\n",
    "$Y_{12}+Y_{22}\\leq1$\n",
    "\n",
    "$Y_{13}+Y_{23}\\leq1$\n",
    "\n",
    "$Y_{14}+Y_{24}\\leq1$"
   ]
  },
  {
   "cell_type": "code",
   "execution_count": 78,
   "metadata": {},
   "outputs": [],
   "source": [
    "A2 = grb.Model('Q2')"
   ]
  },
  {
   "cell_type": "code",
   "execution_count": 87,
   "metadata": {},
   "outputs": [],
   "source": [
    "port = [1,2,3]\n",
    "destination = [1,2,3,4]\n",
    "ship = [1,2]\n",
    "coef = [[75,88,103,56],\n",
    "        [105,76,101,85],\n",
    "        [43,80,95,62]]\n",
    "\n",
    "X = A2.addVars(port,destination,obj=coef,vtype=grb.GRB.INTEGER)\n",
    "Y = A2.addVars(ship,destination,obj=0,vtype=grb.GRB.BINARY)"
   ]
  },
  {
   "cell_type": "code",
   "execution_count": 88,
   "metadata": {},
   "outputs": [],
   "source": [
    "A2.ModelSense = grb.GRB.MINIMIZE"
   ]
  },
  {
   "cell_type": "code",
   "execution_count": 81,
   "metadata": {},
   "outputs": [
    {
     "data": {
      "text/plain": [
       "<gurobi.Constr *Awaiting Model Update*>"
      ]
     },
     "execution_count": 81,
     "metadata": {},
     "output_type": "execute_result"
    }
   ],
   "source": [
    "A2.addConstr(sum((X[(k,1)] for k in port)>=500)\n",
    "A2.addConstr(sum((X[(k,2)] for k in port)>=600)\n",
    "A2.addConstr(sum((X[(k,3)] for k in port)>=450)\n",
    "A2.addConstr(sum((X[(k,4)] for k in port)>=700)\n",
    "             \n",
    "for i in ship:\n",
    "    A2.addConstr(sum(X[(i,j)] for j in destination)==1)\n",
    "             \n"
   ]
  },
  {
   "cell_type": "code",
   "execution_count": 82,
   "metadata": {},
   "outputs": [],
   "source": [
    "A2.write('Tut5Q2.lp')"
   ]
  },
  {
   "cell_type": "code",
   "execution_count": 83,
   "metadata": {},
   "outputs": [
    {
     "name": "stdout",
     "output_type": "stream",
     "text": [
      "Gurobi Optimizer version 9.0.3 build v9.0.3rc0 (mac64)\n",
      "Optimize a model with 42 rows, 48 columns and 120 nonzeros\n",
      "Model fingerprint: 0xe41058bf\n",
      "Variable types: 0 continuous, 48 integer (24 binary)\n",
      "Coefficient statistics:\n",
      "  Matrix range     [1e+00, 1e+03]\n",
      "  Objective range  [4e+01, 1e+02]\n",
      "  Bounds range     [1e+00, 1e+00]\n",
      "  RHS range        [1e+00, 1e+03]\n",
      "Found heuristic solution: objective 969.0000000\n",
      "Presolve removed 12 rows and 12 columns\n",
      "Presolve time: 0.00s\n",
      "Presolved: 30 rows, 36 columns, 96 nonzeros\n",
      "Variable types: 0 continuous, 36 integer (12 binary)\n",
      "\n",
      "Explored 0 nodes (0 simplex iterations) in 0.01 seconds\n",
      "Thread count was 8 (of 8 available processors)\n",
      "\n",
      "Solution count 1: 969 \n",
      "\n",
      "Optimal solution found (tolerance 1.00e-04)\n",
      "Best objective 9.690000000000e+02, best bound 9.690000000000e+02, gap 0.0000%\n"
     ]
    }
   ],
   "source": [
    "A2.optimize()"
   ]
  },
  {
   "cell_type": "code",
   "execution_count": 85,
   "metadata": {},
   "outputs": [
    {
     "name": "stdout",
     "output_type": "stream",
     "text": [
      "X (1, 1) = 0.0\n",
      "X (1, 2) = 0.0\n",
      "X (1, 3) = 0.0\n",
      "X (1, 4) = 0.0\n",
      "X (1, 5) = 500.0\n",
      "X (1, 6) = 600.0\n",
      "X (1, 7) = 0.0\n",
      "X (1, 8) = 30.0\n",
      "X (1, 9) = 0.0\n",
      "X (1, 10) = 0.0\n",
      "X (1, 11) = 0.0\n",
      "X (1, 12) = 0.0\n",
      "X (2, 1) = 0.0\n",
      "X (2, 2) = 0.0\n",
      "X (2, 3) = 0.0\n",
      "X (2, 4) = 0.0\n",
      "X (2, 5) = 0.0\n",
      "X (2, 6) = 0.0\n",
      "X (2, 7) = 0.0\n",
      "X (2, 8) = 0.0\n",
      "X (2, 9) = 0.0\n",
      "X (2, 10) = 0.0\n",
      "X (2, 11) = 450.0\n",
      "X (2, 12) = 670.0\n",
      "Y (1, 1) = 0.0\n",
      "Y (1, 2) = 1.0\n",
      "Y (1, 3) = 1.0\n",
      "Y (1, 4) = 0.0\n",
      "Y (1, 5) = 1.0\n",
      "Y (1, 6) = 1.0\n",
      "Y (1, 7) = 1.0\n",
      "Y (1, 8) = 1.0\n",
      "Y (1, 9) = 1.0\n",
      "Y (1, 10) = 1.0\n",
      "Y (1, 11) = 0.0\n",
      "Y (1, 12) = 0.0\n",
      "Y (2, 1) = 1.0\n",
      "Y (2, 2) = 0.0\n",
      "Y (2, 3) = 0.0\n",
      "Y (2, 4) = 1.0\n",
      "Y (2, 5) = 0.0\n",
      "Y (2, 6) = 0.0\n",
      "Y (2, 7) = 0.0\n",
      "Y (2, 8) = 0.0\n",
      "Y (2, 9) = 0.0\n",
      "Y (2, 10) = 0.0\n",
      "Y (2, 11) = 1.0\n",
      "Y (2, 12) = 1.0\n"
     ]
    }
   ],
   "source": [
    "for i in X:\n",
    "    print(\"X\",i,\"=\",X[i].x)\n",
    "for j in Y:\n",
    "    print(\"Y\",j,\"=\",Y[j].x)"
   ]
  },
  {
   "cell_type": "code",
   "execution_count": 86,
   "metadata": {},
   "outputs": [
    {
     "name": "stdout",
     "output_type": "stream",
     "text": [
      "Objective value: 969.0\n"
     ]
    }
   ],
   "source": [
    "print(\"Objective value:\",A2.ObjVal)"
   ]
  },
  {
   "cell_type": "code",
   "execution_count": null,
   "metadata": {},
   "outputs": [],
   "source": []
  }
 ],
 "metadata": {
  "kernelspec": {
   "display_name": "Python 3",
   "language": "python",
   "name": "python3"
  },
  "language_info": {
   "codemirror_mode": {
    "name": "ipython",
    "version": 3
   },
   "file_extension": ".py",
   "mimetype": "text/x-python",
   "name": "python",
   "nbconvert_exporter": "python",
   "pygments_lexer": "ipython3",
   "version": "3.7.6"
  }
 },
 "nbformat": 4,
 "nbformat_minor": 4
}
