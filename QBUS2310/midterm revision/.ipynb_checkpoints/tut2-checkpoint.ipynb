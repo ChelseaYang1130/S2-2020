{
 "cells": [
  {
   "cell_type": "markdown",
   "metadata": {},
   "source": [
    "# Q1"
   ]
  },
  {
   "cell_type": "markdown",
   "metadata": {},
   "source": [
    "1. \n",
    "\n",
    "Let $X_i$ be the number of deluxe and professional bicycle produced.\n",
    "\n",
    "objective: Max $Z=10X_1+15X_2$\n",
    "\n",
    "s.t.\n",
    "\n",
    "$2X_1+4X_2\\leq100$\n",
    "\n",
    "$3X_1+2X_2 \\leq 80$\n",
    "\n",
    "$X_1,X_2 \\geq 0$"
   ]
  },
  {
   "cell_type": "code",
   "execution_count": 26,
   "metadata": {},
   "outputs": [],
   "source": [
    "import gurobipy as grb"
   ]
  },
  {
   "cell_type": "code",
   "execution_count": 2,
   "metadata": {},
   "outputs": [
    {
     "name": "stdout",
     "output_type": "stream",
     "text": [
      "Using license file /Users/chelseayeung/gurobi.lic\n",
      "Academic license - for non-commercial use only\n"
     ]
    }
   ],
   "source": [
    "A1 = grb.Model('Q1')"
   ]
  },
  {
   "cell_type": "code",
   "execution_count": 3,
   "metadata": {},
   "outputs": [],
   "source": [
    "X={}\n",
    "X[1]=A1.addVar(obj=10,name=\"deluxe\")\n",
    "X[2]=A1.addVar(obj=15,name=\"professional\")"
   ]
  },
  {
   "cell_type": "code",
   "execution_count": 4,
   "metadata": {},
   "outputs": [],
   "source": [
    "A1.ModelSense = grb.GRB.MAXIMIZE"
   ]
  },
  {
   "cell_type": "code",
   "execution_count": 7,
   "metadata": {},
   "outputs": [
    {
     "data": {
      "text/plain": [
       "<gurobi.Constr *Awaiting Model Update*>"
      ]
     },
     "execution_count": 7,
     "metadata": {},
     "output_type": "execute_result"
    }
   ],
   "source": [
    "A1.addConstr(2*X[1]+4*X[2]<=100) # al\n",
    "A1.addConstr(3*X[1]+2*X[2]<=80) # steel"
   ]
  },
  {
   "cell_type": "code",
   "execution_count": 8,
   "metadata": {},
   "outputs": [],
   "source": [
    "A1.write('Tut2Q1.lp')"
   ]
  },
  {
   "cell_type": "code",
   "execution_count": 9,
   "metadata": {},
   "outputs": [
    {
     "name": "stdout",
     "output_type": "stream",
     "text": [
      "Gurobi Optimizer version 9.0.3 build v9.0.3rc0 (mac64)\n",
      "Optimize a model with 2 rows, 2 columns and 4 nonzeros\n",
      "Model fingerprint: 0x21151285\n",
      "Coefficient statistics:\n",
      "  Matrix range     [2e+00, 4e+00]\n",
      "  Objective range  [1e+01, 2e+01]\n",
      "  Bounds range     [0e+00, 0e+00]\n",
      "  RHS range        [8e+01, 1e+02]\n",
      "Presolve time: 0.01s\n",
      "Presolved: 2 rows, 2 columns, 4 nonzeros\n",
      "\n",
      "Iteration    Objective       Primal Inf.    Dual Inf.      Time\n",
      "       0    2.5000000e+31   2.750000e+30   2.500000e+01      0s\n",
      "       2    4.1250000e+02   0.000000e+00   0.000000e+00      0s\n",
      "\n",
      "Solved in 2 iterations and 0.01 seconds\n",
      "Optimal objective  4.125000000e+02\n"
     ]
    }
   ],
   "source": [
    "A1.optimize()"
   ]
  },
  {
   "cell_type": "code",
   "execution_count": 16,
   "metadata": {},
   "outputs": [
    {
     "name": "stdout",
     "output_type": "stream",
     "text": [
      "15.0\n",
      "17.5\n",
      "objective value: 412.5\n"
     ]
    }
   ],
   "source": [
    "print(X[1].x)\n",
    "print(X[2].x)\n",
    "print(\"objective value: 412.5\")"
   ]
  },
  {
   "cell_type": "markdown",
   "metadata": {},
   "source": [
    "# Sensitivity report"
   ]
  },
  {
   "cell_type": "code",
   "execution_count": 20,
   "metadata": {},
   "outputs": [
    {
     "name": "stdout",
     "output_type": "stream",
     "text": [
      "---------------------------------------------\n",
      "Reduced Cost:\n",
      "Variable - deluxe = 0.00\n",
      "Variable - professional = 0.00\n",
      "---------------------------------------------\n",
      "Largest value of objective coefficient at which the current optimal basis would remain optimal:\n",
      "Variable - deluxe = 22.50\n",
      "Variable - professional = 20.00\n",
      "---------------------------------------------\n",
      "Smallest value of objective coefficient at which the current optimal basis would remain optimal:\n",
      "Variable - deluxe = 7.50\n",
      "Variable - professional = 6.67\n",
      "---------------------------------------------\n",
      "---------------------------------------------\n",
      "Dual Variables/Shadow prices:\n",
      "Constraint - R0 = 3.125\n",
      "Constraint - R1 = 1.250\n",
      "---------------------------------------------\n",
      "Smallest RHS value at which the current optimal basis would remain optimal:\n",
      "Constraint - R0 = 53.33\n",
      "Constraint - R1 = 50.00\n",
      "---------------------------------------------\n",
      "largest RHS value at which the current optimal basis would remain optimal:\n",
      "Constraint - R0 = 160.00\n",
      "Constraint - R1 = 150.00\n"
     ]
    }
   ],
   "source": [
    "#Excel equivalent: Reduced Cost\n",
    "print ('---------------------------------------------')\n",
    "print ('Reduced Cost:')\n",
    "for i in A1.VarName:\n",
    "        ind = A1.VarName.index(i)\n",
    "        print ('Variable - {} = {:.2f}'.format(i,A1.RC[ind]))\n",
    "print ('---------------------------------------------')\n",
    "#Excel equivalent: ObjCoef + Allowable increase\n",
    "print ('Largest value of objective coefficient at which the current optimal basis would remain optimal:')\n",
    "for i in A1.VarName:\n",
    "        ind = A1.VarName.index(i)\n",
    "        print ('Variable - {} = {:.2f}'.format(i,A1.SAObjUp[ind]))\n",
    "print ('---------------------------------------------')\n",
    "#Excel equivalent: ObjCoef - Allowable decrease\n",
    "print ('Smallest value of objective coefficient at which the current optimal basis would remain optimal:')\n",
    "for i in A1.VarName:\n",
    "        ind = A1.VarName.index(i)\n",
    "        print ('Variable - {} = {:.2f}'.format(i,A1.SAObjLow[ind]))\n",
    "print ('---------------------------------------------')\n",
    "print ('---------------------------------------------')\n",
    "#Excel equivalent: Shadow Prices\n",
    "print ('Dual Variables/Shadow prices:')\n",
    "for i in A1.ConstrName:\n",
    "        ind = A1.ConstrName.index(i)\n",
    "        print ('Constraint - {} = {:.3f}'.format(i,A1.Pi[ind]))\n",
    "print ('---------------------------------------------')\n",
    "#Excel equivalent: Contraint RHS - Allowable Decrease\n",
    "print ('Smallest RHS value at which the current optimal basis would remain optimal:')\n",
    "for i in A1.ConstrName:\n",
    "        ind = A1.ConstrName.index(i)\n",
    "        print ('Constraint - {} = {:.2f}'.format(i,A1.SARHSLow[ind]))\n",
    "print ('---------------------------------------------')\n",
    "#Excel equivalent: Constraint RHS + Allowable increase\n",
    "print ('largest RHS value at which the current optimal basis would remain optimal:')\n",
    "for i in A1.ConstrName:\n",
    "        ind = A1.ConstrName.index(i)\n",
    "        print ('Constraint - {} = {:.2f}'.format(i,A1.SARHSUp[ind]))"
   ]
  },
  {
   "cell_type": "code",
   "execution_count": 21,
   "metadata": {},
   "outputs": [
    {
     "data": {
      "text/plain": [
       "697.5"
      ]
     },
     "execution_count": 21,
     "metadata": {},
     "output_type": "execute_result"
    }
   ],
   "source": [
    "15*29+17.5*15"
   ]
  },
  {
   "cell_type": "markdown",
   "metadata": {},
   "source": [
    "(3)The coefficient of $X_1$ in objective function increases by 10 which is smaller than the allowable increase of 12.5. The solution will still be optimal. The objective value will be $15\\times 20+17.5\\times15 = 697.5$"
   ]
  },
  {
   "cell_type": "markdown",
   "metadata": {},
   "source": [
    "(4)The allowable decrease for deluxe frames in objective function is 2.5. The decrease of profit is 4 which is greater than the allowable decrease. The solution may not be optimal."
   ]
  },
  {
   "cell_type": "markdown",
   "metadata": {},
   "source": [
    "(5)The sum of changes percentages is 0.88 which is smaller than 1. According to 100% rule, the solution is still optimal."
   ]
  },
  {
   "cell_type": "code",
   "execution_count": 25,
   "metadata": {},
   "outputs": [
    {
     "data": {
      "text/plain": [
       "0.88"
      ]
     },
     "execution_count": 25,
     "metadata": {},
     "output_type": "execute_result"
    }
   ],
   "source": [
    "(16-10)/(22.5-10)+(17-15)/(20-15)"
   ]
  },
  {
   "cell_type": "markdown",
   "metadata": {},
   "source": [
    "(6)$p \\geq 3\\times 3.125 + 3\\times 1.25$, the profit should be greater than 13.125."
   ]
  },
  {
   "cell_type": "code",
   "execution_count": 23,
   "metadata": {},
   "outputs": [
    {
     "data": {
      "text/plain": [
       "13.125"
      ]
     },
     "execution_count": 23,
     "metadata": {},
     "output_type": "execute_result"
    }
   ],
   "source": [
    "3*3.125+3*1.25"
   ]
  }
 ],
 "metadata": {
  "kernelspec": {
   "display_name": "Python 3",
   "language": "python",
   "name": "python3"
  },
  "language_info": {
   "codemirror_mode": {
    "name": "ipython",
    "version": 3
   },
   "file_extension": ".py",
   "mimetype": "text/x-python",
   "name": "python",
   "nbconvert_exporter": "python",
   "pygments_lexer": "ipython3",
   "version": "3.7.6"
  }
 },
 "nbformat": 4,
 "nbformat_minor": 4
}
