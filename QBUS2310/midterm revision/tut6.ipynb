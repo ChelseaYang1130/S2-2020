{
 "cells": [
  {
   "cell_type": "markdown",
   "metadata": {},
   "source": [
    "# Q1"
   ]
  },
  {
   "cell_type": "markdown",
   "metadata": {},
   "source": [
    "Let $X_{ij}$ be the binary variable indicating whether route from city i to city j in selected, where $i,j =1,2,3,4,5,6,7$.\n",
    "\n",
    "objective: min $Z=5X_{12}+13X_{13}+45X_{15}+105X_{17}+27X_{23}+19X_{24}+50X_{25}+95X_{27}+14X_{34}+30X_{35}+32X_{36}+14X_{43}+35X_{45}+24X_{46}+35X_{54}+18X_{56}+25X_{57}+24X_{64}+18X_{65}+17X_{67}$"
   ]
  },
  {
   "cell_type": "code",
   "execution_count": 18,
   "metadata": {},
   "outputs": [],
   "source": [
    "import gurobi as grb"
   ]
  },
  {
   "cell_type": "code",
   "execution_count": 19,
   "metadata": {},
   "outputs": [],
   "source": [
    "A3 = grb.Model('Q3')"
   ]
  },
  {
   "cell_type": "code",
   "execution_count": 20,
   "metadata": {},
   "outputs": [],
   "source": [
    "city = [1,2,3,4,5,6,7]\n",
    "coef = [[999,5,13,999,45,999,105],\n",
    "       [999,999,27,19,50,999,95],\n",
    "       [999,999,999,14,30,32,999],\n",
    "       [999,999,14,999,35,24,999],\n",
    "       [999,999,999,35,999,17,25],\n",
    "       [999,999,999,24,18,999,17],\n",
    "       [999,999,999,999,999,999,999]]\n",
    "\n",
    "X = A3.addVars(city,city,obj=coef,vtype=grb.GRB.BINARY)"
   ]
  },
  {
   "cell_type": "markdown",
   "metadata": {},
   "source": [
    "s.t.\n",
    "\n",
    "$-X_{12}-X_{13}-X_{15}-X_{17}=-1$\n",
    "\n",
    "$X_{12}-X_{23}-X_{24}-X_{25}-X_{27}=0$\n",
    "\n",
    "$X_{13}+X_{23}-X_{34}+X_{43}-X_{35}-X_{36}=0$\n",
    "\n",
    "$X_{24}+X_{34}-X_{43}-X_{45}+X_{54}-X_{46}+X_{64}\n",
    "=0$\n",
    "\n",
    "$X_{15}+X_{25}+X_{35}+X_{45}-X_{54}-X_{56}-X_{57}=0$\n",
    "\n",
    "$X_{36}+X_{46}+X_{56}-X_{67}-X_{64} -X_{65}=0$\n",
    "\n",
    "$X_{17}+X_{27}+X_{57}+X_{67}=1$"
   ]
  },
  {
   "cell_type": "code",
   "execution_count": 25,
   "metadata": {},
   "outputs": [
    {
     "data": {
      "text/plain": [
       "<gurobi.Constr *Awaiting Model Update*>"
      ]
     },
     "execution_count": 25,
     "metadata": {},
     "output_type": "execute_result"
    }
   ],
   "source": [
    "A3.addConstr(-X[(1,2)]-X[(1,3)]-X[(1,5)]-X[(1,7)]==-1)\n",
    "A3.addConstr(X[(1,2)]-X[(2,3)]-X[(2,4)]-X[(2,5)]-X[(2,7)]==0)\n",
    "A3.addConstr(X[(1,3)]+X[(2,3)]-X[(3,4)]+X[(4,3)]-X[(4,5)]+X[(5,4)]-X[(4,6)]==0)\n",
    "A3.addConstr(X[(2,4)]+X[(3,4)]-X[(4,3)]-X[(4,5)]+X[(5,4)]-X[(4,6)]+X[(6,4)]==0)\n",
    "A3.addConstr(X[(1,5)]+X[(2,5)]+X[(3,5)]+X[(4,5)]-X[(5,4)]-X[(5,6)]-X[(5,7)]==0)\n",
    "A3.addConstr(X[(3,6)]+X[(4,6)]+X[(5,6)]-X[(6,7)]-X[(6,4)]==0)\n",
    "A3.addConstr(X[(1,7)]+X[(2,7)]+X[(5,7)]+X[(6,7)]==1)"
   ]
  },
  {
   "cell_type": "code",
   "execution_count": 26,
   "metadata": {},
   "outputs": [],
   "source": [
    "A3.write('Tut6Q3.lp')"
   ]
  },
  {
   "cell_type": "code",
   "execution_count": 27,
   "metadata": {},
   "outputs": [
    {
     "name": "stdout",
     "output_type": "stream",
     "text": [
      "Gurobi Optimizer version 9.0.3 build v9.0.3rc0 (mac64)\n",
      "Optimize a model with 14 rows, 49 columns and 78 nonzeros\n",
      "Model fingerprint: 0xd3271d99\n",
      "Variable types: 0 continuous, 49 integer (49 binary)\n",
      "Coefficient statistics:\n",
      "  Matrix range     [1e+00, 1e+00]\n",
      "  Objective range  [5e+00, 1e+03]\n",
      "  Bounds range     [1e+00, 1e+00]\n",
      "  RHS range        [1e+00, 1e+00]\n",
      "\n",
      "Loaded MIP start from previous solve with objective 70\n",
      "\n",
      "Presolve removed 14 rows and 49 columns\n",
      "Presolve time: 0.00s\n",
      "Presolve: All rows and columns removed\n",
      "\n",
      "Explored 0 nodes (0 simplex iterations) in 0.01 seconds\n",
      "Thread count was 1 (of 8 available processors)\n",
      "\n",
      "Solution count 1: 70 \n",
      "\n",
      "Optimal solution found (tolerance 1.00e-04)\n",
      "Best objective 7.000000000000e+01, best bound 7.000000000000e+01, gap 0.0000%\n"
     ]
    }
   ],
   "source": [
    "A3.optimize()"
   ]
  },
  {
   "cell_type": "code",
   "execution_count": 28,
   "metadata": {},
   "outputs": [
    {
     "name": "stdout",
     "output_type": "stream",
     "text": [
      "X (1, 1) = 0.0\n",
      "X (1, 2) = 0.0\n",
      "X (1, 3) = 0.0\n",
      "X (1, 4) = 0.0\n",
      "X (1, 5) = 1.0\n",
      "X (1, 6) = 0.0\n",
      "X (1, 7) = 0.0\n",
      "X (2, 1) = 0.0\n",
      "X (2, 2) = 0.0\n",
      "X (2, 3) = 0.0\n",
      "X (2, 4) = 0.0\n",
      "X (2, 5) = 0.0\n",
      "X (2, 6) = 0.0\n",
      "X (2, 7) = 0.0\n",
      "X (3, 1) = 0.0\n",
      "X (3, 2) = 0.0\n",
      "X (3, 3) = 0.0\n",
      "X (3, 4) = 0.0\n",
      "X (3, 5) = 0.0\n",
      "X (3, 6) = 0.0\n",
      "X (3, 7) = 0.0\n",
      "X (4, 1) = 0.0\n",
      "X (4, 2) = 0.0\n",
      "X (4, 3) = 0.0\n",
      "X (4, 4) = 0.0\n",
      "X (4, 5) = 0.0\n",
      "X (4, 6) = 0.0\n",
      "X (4, 7) = 0.0\n",
      "X (5, 1) = 0.0\n",
      "X (5, 2) = 0.0\n",
      "X (5, 3) = 0.0\n",
      "X (5, 4) = 0.0\n",
      "X (5, 5) = 0.0\n",
      "X (5, 6) = 0.0\n",
      "X (5, 7) = 1.0\n",
      "X (6, 1) = 0.0\n",
      "X (6, 2) = 0.0\n",
      "X (6, 3) = 0.0\n",
      "X (6, 4) = 0.0\n",
      "X (6, 5) = 0.0\n",
      "X (6, 6) = 0.0\n",
      "X (6, 7) = 0.0\n",
      "X (7, 1) = 0.0\n",
      "X (7, 2) = 0.0\n",
      "X (7, 3) = 0.0\n",
      "X (7, 4) = 0.0\n",
      "X (7, 5) = 0.0\n",
      "X (7, 6) = 0.0\n",
      "X (7, 7) = 0.0\n"
     ]
    }
   ],
   "source": [
    "for i in X:\n",
    "    print(\"X\",i,\"=\",X[i].x)"
   ]
  },
  {
   "cell_type": "code",
   "execution_count": null,
   "metadata": {},
   "outputs": [],
   "source": []
  }
 ],
 "metadata": {
  "kernelspec": {
   "display_name": "Python 3",
   "language": "python",
   "name": "python3"
  },
  "language_info": {
   "codemirror_mode": {
    "name": "ipython",
    "version": 3
   },
   "file_extension": ".py",
   "mimetype": "text/x-python",
   "name": "python",
   "nbconvert_exporter": "python",
   "pygments_lexer": "ipython3",
   "version": "3.7.6"
  }
 },
 "nbformat": 4,
 "nbformat_minor": 4
}
