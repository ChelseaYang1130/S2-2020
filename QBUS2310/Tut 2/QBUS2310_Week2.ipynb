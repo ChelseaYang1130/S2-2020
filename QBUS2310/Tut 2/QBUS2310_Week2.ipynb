{
 "cells": [
  {
   "cell_type": "code",
   "execution_count": 2,
   "metadata": {},
   "outputs": [],
   "source": [
    "import gurobipy as grb"
   ]
  },
  {
   "cell_type": "code",
   "execution_count": 3,
   "metadata": {},
   "outputs": [
    {
     "name": "stdout",
     "output_type": "stream",
     "text": [
      "Using license file /Users/chelseayeung/gurobi.lic\n",
      "Academic license - for non-commercial use only\n"
     ]
    }
   ],
   "source": [
    "A = grb.Model('W2')"
   ]
  },
  {
   "cell_type": "code",
   "execution_count": 4,
   "metadata": {},
   "outputs": [],
   "source": [
    "X = {}\n",
    "X[1] = A.addVar(obj = 10, name = 'Deluxe')\n",
    "X[2] = A.addVar(obj = 15, name = 'Pro')"
   ]
  },
  {
   "cell_type": "code",
   "execution_count": 5,
   "metadata": {},
   "outputs": [],
   "source": [
    "A.modelSense = grb.GRB.MAXIMIZE"
   ]
  },
  {
   "cell_type": "code",
   "execution_count": 6,
   "metadata": {},
   "outputs": [
    {
     "data": {
      "text/plain": [
       "<gurobi.Constr *Awaiting Model Update*>"
      ]
     },
     "execution_count": 6,
     "metadata": {},
     "output_type": "execute_result"
    }
   ],
   "source": [
    "A.addConstr(2*X[1]+4*X[2]<=100, name = 'Al')\n",
    "A.addConstr(3*X[1]+2*X[2]<=80, name = 'Steel')"
   ]
  },
  {
   "cell_type": "code",
   "execution_count": 7,
   "metadata": {},
   "outputs": [
    {
     "name": "stdout",
     "output_type": "stream",
     "text": [
      "Gurobi Optimizer version 9.0.3 build v9.0.3rc0 (mac64)\n",
      "Optimize a model with 2 rows, 2 columns and 4 nonzeros\n",
      "Model fingerprint: 0x21151285\n",
      "Coefficient statistics:\n",
      "  Matrix range     [2e+00, 4e+00]\n",
      "  Objective range  [1e+01, 2e+01]\n",
      "  Bounds range     [0e+00, 0e+00]\n",
      "  RHS range        [8e+01, 1e+02]\n",
      "Presolve time: 0.01s\n",
      "Presolved: 2 rows, 2 columns, 4 nonzeros\n",
      "\n",
      "Iteration    Objective       Primal Inf.    Dual Inf.      Time\n",
      "       0    2.5000000e+31   2.750000e+30   2.500000e+01      0s\n",
      "       2    4.1250000e+02   0.000000e+00   0.000000e+00      0s\n",
      "\n",
      "Solved in 2 iterations and 0.02 seconds\n",
      "Optimal objective  4.125000000e+02\n"
     ]
    }
   ],
   "source": [
    "A.optimize()"
   ]
  },
  {
   "cell_type": "code",
   "execution_count": 8,
   "metadata": {},
   "outputs": [
    {
     "name": "stdout",
     "output_type": "stream",
     "text": [
      "The optimal solution is\n",
      "Producing 15.0 units of Deluxe\n",
      "Producing 17.5 units of Pro\n",
      "The optimal profit is 412.5\n"
     ]
    }
   ],
   "source": [
    "print(\"The optimal solution is\")\n",
    "for v in X:\n",
    "    print(\"Producing {} units of {}\".format(X[v].x, X[v].varName))\n",
    "print(\"The optimal profit is {}\".format(A.objVal))"
   ]
  },
  {
   "cell_type": "code",
   "execution_count": 9,
   "metadata": {},
   "outputs": [
    {
     "name": "stdout",
     "output_type": "stream",
     "text": [
      "---------------------------------------------\n",
      "Reduced Cost:\n",
      "Variable - Deluxe = 0.00\n",
      "Variable - Pro = 0.00\n",
      "---------------------------------------------\n",
      "Largest value of objective coefficient at which the current optimal basis would remain optimal:\n",
      "Variable - Deluxe = 22.50\n",
      "Variable - Pro = 20.00\n",
      "---------------------------------------------\n",
      "Smallest value of objective coefficient at which the current optimal basis would remain optimal:\n",
      "Variable - Deluxe = 7.50\n",
      "Variable - Pro = 6.67\n",
      "---------------------------------------------\n",
      "---------------------------------------------\n",
      "Dual Variables/Shadow prices:\n",
      "Constraint - Al = 3.125\n",
      "Constraint - Steel = 1.250\n",
      "---------------------------------------------\n",
      "Smallest RHS value at which the current optimal basis would remain optimal:\n",
      "Constraint - Al = 53.33\n",
      "Constraint - Steel = 50.00\n",
      "---------------------------------------------\n",
      "largest RHS value at which the current optimal basis would remain optimal:\n",
      "Constraint - Al = 160.00\n",
      "Constraint - Steel = 150.00\n"
     ]
    }
   ],
   "source": [
    "#Excel equivalent: Reduced Cost\n",
    "print ('---------------------------------------------')\n",
    "print ('Reduced Cost:')\n",
    "for i in A.VarName:\n",
    "        ind = A.VarName.index(i)\n",
    "        print ('Variable - {} = {:.2f}'.format(i,A.RC[ind]))\n",
    "print ('---------------------------------------------')\n",
    "#Excel equivalent: ObjCoef + Allowable increase\n",
    "print ('Largest value of objective coefficient at which the current optimal basis would remain optimal:')\n",
    "for i in A.VarName:\n",
    "        ind = A.VarName.index(i)\n",
    "        print ('Variable - {} = {:.2f}'.format(i,A.SAObjUp[ind]))\n",
    "print ('---------------------------------------------')\n",
    "#Excel equivalent: ObjCoef - Allowable decrease\n",
    "print ('Smallest value of objective coefficient at which the current optimal basis would remain optimal:')\n",
    "for i in A.VarName:\n",
    "        ind = A.VarName.index(i)\n",
    "        print ('Variable - {} = {:.2f}'.format(i,A.SAObjLow[ind]))\n",
    "print ('---------------------------------------------')\n",
    "print ('---------------------------------------------')\n",
    "#Excel equivalent: Shadow Prices\n",
    "print ('Dual Variables/Shadow prices:')\n",
    "for i in A.ConstrName:\n",
    "        ind = A.ConstrName.index(i)\n",
    "        print ('Constraint - {} = {:.3f}'.format(i,A.Pi[ind]))\n",
    "print ('---------------------------------------------')\n",
    "#Excel equivalent: Contraint RHS - Allowable Decrease\n",
    "print ('Smallest RHS value at which the current optimal basis would remain optimal:')\n",
    "for i in A.ConstrName:\n",
    "        ind = A.ConstrName.index(i)\n",
    "        print ('Constraint - {} = {:.2f}'.format(i,A.SARHSLow[ind]))\n",
    "print ('---------------------------------------------')\n",
    "#Excel equivalent: Constraint RHS + Allowable increase\n",
    "print ('largest RHS value at which the current optimal basis would remain optimal:')\n",
    "for i in A.ConstrName:\n",
    "        ind = A.ConstrName.index(i)\n",
    "        print ('Constraint - {} = {:.2f}'.format(i,A.SARHSUp[ind]))\n"
   ]
  },
  {
   "cell_type": "code",
   "execution_count": null,
   "metadata": {
    "collapsed": true
   },
   "outputs": [],
   "source": []
  }
 ],
 "metadata": {
  "kernelspec": {
   "display_name": "Python 3",
   "language": "python",
   "name": "python3"
  },
  "language_info": {
   "codemirror_mode": {
    "name": "ipython",
    "version": 3
   },
   "file_extension": ".py",
   "mimetype": "text/x-python",
   "name": "python",
   "nbconvert_exporter": "python",
   "pygments_lexer": "ipython3",
   "version": "3.7.6"
  }
 },
 "nbformat": 4,
 "nbformat_minor": 2
}
