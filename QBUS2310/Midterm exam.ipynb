{
 "cells": [
  {
   "cell_type": "code",
   "execution_count": 71,
   "metadata": {},
   "outputs": [],
   "source": [
    "import gurobi as grb"
   ]
  },
  {
   "cell_type": "code",
   "execution_count": 115,
   "metadata": {},
   "outputs": [],
   "source": [
    "A1 = grb.Model('Q1')"
   ]
  },
  {
   "cell_type": "code",
   "execution_count": 116,
   "metadata": {},
   "outputs": [],
   "source": [
    "node = [1,2,3,4,5,6]\n",
    "coef = [[999,999,4,10,999,999],\n",
    "       [999,999,6,999,999,11],\n",
    "       [999,999,999,7,3,3],\n",
    "       [999,999,999,999,999,999],\n",
    "       [999,999,999,999,999,999],\n",
    "       [999,999,999,999,999,999]]\n",
    "X = A1.addVars(node,node,obj=coef)"
   ]
  },
  {
   "cell_type": "code",
   "execution_count": 117,
   "metadata": {},
   "outputs": [],
   "source": [
    "A1.ModelSense = grb.GRB.MINIMIZE"
   ]
  },
  {
   "cell_type": "code",
   "execution_count": 118,
   "metadata": {},
   "outputs": [
    {
     "data": {
      "text/plain": [
       "<gurobi.Constr *Awaiting Model Update*>"
      ]
     },
     "execution_count": 118,
     "metadata": {},
     "output_type": "execute_result"
    }
   ],
   "source": [
    "A1.addConstr(X[(1,3)]+X[(1,4)]<=130)\n",
    "A1.addConstr(X[(2,3)]+X[(2,6)]<=120)\n",
    "A1.addConstr(0.95*X[(1,3)]+0.9*X[(2,4)]-0.9*X[(3,4)]-0.95*X[(3,5)]-0.85*X[(3,6)]<=-10)\n",
    "A1.addConstr(0.85*X[(1,4)]+0.9*X[(3,4)]<=80)\n",
    "A1.addConstr(0.95*X[(3,5)]<=100)\n",
    "A1.addConstr(0.85*X[(3,6)]+0.8*X[(2,6)]<=90)\n",
    "\n",
    "A1.addConstr(X[(1,3)]+X[(1,4)]>=0)\n",
    "A1.addConstr(X[(2,3)]+X[(2,6)]>=0)"
   ]
  },
  {
   "cell_type": "code",
   "execution_count": 119,
   "metadata": {},
   "outputs": [],
   "source": [
    "A1.write('ExamQ1.lp')"
   ]
  },
  {
   "cell_type": "code",
   "execution_count": 120,
   "metadata": {},
   "outputs": [
    {
     "name": "stdout",
     "output_type": "stream",
     "text": [
      "Gurobi Optimizer version 9.0.3 build v9.0.3rc0 (mac64)\n",
      "Optimize a model with 8 rows, 36 columns and 18 nonzeros\n",
      "Model fingerprint: 0x8ef444de\n",
      "Coefficient statistics:\n",
      "  Matrix range     [8e-01, 1e+00]\n",
      "  Objective range  [3e+00, 1e+03]\n",
      "  Bounds range     [0e+00, 0e+00]\n",
      "  RHS range        [1e+01, 1e+02]\n",
      "Presolve removed 7 rows and 31 columns\n",
      "Presolve time: 0.01s\n",
      "Presolved: 1 rows, 5 columns, 5 nonzeros\n",
      "\n",
      "Iteration    Objective       Primal Inf.    Dual Inf.      Time\n",
      "       0    0.0000000e+00   2.500000e+00   0.000000e+00      0s\n",
      "       1    3.1578947e+01   0.000000e+00   0.000000e+00      0s\n",
      "\n",
      "Solved in 1 iterations and 0.01 seconds\n",
      "Optimal objective  3.157894737e+01\n"
     ]
    }
   ],
   "source": [
    "A1.optimize()"
   ]
  },
  {
   "cell_type": "code",
   "execution_count": 121,
   "metadata": {},
   "outputs": [
    {
     "name": "stdout",
     "output_type": "stream",
     "text": [
      "X (1, 1) = 0.0\n",
      "X (1, 2) = 0.0\n",
      "X (1, 3) = 0.0\n",
      "X (1, 4) = 0.0\n",
      "X (1, 5) = 0.0\n",
      "X (1, 6) = 0.0\n",
      "X (2, 1) = 0.0\n",
      "X (2, 2) = 0.0\n",
      "X (2, 3) = 0.0\n",
      "X (2, 4) = 0.0\n",
      "X (2, 5) = 0.0\n",
      "X (2, 6) = 0.0\n",
      "X (3, 1) = 0.0\n",
      "X (3, 2) = 0.0\n",
      "X (3, 3) = 0.0\n",
      "X (3, 4) = 0.0\n",
      "X (3, 5) = 10.526315789473685\n",
      "X (3, 6) = 0.0\n",
      "X (4, 1) = 0.0\n",
      "X (4, 2) = 0.0\n",
      "X (4, 3) = 0.0\n",
      "X (4, 4) = 0.0\n",
      "X (4, 5) = 0.0\n",
      "X (4, 6) = 0.0\n",
      "X (5, 1) = 0.0\n",
      "X (5, 2) = 0.0\n",
      "X (5, 3) = 0.0\n",
      "X (5, 4) = 0.0\n",
      "X (5, 5) = 0.0\n",
      "X (5, 6) = 0.0\n",
      "X (6, 1) = 0.0\n",
      "X (6, 2) = 0.0\n",
      "X (6, 3) = 0.0\n",
      "X (6, 4) = 0.0\n",
      "X (6, 5) = 0.0\n",
      "X (6, 6) = 0.0\n",
      "31.578947368421055\n"
     ]
    }
   ],
   "source": [
    "for i in X:\n",
    "    print(\"X\",i,\"=\",X[i].x)\n",
    "    \n",
    "print(A1.ObjVal)"
   ]
  },
  {
   "cell_type": "code",
   "execution_count": 103,
   "metadata": {},
   "outputs": [
    {
     "name": "stdout",
     "output_type": "stream",
     "text": [
      "---------------------------------------------\n",
      "Reduced Cost:\n",
      "Variable - C0 = 999.00\n",
      "Variable - C1 = 999.00\n",
      "Variable - C2 = 7.00\n",
      "Variable - C3 = 10.00\n",
      "Variable - C4 = 999.00\n",
      "Variable - C5 = 999.00\n",
      "Variable - C6 = 999.00\n",
      "Variable - C7 = 999.00\n",
      "Variable - C8 = 6.00\n",
      "Variable - C9 = 1001.84\n",
      "Variable - C10 = 999.00\n",
      "Variable - C11 = 11.00\n",
      "Variable - C12 = 999.00\n",
      "Variable - C13 = 999.00\n",
      "Variable - C14 = 999.00\n",
      "Variable - C15 = 4.16\n",
      "Variable - C16 = 0.00\n",
      "Variable - C17 = 0.32\n",
      "Variable - C18 = 999.00\n",
      "Variable - C19 = 999.00\n",
      "Variable - C20 = 999.00\n",
      "Variable - C21 = 999.00\n",
      "Variable - C22 = 999.00\n",
      "Variable - C23 = 999.00\n",
      "Variable - C24 = 999.00\n",
      "Variable - C25 = 999.00\n",
      "Variable - C26 = 999.00\n",
      "Variable - C27 = 999.00\n",
      "Variable - C28 = 999.00\n",
      "Variable - C29 = 999.00\n",
      "Variable - C30 = 999.00\n",
      "Variable - C31 = 999.00\n",
      "Variable - C32 = 999.00\n",
      "Variable - C33 = 999.00\n",
      "Variable - C34 = 999.00\n",
      "Variable - C35 = 999.00\n",
      "---------------------------------------------\n",
      "Largest value of objective coefficient at which the current optimal basis would remain optimal:\n",
      "Variable - C0 = inf\n",
      "Variable - C1 = inf\n",
      "Variable - C2 = inf\n",
      "Variable - C3 = inf\n",
      "Variable - C4 = inf\n",
      "Variable - C5 = inf\n",
      "Variable - C6 = inf\n",
      "Variable - C7 = inf\n",
      "Variable - C8 = inf\n",
      "Variable - C9 = inf\n",
      "Variable - C10 = inf\n",
      "Variable - C11 = inf\n",
      "Variable - C12 = inf\n",
      "Variable - C13 = inf\n",
      "Variable - C14 = inf\n",
      "Variable - C15 = inf\n",
      "Variable - C16 = 3.35\n",
      "Variable - C17 = inf\n",
      "Variable - C18 = inf\n",
      "Variable - C19 = inf\n",
      "Variable - C20 = inf\n",
      "Variable - C21 = inf\n",
      "Variable - C22 = inf\n",
      "Variable - C23 = inf\n",
      "Variable - C24 = inf\n",
      "Variable - C25 = inf\n",
      "Variable - C26 = inf\n",
      "Variable - C27 = inf\n",
      "Variable - C28 = inf\n",
      "Variable - C29 = inf\n",
      "Variable - C30 = inf\n",
      "Variable - C31 = inf\n",
      "Variable - C32 = inf\n",
      "Variable - C33 = inf\n",
      "Variable - C34 = inf\n",
      "Variable - C35 = inf\n",
      "---------------------------------------------\n",
      "Smallest value of objective coefficient at which the current optimal basis would remain optimal:\n",
      "Variable - C0 = 0.00\n",
      "Variable - C1 = 0.00\n",
      "Variable - C2 = -3.00\n",
      "Variable - C3 = 0.00\n",
      "Variable - C4 = 0.00\n",
      "Variable - C5 = 0.00\n",
      "Variable - C6 = 0.00\n",
      "Variable - C7 = 0.00\n",
      "Variable - C8 = 0.00\n",
      "Variable - C9 = -2.84\n",
      "Variable - C10 = 0.00\n",
      "Variable - C11 = 0.00\n",
      "Variable - C12 = 0.00\n",
      "Variable - C13 = 0.00\n",
      "Variable - C14 = 0.00\n",
      "Variable - C15 = 2.84\n",
      "Variable - C16 = 0.00\n",
      "Variable - C17 = 2.68\n",
      "Variable - C18 = 0.00\n",
      "Variable - C19 = 0.00\n",
      "Variable - C20 = 0.00\n",
      "Variable - C21 = 0.00\n",
      "Variable - C22 = 0.00\n",
      "Variable - C23 = 0.00\n",
      "Variable - C24 = 0.00\n",
      "Variable - C25 = 0.00\n",
      "Variable - C26 = 0.00\n",
      "Variable - C27 = 0.00\n",
      "Variable - C28 = 0.00\n",
      "Variable - C29 = 0.00\n",
      "Variable - C30 = 0.00\n",
      "Variable - C31 = 0.00\n",
      "Variable - C32 = 0.00\n",
      "Variable - C33 = 0.00\n",
      "Variable - C34 = 0.00\n",
      "Variable - C35 = 0.00\n",
      "---------------------------------------------\n",
      "---------------------------------------------\n",
      "Dual Variables/Shadow prices:\n",
      "Constraint - R0 = 0.000\n",
      "Constraint - R1 = 0.000\n",
      "Constraint - R2 = -3.158\n",
      "Constraint - R3 = 0.000\n",
      "Constraint - R4 = 0.000\n",
      "Constraint - R5 = 0.000\n",
      "---------------------------------------------\n",
      "Smallest RHS value at which the current optimal basis would remain optimal:\n",
      "Constraint - R0 = 0.00\n",
      "Constraint - R1 = 0.00\n",
      "Constraint - R2 = -100.00\n",
      "Constraint - R3 = 0.00\n",
      "Constraint - R4 = 10.00\n",
      "Constraint - R5 = 0.00\n",
      "---------------------------------------------\n",
      "largest RHS value at which the current optimal basis would remain optimal:\n",
      "Constraint - R0 = inf\n",
      "Constraint - R1 = inf\n",
      "Constraint - R2 = 0.00\n",
      "Constraint - R3 = inf\n",
      "Constraint - R4 = inf\n",
      "Constraint - R5 = inf\n"
     ]
    }
   ],
   "source": [
    "#Excel equivalent: Reduced Cost\n",
    "print ('---------------------------------------------')\n",
    "print ('Reduced Cost:')\n",
    "for i in A1.VarName:\n",
    "        ind = A1.VarName.index(i)\n",
    "        print ('Variable - {} = {:.2f}'.format(i,A1.RC[ind]))\n",
    "print ('---------------------------------------------')\n",
    "#Excel equivalent: ObjCoef + Allowable increase\n",
    "print ('Largest value of objective coefficient at which the current optimal basis would remain optimal:')\n",
    "for i in A1.VarName:\n",
    "        ind = A1.VarName.index(i)\n",
    "        print ('Variable - {} = {:.2f}'.format(i,A1.SAObjUp[ind]))\n",
    "print ('---------------------------------------------')\n",
    "#Excel equivalent: ObjCoef - Allowable decrease\n",
    "print ('Smallest value of objective coefficient at which the current optimal basis would remain optimal:')\n",
    "for i in A1.VarName:\n",
    "        ind = A1.VarName.index(i)\n",
    "        print ('Variable - {} = {:.2f}'.format(i,A1.SAObjLow[ind]))\n",
    "print ('---------------------------------------------')\n",
    "print ('---------------------------------------------')\n",
    "#Excel equivalent: Shadow Prices\n",
    "print ('Dual Variables/Shadow prices:')\n",
    "for i in A1.ConstrName:\n",
    "        ind = A1.ConstrName.index(i)\n",
    "        print ('Constraint - {} = {:.3f}'.format(i,A1.Pi[ind]))\n",
    "print ('---------------------------------------------')\n",
    "#Excel equivalent: Contraint RHS - Allowable Decrease\n",
    "print ('Smallest RHS value at which the current optimal basis would remain optimal:')\n",
    "for i in A1.ConstrName:\n",
    "        ind = A1.ConstrName.index(i)\n",
    "        print ('Constraint - {} = {:.2f}'.format(i,A1.SARHSLow[ind]))\n",
    "print ('---------------------------------------------')\n",
    "#Excel equivalent: Constraint RHS + Allowable increase\n",
    "print ('largest RHS value at which the current optimal basis would remain optimal:')\n",
    "for i in A1.ConstrName:\n",
    "        ind = A1.ConstrName.index(i)\n",
    "        print ('Constraint - {} = {:.2f}'.format(i,A1.SARHSUp[ind]))"
   ]
  },
  {
   "cell_type": "code",
   "execution_count": 6,
   "metadata": {},
   "outputs": [
    {
     "data": {
      "text/plain": [
       "137.98"
      ]
     },
     "execution_count": 6,
     "metadata": {},
     "output_type": "execute_result"
    }
   ],
   "source": [
    "14*1.45+8.36*13+20*(1.45-1)"
   ]
  },
  {
   "cell_type": "code",
   "execution_count": null,
   "metadata": {},
   "outputs": [],
   "source": [
    "A = grb.Model('2')\n"
   ]
  }
 ],
 "metadata": {
  "kernelspec": {
   "display_name": "Python 3",
   "language": "python",
   "name": "python3"
  },
  "language_info": {
   "codemirror_mode": {
    "name": "ipython",
    "version": 3
   },
   "file_extension": ".py",
   "mimetype": "text/x-python",
   "name": "python",
   "nbconvert_exporter": "python",
   "pygments_lexer": "ipython3",
   "version": "3.7.6"
  }
 },
 "nbformat": 4,
 "nbformat_minor": 4
}
