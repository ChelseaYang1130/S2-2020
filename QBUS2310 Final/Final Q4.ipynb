{
 "cells": [
  {
   "cell_type": "code",
   "execution_count": 1,
   "metadata": {},
   "outputs": [],
   "source": [
    "import gurobi as grb"
   ]
  },
  {
   "cell_type": "code",
   "execution_count": 2,
   "metadata": {},
   "outputs": [
    {
     "name": "stdout",
     "output_type": "stream",
     "text": [
      "Using license file /Users/chelseayeung/gurobi.lic\n",
      "Academic license - for non-commercial use only\n"
     ]
    }
   ],
   "source": [
    "A1 = grb.Model('Q4a')"
   ]
  },
  {
   "cell_type": "code",
   "execution_count": 3,
   "metadata": {},
   "outputs": [],
   "source": [
    "route = ['AB','AC','BD','BE','CD','CE','DF','EF']\n",
    "toll = [8,5,7,17,11,14,18,16]\n",
    "safety = [8,5,8,10,6,4,9,5]\n",
    "X1 = A1.addVars(route,obj=toll,name=\"X\",vtype=grb.GRB.INTEGER)"
   ]
  },
  {
   "cell_type": "code",
   "execution_count": 4,
   "metadata": {},
   "outputs": [
    {
     "data": {
      "text/plain": [
       "<gurobi.Constr *Awaiting Model Update*>"
      ]
     },
     "execution_count": 4,
     "metadata": {},
     "output_type": "execute_result"
    }
   ],
   "source": [
    "for i in route:\n",
    "    A1.addConstr(X1[i]>=5)\n",
    "    A1.addConstr(X1[i]<=15)\n",
    "    \n",
    "A1.addConstr(-X1['AB']-X1['AC']==-25,name=\"A\")\n",
    "A1.addConstr(X1['AB']-X1['BD']-X1['BE']==0,name=\"B\")\n",
    "A1.addConstr(X1['AC']-X1['CD']-X1['CE']==0,name=\"C\")\n",
    "A1.addConstr(X1['BD']+X1['CD']-X1['DF']==0,name=\"D\")\n",
    "A1.addConstr(X1['BE']+X1['CE']-X1['EF']==0,name=\"E\")\n",
    "A1.addConstr(X1['DF']+X1['EF']==25,name=\"F\")"
   ]
  },
  {
   "cell_type": "code",
   "execution_count": 5,
   "metadata": {},
   "outputs": [],
   "source": [
    "A1.ModelSense = grb.GRB.MINIMIZE"
   ]
  },
  {
   "cell_type": "code",
   "execution_count": 6,
   "metadata": {},
   "outputs": [],
   "source": [
    "A1.write('Q4a.lp')"
   ]
  },
  {
   "cell_type": "code",
   "execution_count": 7,
   "metadata": {},
   "outputs": [
    {
     "name": "stdout",
     "output_type": "stream",
     "text": [
      "Gurobi Optimizer version 9.0.3 build v9.0.3rc0 (mac64)\n",
      "Optimize a model with 22 rows, 8 columns and 32 nonzeros\n",
      "Model fingerprint: 0xec369586\n",
      "Variable types: 0 continuous, 8 integer (0 binary)\n",
      "Coefficient statistics:\n",
      "  Matrix range     [1e+00, 1e+00]\n",
      "  Objective range  [5e+00, 2e+01]\n",
      "  Bounds range     [0e+00, 0e+00]\n",
      "  RHS range        [5e+00, 2e+01]\n",
      "Presolve removed 22 rows and 8 columns\n",
      "Presolve time: 0.00s\n",
      "Presolve: All rows and columns removed\n",
      "\n",
      "Explored 0 nodes (0 simplex iterations) in 0.01 seconds\n",
      "Thread count was 1 (of 8 available processors)\n",
      "\n",
      "Solution count 1: 880 \n",
      "\n",
      "Optimal solution found (tolerance 1.00e-04)\n",
      "Best objective 8.800000000000e+02, best bound 8.800000000000e+02, gap 0.0000%\n"
     ]
    }
   ],
   "source": [
    "A1.optimize()"
   ]
  },
  {
   "cell_type": "code",
   "execution_count": 8,
   "metadata": {},
   "outputs": [
    {
     "name": "stdout",
     "output_type": "stream",
     "text": [
      "X[AB]=15.0\n",
      "X[AC]=10.0\n",
      "X[BD]=10.0\n",
      "X[BE]=5.0\n",
      "X[CD]=5.0\n",
      "X[CE]=5.0\n",
      "X[DF]=15.0\n",
      "X[EF]=10.0\n",
      "880.0\n"
     ]
    }
   ],
   "source": [
    "for i in X1:\n",
    "    print(\"X[{}]={}\".format(i,X1[i].x))\n",
    "print(A1.ObjVal)"
   ]
  },
  {
   "cell_type": "markdown",
   "metadata": {},
   "source": [
    "# b"
   ]
  },
  {
   "cell_type": "code",
   "execution_count": 9,
   "metadata": {},
   "outputs": [],
   "source": [
    "A2 = grb.Model('Q4b')"
   ]
  },
  {
   "cell_type": "code",
   "execution_count": 10,
   "metadata": {},
   "outputs": [],
   "source": [
    "X2 = A2.addVars(route,obj=safety,name=\"X\",vtype=grb.GRB.INTEGER)"
   ]
  },
  {
   "cell_type": "code",
   "execution_count": 11,
   "metadata": {},
   "outputs": [
    {
     "data": {
      "text/plain": [
       "<gurobi.Constr *Awaiting Model Update*>"
      ]
     },
     "execution_count": 11,
     "metadata": {},
     "output_type": "execute_result"
    }
   ],
   "source": [
    "for i in route:\n",
    "    A2.addConstr(X2[i]>=5)\n",
    "    A2.addConstr(X2[i]<=15)\n",
    "    \n",
    "A2.addConstr(-X2['AB']-X2['AC']==-25,name=\"A\")\n",
    "A2.addConstr(X2['AB']-X2['BD']-X2['BE']==0,name=\"B\")\n",
    "A2.addConstr(X2['AC']-X2['CD']-X2['CE']==0,name=\"C\")\n",
    "A2.addConstr(X2['BD']+X2['CD']-X2['DF']==0,name=\"D\")\n",
    "A2.addConstr(X2['BE']+X2['CE']-X2['EF']==0,name=\"E\")\n",
    "A2.addConstr(X2['DF']+X2['EF']==25,name=\"F\")"
   ]
  },
  {
   "cell_type": "code",
   "execution_count": 12,
   "metadata": {},
   "outputs": [],
   "source": [
    "A2.ModelSense = grb.GRB.MAXIMIZE"
   ]
  },
  {
   "cell_type": "code",
   "execution_count": 13,
   "metadata": {},
   "outputs": [],
   "source": [
    "A2.write('Q4b.lp')"
   ]
  },
  {
   "cell_type": "code",
   "execution_count": 19,
   "metadata": {},
   "outputs": [
    {
     "name": "stdout",
     "output_type": "stream",
     "text": [
      "Gurobi Optimizer version 9.0.3 build v9.0.3rc0 (mac64)\n",
      "Optimize a model with 22 rows, 8 columns and 32 nonzeros\n",
      "Model fingerprint: 0x4f91cedb\n",
      "Variable types: 0 continuous, 8 integer (0 binary)\n",
      "Coefficient statistics:\n",
      "  Matrix range     [1e+00, 1e+00]\n",
      "  Objective range  [4e+00, 1e+01]\n",
      "  Bounds range     [0e+00, 0e+00]\n",
      "  RHS range        [5e+00, 2e+01]\n",
      "\n",
      "Loaded MIP start from previous solve with objective -1e+100\n",
      "\n",
      "Presolve removed 22 rows and 8 columns\n",
      "Presolve time: 0.00s\n",
      "Presolve: All rows and columns removed\n",
      "\n",
      "Explored 0 nodes (0 simplex iterations) in 0.01 seconds\n",
      "Thread count was 1 (of 8 available processors)\n",
      "\n",
      "Solution count 1: 535 \n",
      "\n",
      "Optimal solution found (tolerance 1.00e-04)\n",
      "Best objective 5.350000000000e+02, best bound 5.350000000000e+02, gap 0.0000%\n"
     ]
    }
   ],
   "source": [
    "A2.optimize()"
   ]
  },
  {
   "cell_type": "code",
   "execution_count": 30,
   "metadata": {},
   "outputs": [
    {
     "name": "stdout",
     "output_type": "stream",
     "text": [
      "X[AB]=15.0\n",
      "X[AC]=10.0\n",
      "X[BD]=10.0\n",
      "X[BE]=5.0\n",
      "X[CD]=5.0\n",
      "X[CE]=5.0\n",
      "X[DF]=15.0\n",
      "X[EF]=10.0\n",
      "535.0\n"
     ]
    }
   ],
   "source": [
    "for i in route:\n",
    "    print(\"X[{}]={}\".format(i,X2[i].x))\n",
    "max_safety = A2.ObjVal\n",
    "print(A2.ObjVal)\n",
    "s = 8*X1['AB'].x+5*X1['AC'].x+8*X1['BD'].x+10*X1['BE'].x+6*X1['CD'].x+4*X1['CE'].x+9*X1['DF'].x+5*X1['EF'].x\n"
   ]
  },
  {
   "cell_type": "markdown",
   "metadata": {},
   "source": [
    "### c"
   ]
  },
  {
   "cell_type": "code",
   "execution_count": 41,
   "metadata": {},
   "outputs": [],
   "source": [
    "A3 = grb.Model('Q4c')"
   ]
  },
  {
   "cell_type": "code",
   "execution_count": 42,
   "metadata": {},
   "outputs": [],
   "source": [
    "X3 = A3.addVars(route,name=\"X\",vtype=grb.GRB.INTEGER)\n",
    "Q =A3.addVar(obj=1,name=\"Q\")"
   ]
  },
  {
   "cell_type": "code",
   "execution_count": 43,
   "metadata": {},
   "outputs": [
    {
     "data": {
      "text/plain": [
       "<gurobi.Constr *Awaiting Model Update*>"
      ]
     },
     "execution_count": 43,
     "metadata": {},
     "output_type": "execute_result"
    }
   ],
   "source": [
    "for i in route:\n",
    "    A3.addConstr(X3[i]>=5)\n",
    "    A3.addConstr(X3[i]<=15)\n",
    "    \n",
    "A3.addConstr(-X3['AB']-X3['AC']==-25,name=\"A\")\n",
    "A3.addConstr(X3['AB']-X3['BD']-X3['BE']==0,name=\"B\")\n",
    "A3.addConstr(X3['AC']-X3['CD']-X3['CE']==0,name=\"C\")\n",
    "A3.addConstr(X3['BD']+X3['CD']-X3['DF']==0,name=\"D\")\n",
    "A3.addConstr(X3['BE']+X3['CE']-X3['EF']==0,name=\"E\")\n",
    "A3.addConstr(X3['DF']+X3['EF']==25,name=\"F\")\n",
    "\n",
    "A3.addConstr(((sum(X3[i]*toll[route.index(i)] for i in X3)-880)/880)>=Q)\n",
    "A3.addConstr(((sum(X3[i]*safety[route.index(i)] for i in X3)-535)/535)>=Q)\n"
   ]
  },
  {
   "cell_type": "code",
   "execution_count": 44,
   "metadata": {},
   "outputs": [],
   "source": [
    "A3.ModelSense = grb.GRB.MINIMIZE"
   ]
  },
  {
   "cell_type": "code",
   "execution_count": 45,
   "metadata": {},
   "outputs": [],
   "source": [
    "A3.write('Q4c.lp')"
   ]
  },
  {
   "cell_type": "code",
   "execution_count": 47,
   "metadata": {},
   "outputs": [
    {
     "name": "stdout",
     "output_type": "stream",
     "text": [
      "Gurobi Optimizer version 9.0.3 build v9.0.3rc0 (mac64)\n",
      "Optimize a model with 24 rows, 9 columns and 50 nonzeros\n",
      "Model fingerprint: 0xd756b0f9\n",
      "Variable types: 1 continuous, 8 integer (0 binary)\n",
      "Coefficient statistics:\n",
      "  Matrix range     [6e-03, 1e+00]\n",
      "  Objective range  [1e+00, 1e+00]\n",
      "  Bounds range     [0e+00, 0e+00]\n",
      "  RHS range        [1e+00, 2e+01]\n",
      "Presolve removed 24 rows and 9 columns\n",
      "Presolve time: 0.00s\n",
      "Presolve: All rows and columns removed\n",
      "\n",
      "Explored 0 nodes (0 simplex iterations) in 0.01 seconds\n",
      "Thread count was 1 (of 8 available processors)\n",
      "\n",
      "Solution count 1: 0 \n",
      "\n",
      "Optimal solution found (tolerance 1.00e-04)\n",
      "Best objective 0.000000000000e+00, best bound 0.000000000000e+00, gap 0.0000%\n"
     ]
    }
   ],
   "source": [
    "A3.optimize()"
   ]
  },
  {
   "cell_type": "code",
   "execution_count": 56,
   "metadata": {},
   "outputs": [
    {
     "name": "stdout",
     "output_type": "stream",
     "text": [
      "X[AB]=15.0\n",
      "X[AC]=10.0\n",
      "X[BD]=10.0\n",
      "X[BE]=5.0\n",
      "X[CD]=5.0\n",
      "X[CE]=5.0\n",
      "X[DF]=15.0\n",
      "X[EF]=10.0\n",
      "0.0\n",
      "880.0 535.0\n"
     ]
    }
   ],
   "source": [
    "for i in route:\n",
    "    print(\"X[{}]={}\".format(i,X3[i].x))\n",
    "print(A3.ObjVal)\n",
    "safety = 8*X1['AB'].x+5*X1['AC'].x+8*X1['BD'].x+10*X1['BE'].x+6*X1['CD'].x+4*X1['CE'].x+9*X1['DF'].x+5*X1['EF'].x\n",
    "# safety = sum(X3[i].x*safety[route.index(i)] for i in route)\n",
    "# print(toll,safety)\n",
    "toll = 8*X1['AB'].x+5*X1['AC'].x+7*X1['BD'].x+17*X1['BE'].x+11*X1['CD'].x+14*X1['CE'].x+18*X1['DF'].x+16*X1['EF'].x\n",
    "print(toll,safety)\n"
   ]
  },
  {
   "cell_type": "code",
   "execution_count": null,
   "metadata": {},
   "outputs": [],
   "source": []
  }
 ],
 "metadata": {
  "kernelspec": {
   "display_name": "Python 3",
   "language": "python",
   "name": "python3"
  },
  "language_info": {
   "codemirror_mode": {
    "name": "ipython",
    "version": 3
   },
   "file_extension": ".py",
   "mimetype": "text/x-python",
   "name": "python",
   "nbconvert_exporter": "python",
   "pygments_lexer": "ipython3",
   "version": "3.7.6"
  }
 },
 "nbformat": 4,
 "nbformat_minor": 4
}
