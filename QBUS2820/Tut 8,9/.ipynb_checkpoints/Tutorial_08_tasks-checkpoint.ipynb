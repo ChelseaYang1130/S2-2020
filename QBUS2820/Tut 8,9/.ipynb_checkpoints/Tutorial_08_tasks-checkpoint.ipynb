{
 "cells": [
  {
   "cell_type": "markdown",
   "metadata": {},
   "source": [
    "## <center><h1>QBUS2820 - Predictive Analytics</h1></center>\n",
    "\n",
    "# Tutorial 08 Tasks"
   ]
  },
  {
   "cell_type": "markdown",
   "metadata": {
    "collapsed": true
   },
   "source": [
    "\n",
    "## Spam Email Classification\n",
    "\n",
    "1. Download the spambase.txt data\n",
    "2. Load the data and split into training and test sets (75/25)\n",
    "3. Build a KNN classifier. Use cross validation on the training set to estimate the best $k$\n",
    "4. Plot the confusion matrix using your final trained model and the test data\n",
    "5. Predict whether email 647 is spam or not and print the result\n",
    "\n",
    "**Notes:**\n",
    "- Data description available here http://sci2s.ugr.es/keel/dataset.php?cod=109"
   ]
  },
  {
   "cell_type": "code",
   "execution_count": 2,
   "metadata": {
    "scrolled": false
   },
   "outputs": [],
   "source": [
    "import numpy as np \n",
    "import matplotlib.pyplot as plt\n",
    "import pandas as pd\n",
    "\n",
    "from matplotlib.colors import ListedColormap \n",
    "from sklearn import neighbors\n",
    "from sklearn.datasets import make_blobs\n",
    "from sklearn.model_selection import train_test_split\n",
    "from sklearn.metrics import classification_report, confusion_matrix\n",
    "from sklearn.model_selection import cross_val_score\n",
    "\n",
    "# f = open(\"spambase.txt\",\"r\")\n",
    "\n",
    "# colnames =f.readline().rstrip('\\n').split(\", \")\n",
    "\n",
    "# data =[]\n",
    "# count = 0\n",
    "# for i in f:\n",
    "#     line = f.readline().rstrip('\\n').split(\", \")\n",
    "#     if line[0]!=\"\":\n",
    "#         for j in range(len(line)):\n",
    "#             line[j] = float(line[j])\n",
    "#         data.append(line)\n",
    "            \n",
    "        \n",
    "# f.close()\n",
    "\n",
    "data = pd.read_csv(\"spambase.txt\")"
   ]
  },
  {
   "cell_type": "code",
   "execution_count": 9,
   "metadata": {},
   "outputs": [],
   "source": [
    "# df = pd.DataFrame(data,columns=colnames)\n",
    "# df = pd.to_numeric(df)\n",
    "X = data.iloc[:,:-1]\n",
    "Y = data.iloc[:,-1]\n",
    "trainX, testX, trainY, testY = train_test_split(X,Y, test_size =0.25, random_state=42)\n",
    "# print(len(trainY),len(testY))"
   ]
  },
  {
   "cell_type": "code",
   "execution_count": 11,
   "metadata": {},
   "outputs": [
    {
     "name": "stdout",
     "output_type": "stream",
     "text": [
      "k=1, accuracy = 80.85%\n",
      "k=3, accuracy = 79.29%\n",
      "k=5, accuracy = 79.20%\n",
      "k=7, accuracy = 78.42%\n",
      "k=9, accuracy = 78.30%\n",
      "k=11, accuracy = 77.75%\n",
      "k=13, accuracy = 77.69%\n",
      "k=15, accuracy = 77.00%\n",
      "k=17, accuracy = 76.73%\n",
      "k=19, accuracy = 76.59%\n",
      "k=21, accuracy = 76.21%\n",
      "k=23, accuracy = 76.01%\n",
      "k=25, accuracy = 75.20%\n",
      "k=27, accuracy = 75.31%\n",
      "k=29, accuracy = 74.91%\n",
      "-----\n",
      "k=1 achieved highest accuracy of 80.85%\n"
     ]
    }
   ],
   "source": [
    "cv_scores = []\n",
    "k_vals = []\n",
    "\n",
    "for k in range(1,30,2):\n",
    "    model = neighbors.KNeighborsClassifier(n_neighbors=k)\n",
    "    scores = cross_val_score(model, trainX, trainY,cv=10, scoring='accuracy')\n",
    "    score = scores.mean()\n",
    "    print(\"k={0}, accuracy = {1:.2f}%\".format(k, score*100))\n",
    "    \n",
    "    cv_scores.append(score)\n",
    "    k_vals.append(k)\n",
    "    \n",
    "idx = np.argmax(cv_scores)\n",
    "\n",
    "print(\"-----\")\n",
    "print(\"k={0} achieved highest accuracy of {1:.2f}%\".format(k_vals[idx],cv_scores[idx]*100))"
   ]
  },
  {
   "cell_type": "code",
   "execution_count": 12,
   "metadata": {},
   "outputs": [
    {
     "data": {
      "text/html": [
       "<div>\n",
       "<style scoped>\n",
       "    .dataframe tbody tr th:only-of-type {\n",
       "        vertical-align: middle;\n",
       "    }\n",
       "\n",
       "    .dataframe tbody tr th {\n",
       "        vertical-align: top;\n",
       "    }\n",
       "\n",
       "    .dataframe thead th {\n",
       "        text-align: right;\n",
       "    }\n",
       "</style>\n",
       "<table border=\"1\" class=\"dataframe\">\n",
       "  <thead>\n",
       "    <tr style=\"text-align: right;\">\n",
       "      <th>Spam</th>\n",
       "      <th>0</th>\n",
       "      <th>1</th>\n",
       "      <th>All</th>\n",
       "    </tr>\n",
       "    <tr>\n",
       "      <th>row_0</th>\n",
       "      <th></th>\n",
       "      <th></th>\n",
       "      <th></th>\n",
       "    </tr>\n",
       "  </thead>\n",
       "  <tbody>\n",
       "    <tr>\n",
       "      <th>0</th>\n",
       "      <td>570</td>\n",
       "      <td>104</td>\n",
       "      <td>674</td>\n",
       "    </tr>\n",
       "    <tr>\n",
       "      <th>1</th>\n",
       "      <td>95</td>\n",
       "      <td>381</td>\n",
       "      <td>476</td>\n",
       "    </tr>\n",
       "    <tr>\n",
       "      <th>All</th>\n",
       "      <td>665</td>\n",
       "      <td>485</td>\n",
       "      <td>1150</td>\n",
       "    </tr>\n",
       "  </tbody>\n",
       "</table>\n",
       "</div>"
      ],
      "text/plain": [
       " Spam    0    1   All\n",
       "row_0                \n",
       "0      570  104   674\n",
       "1       95  381   476\n",
       "All    665  485  1150"
      ]
     },
     "execution_count": 12,
     "metadata": {},
     "output_type": "execute_result"
    }
   ],
   "source": [
    "best = neighbors.KNeighborsClassifier(n_neighbors = k_vals[idx])\n",
    "best.fit(trainX, trainY)\n",
    "predictions = best.predict(testX)\n",
    "pd.crosstab(predictions,testY,margins=True)"
   ]
  },
  {
   "cell_type": "code",
   "execution_count": 13,
   "metadata": {},
   "outputs": [
    {
     "name": "stdout",
     "output_type": "stream",
     "text": [
      "The email 647 is spam.\n"
     ]
    }
   ],
   "source": [
    "pred = list(best.predict([list(X.iloc[647])]))[0]\n",
    "if pred ==1:\n",
    "    print(\"The email 647 is spam.\")\n",
    "else:\n",
    "    print(\"The email 647 isn't spam.\")\n"
   ]
  },
  {
   "cell_type": "code",
   "execution_count": null,
   "metadata": {},
   "outputs": [],
   "source": []
  }
 ],
 "metadata": {
  "kernelspec": {
   "display_name": "Python 3",
   "language": "python",
   "name": "python3"
  },
  "language_info": {
   "codemirror_mode": {
    "name": "ipython",
    "version": 3
   },
   "file_extension": ".py",
   "mimetype": "text/x-python",
   "name": "python",
   "nbconvert_exporter": "python",
   "pygments_lexer": "ipython3",
   "version": "3.7.6"
  }
 },
 "nbformat": 4,
 "nbformat_minor": 2
}
