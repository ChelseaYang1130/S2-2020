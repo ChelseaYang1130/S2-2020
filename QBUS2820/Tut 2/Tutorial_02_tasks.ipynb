{
 "cells": [
  {
   "cell_type": "markdown",
   "metadata": {},
   "source": [
    "## <center><h1>QBUS2820 - Predictive Analytics</h1></center>\n",
    "\n",
    "# Tutorial 2 Tasks\n",
    "\n",
    "## Task 1 - Regression Modelling\n",
    "\n",
    "### How do customer attributes and marketing efforts affect spending?\n",
    "\n",
    "In order to optimally target customers the sales and marketing teams want to estimate how much a particular customer will spend, given a set of attributes.\n",
    "\n",
    "1. Using \"DirectMarketing.xlsx\" data, inspect and visualize the data to investigate which variables do you think would be helpful to explain output variable 'AmountSpent'?\n",
    "2. Build a linear regression model with dependant variable AmountSpent and independant variables Salary, Children, Gender and Catalogs.\n",
    "2. Which variables are significant and which are not?\n",
    "4. What is the $R^2$ value of the model? How could you potentially improve the model?\n",
    "3. To test your model, you would like to predict sales amount with following features: 50,000 salary, 0 children, female and 12 sent catalogs.\n",
    "5. Predict on multiple people at the same time (make up a few people that you might be interested in, does the result make sense to you?)"
   ]
  },
  {
   "cell_type": "code",
   "execution_count": 34,
   "metadata": {},
   "outputs": [],
   "source": [
    "import pandas as pd\n",
    "import seaborn as sns\n",
    "import statsmodels.api as sm\n",
    "import numpy as np\n",
    "import statsmodels.formula.api as smf\n",
    "import matplotlib.pyplot as plt"
   ]
  },
  {
   "cell_type": "code",
   "execution_count": 35,
   "metadata": {},
   "outputs": [
    {
     "data": {
      "text/html": [
       "<div>\n",
       "<style scoped>\n",
       "    .dataframe tbody tr th:only-of-type {\n",
       "        vertical-align: middle;\n",
       "    }\n",
       "\n",
       "    .dataframe tbody tr th {\n",
       "        vertical-align: top;\n",
       "    }\n",
       "\n",
       "    .dataframe thead th {\n",
       "        text-align: right;\n",
       "    }\n",
       "</style>\n",
       "<table border=\"1\" class=\"dataframe\">\n",
       "  <thead>\n",
       "    <tr style=\"text-align: right;\">\n",
       "      <th></th>\n",
       "      <th>Age</th>\n",
       "      <th>Gender</th>\n",
       "      <th>OwnHome</th>\n",
       "      <th>Married</th>\n",
       "      <th>Location</th>\n",
       "      <th>Salary</th>\n",
       "      <th>Children</th>\n",
       "      <th>History</th>\n",
       "      <th>Catalogs</th>\n",
       "      <th>AmountSpent</th>\n",
       "    </tr>\n",
       "  </thead>\n",
       "  <tbody>\n",
       "    <tr>\n",
       "      <th>0</th>\n",
       "      <td>Old</td>\n",
       "      <td>Female</td>\n",
       "      <td>Own</td>\n",
       "      <td>Single</td>\n",
       "      <td>Far</td>\n",
       "      <td>47500</td>\n",
       "      <td>0</td>\n",
       "      <td>High</td>\n",
       "      <td>6</td>\n",
       "      <td>755</td>\n",
       "    </tr>\n",
       "    <tr>\n",
       "      <th>1</th>\n",
       "      <td>Middle</td>\n",
       "      <td>Male</td>\n",
       "      <td>Rent</td>\n",
       "      <td>Single</td>\n",
       "      <td>Close</td>\n",
       "      <td>63600</td>\n",
       "      <td>0</td>\n",
       "      <td>High</td>\n",
       "      <td>6</td>\n",
       "      <td>1318</td>\n",
       "    </tr>\n",
       "    <tr>\n",
       "      <th>2</th>\n",
       "      <td>Young</td>\n",
       "      <td>Female</td>\n",
       "      <td>Rent</td>\n",
       "      <td>Single</td>\n",
       "      <td>Close</td>\n",
       "      <td>13500</td>\n",
       "      <td>0</td>\n",
       "      <td>Low</td>\n",
       "      <td>18</td>\n",
       "      <td>296</td>\n",
       "    </tr>\n",
       "    <tr>\n",
       "      <th>3</th>\n",
       "      <td>Middle</td>\n",
       "      <td>Male</td>\n",
       "      <td>Own</td>\n",
       "      <td>Married</td>\n",
       "      <td>Close</td>\n",
       "      <td>85600</td>\n",
       "      <td>1</td>\n",
       "      <td>High</td>\n",
       "      <td>18</td>\n",
       "      <td>2436</td>\n",
       "    </tr>\n",
       "    <tr>\n",
       "      <th>4</th>\n",
       "      <td>Middle</td>\n",
       "      <td>Female</td>\n",
       "      <td>Own</td>\n",
       "      <td>Single</td>\n",
       "      <td>Close</td>\n",
       "      <td>68400</td>\n",
       "      <td>0</td>\n",
       "      <td>High</td>\n",
       "      <td>12</td>\n",
       "      <td>1304</td>\n",
       "    </tr>\n",
       "  </tbody>\n",
       "</table>\n",
       "</div>"
      ],
      "text/plain": [
       "      Age  Gender OwnHome  Married Location  Salary  Children History  \\\n",
       "0     Old  Female     Own   Single      Far   47500         0    High   \n",
       "1  Middle    Male    Rent   Single    Close   63600         0    High   \n",
       "2   Young  Female    Rent   Single    Close   13500         0     Low   \n",
       "3  Middle    Male     Own  Married    Close   85600         1    High   \n",
       "4  Middle  Female     Own   Single    Close   68400         0    High   \n",
       "\n",
       "   Catalogs  AmountSpent  \n",
       "0         6          755  \n",
       "1         6         1318  \n",
       "2        18          296  \n",
       "3        18         2436  \n",
       "4        12         1304  "
      ]
     },
     "execution_count": 35,
     "metadata": {},
     "output_type": "execute_result"
    }
   ],
   "source": [
    "marketing = pd.read_excel(\"DirectMarketing.xlsx\")\n",
    "marketing.head()"
   ]
  },
  {
   "cell_type": "code",
   "execution_count": 36,
   "metadata": {},
   "outputs": [
    {
     "data": {
      "text/html": [
       "<div>\n",
       "<style scoped>\n",
       "    .dataframe tbody tr th:only-of-type {\n",
       "        vertical-align: middle;\n",
       "    }\n",
       "\n",
       "    .dataframe tbody tr th {\n",
       "        vertical-align: top;\n",
       "    }\n",
       "\n",
       "    .dataframe thead th {\n",
       "        text-align: right;\n",
       "    }\n",
       "</style>\n",
       "<table border=\"1\" class=\"dataframe\">\n",
       "  <thead>\n",
       "    <tr style=\"text-align: right;\">\n",
       "      <th></th>\n",
       "      <th>Old_age</th>\n",
       "      <th>Young_age</th>\n",
       "      <th>Male_gender</th>\n",
       "      <th>Rent_ownHome</th>\n",
       "      <th>Single_married</th>\n",
       "      <th>Far_location</th>\n",
       "      <th>Salary</th>\n",
       "      <th>Children</th>\n",
       "      <th>Low_history</th>\n",
       "      <th>Medium_history</th>\n",
       "      <th>Catalogs</th>\n",
       "      <th>AmountSpent</th>\n",
       "    </tr>\n",
       "  </thead>\n",
       "  <tbody>\n",
       "    <tr>\n",
       "      <th>0</th>\n",
       "      <td>1</td>\n",
       "      <td>0</td>\n",
       "      <td>0</td>\n",
       "      <td>0</td>\n",
       "      <td>1</td>\n",
       "      <td>1</td>\n",
       "      <td>47500</td>\n",
       "      <td>0</td>\n",
       "      <td>0</td>\n",
       "      <td>0</td>\n",
       "      <td>6</td>\n",
       "      <td>755</td>\n",
       "    </tr>\n",
       "    <tr>\n",
       "      <th>1</th>\n",
       "      <td>0</td>\n",
       "      <td>0</td>\n",
       "      <td>1</td>\n",
       "      <td>1</td>\n",
       "      <td>1</td>\n",
       "      <td>0</td>\n",
       "      <td>63600</td>\n",
       "      <td>0</td>\n",
       "      <td>0</td>\n",
       "      <td>0</td>\n",
       "      <td>6</td>\n",
       "      <td>1318</td>\n",
       "    </tr>\n",
       "    <tr>\n",
       "      <th>2</th>\n",
       "      <td>0</td>\n",
       "      <td>1</td>\n",
       "      <td>0</td>\n",
       "      <td>1</td>\n",
       "      <td>1</td>\n",
       "      <td>0</td>\n",
       "      <td>13500</td>\n",
       "      <td>0</td>\n",
       "      <td>1</td>\n",
       "      <td>0</td>\n",
       "      <td>18</td>\n",
       "      <td>296</td>\n",
       "    </tr>\n",
       "    <tr>\n",
       "      <th>3</th>\n",
       "      <td>0</td>\n",
       "      <td>0</td>\n",
       "      <td>1</td>\n",
       "      <td>0</td>\n",
       "      <td>0</td>\n",
       "      <td>0</td>\n",
       "      <td>85600</td>\n",
       "      <td>1</td>\n",
       "      <td>0</td>\n",
       "      <td>0</td>\n",
       "      <td>18</td>\n",
       "      <td>2436</td>\n",
       "    </tr>\n",
       "    <tr>\n",
       "      <th>4</th>\n",
       "      <td>0</td>\n",
       "      <td>0</td>\n",
       "      <td>0</td>\n",
       "      <td>0</td>\n",
       "      <td>1</td>\n",
       "      <td>0</td>\n",
       "      <td>68400</td>\n",
       "      <td>0</td>\n",
       "      <td>0</td>\n",
       "      <td>0</td>\n",
       "      <td>12</td>\n",
       "      <td>1304</td>\n",
       "    </tr>\n",
       "  </tbody>\n",
       "</table>\n",
       "</div>"
      ],
      "text/plain": [
       "   Old_age  Young_age  Male_gender  Rent_ownHome  Single_married  \\\n",
       "0        1          0            0             0               1   \n",
       "1        0          0            1             1               1   \n",
       "2        0          1            0             1               1   \n",
       "3        0          0            1             0               0   \n",
       "4        0          0            0             0               1   \n",
       "\n",
       "   Far_location  Salary  Children  Low_history  Medium_history  Catalogs  \\\n",
       "0             1   47500         0            0               0         6   \n",
       "1             0   63600         0            0               0         6   \n",
       "2             0   13500         0            1               0        18   \n",
       "3             0   85600         1            0               0        18   \n",
       "4             0   68400         0            0               0        12   \n",
       "\n",
       "   AmountSpent  \n",
       "0          755  \n",
       "1         1318  \n",
       "2          296  \n",
       "3         2436  \n",
       "4         1304  "
      ]
     },
     "execution_count": 36,
     "metadata": {},
     "output_type": "execute_result"
    }
   ],
   "source": [
    "marketing_dummy = pd.DataFrame()\n",
    "age = pd.get_dummies(pd.Series(marketing['Age']),drop_first=True)\n",
    "# print(age)\n",
    "\n",
    "gender = pd.get_dummies(pd.Series(marketing['Gender']),drop_first=True)\n",
    "# print(gender)\n",
    "\n",
    "own = pd.get_dummies(pd.Series(marketing['OwnHome']),drop_first=True)\n",
    "# print(own)\n",
    "\n",
    "married = pd.get_dummies(pd.Series(marketing['Married']),drop_first=True)\n",
    "# print(married)\n",
    "\n",
    "location = pd.get_dummies(pd.Series(marketing['Location']),drop_first=True)\n",
    "# print(location)\n",
    "\n",
    "history = pd.get_dummies(pd.Series(marketing['History']),drop_first=True)\n",
    "# print(history)\n",
    "\n",
    "marketing_dummy['Old_age'] = age['Old']\n",
    "marketing_dummy['Young_age'] = age['Young']\n",
    "marketing_dummy['Male_gender'] = gender['Male']\n",
    "marketing_dummy['Rent_ownHome'] = own['Rent']\n",
    "marketing_dummy['Single_married'] = married['Single']\n",
    "marketing_dummy['Far_location'] = location['Far']\n",
    "marketing_dummy['Salary'] = marketing['Salary']\n",
    "marketing_dummy['Children'] = marketing['Children']\n",
    "marketing_dummy['Low_history'] = history['Low']\n",
    "marketing_dummy['Medium_history'] = history['Medium']\n",
    "marketing_dummy['Catalogs'] = marketing['Catalogs']\n",
    "marketing_dummy['AmountSpent'] = marketing['AmountSpent']\n",
    "marketing_dummy.head()\n"
   ]
  },
  {
   "cell_type": "code",
   "execution_count": 37,
   "metadata": {},
   "outputs": [
    {
     "data": {
      "image/png": "[encoded data removed]",
      "text/plain": [
       "<Figure size 720x720 with 20 Axes>"
      ]
     },
     "metadata": {
      "needs_background": "light"
     },
     "output_type": "display_data"
    }
   ],
   "source": [
    "sns.pairplot(marketing)\n",
    "plt.show()"
   ]
  },
  {
   "cell_type": "code",
   "execution_count": 38,
   "metadata": {},
   "outputs": [
    {
     "data": {
      "text/html": [
       "<div>\n",
       "<style scoped>\n",
       "    .dataframe tbody tr th:only-of-type {\n",
       "        vertical-align: middle;\n",
       "    }\n",
       "\n",
       "    .dataframe tbody tr th {\n",
       "        vertical-align: top;\n",
       "    }\n",
       "\n",
       "    .dataframe thead th {\n",
       "        text-align: right;\n",
       "    }\n",
       "</style>\n",
       "<table border=\"1\" class=\"dataframe\">\n",
       "  <thead>\n",
       "    <tr style=\"text-align: right;\">\n",
       "      <th></th>\n",
       "      <th>Salary</th>\n",
       "      <th>Children</th>\n",
       "      <th>Catalogs</th>\n",
       "      <th>AmountSpent</th>\n",
       "    </tr>\n",
       "  </thead>\n",
       "  <tbody>\n",
       "    <tr>\n",
       "      <th>Salary</th>\n",
       "      <td>1.000000</td>\n",
       "      <td>0.049663</td>\n",
       "      <td>0.183551</td>\n",
       "      <td>0.699596</td>\n",
       "    </tr>\n",
       "    <tr>\n",
       "      <th>Children</th>\n",
       "      <td>0.049663</td>\n",
       "      <td>1.000000</td>\n",
       "      <td>-0.113455</td>\n",
       "      <td>-0.222308</td>\n",
       "    </tr>\n",
       "    <tr>\n",
       "      <th>Catalogs</th>\n",
       "      <td>0.183551</td>\n",
       "      <td>-0.113455</td>\n",
       "      <td>1.000000</td>\n",
       "      <td>0.472650</td>\n",
       "    </tr>\n",
       "    <tr>\n",
       "      <th>AmountSpent</th>\n",
       "      <td>0.699596</td>\n",
       "      <td>-0.222308</td>\n",
       "      <td>0.472650</td>\n",
       "      <td>1.000000</td>\n",
       "    </tr>\n",
       "  </tbody>\n",
       "</table>\n",
       "</div>"
      ],
      "text/plain": [
       "               Salary  Children  Catalogs  AmountSpent\n",
       "Salary       1.000000  0.049663  0.183551     0.699596\n",
       "Children     0.049663  1.000000 -0.113455    -0.222308\n",
       "Catalogs     0.183551 -0.113455  1.000000     0.472650\n",
       "AmountSpent  0.699596 -0.222308  0.472650     1.000000"
      ]
     },
     "execution_count": 38,
     "metadata": {},
     "output_type": "execute_result"
    }
   ],
   "source": [
    "correlations = marketing.corr()\n",
    "correlations"
   ]
  },
  {
   "cell_type": "markdown",
   "metadata": {},
   "source": [
    "1. Salary is likely to be helpful to explain output variable 'AmountSpent' as the absolute value of correlation coefficient between salary and amount spent is the highest."
   ]
  },
  {
   "cell_type": "markdown",
   "metadata": {},
   "source": [
    "### 2. Build a linear regression model with dependant variable AmountSpent and independant variables Salary, Children, Gender and Catalogs."
   ]
  },
  {
   "cell_type": "code",
   "execution_count": 39,
   "metadata": {},
   "outputs": [
    {
     "data": {
      "text/html": [
       "<div>\n",
       "<style scoped>\n",
       "    .dataframe tbody tr th:only-of-type {\n",
       "        vertical-align: middle;\n",
       "    }\n",
       "\n",
       "    .dataframe tbody tr th {\n",
       "        vertical-align: top;\n",
       "    }\n",
       "\n",
       "    .dataframe thead th {\n",
       "        text-align: right;\n",
       "    }\n",
       "</style>\n",
       "<table border=\"1\" class=\"dataframe\">\n",
       "  <thead>\n",
       "    <tr style=\"text-align: right;\">\n",
       "      <th></th>\n",
       "      <th>const</th>\n",
       "      <th>Salary</th>\n",
       "      <th>Children</th>\n",
       "      <th>Male_gender</th>\n",
       "      <th>Catalogs</th>\n",
       "    </tr>\n",
       "  </thead>\n",
       "  <tbody>\n",
       "    <tr>\n",
       "      <th>0</th>\n",
       "      <td>1.0</td>\n",
       "      <td>47500</td>\n",
       "      <td>0</td>\n",
       "      <td>0</td>\n",
       "      <td>6</td>\n",
       "    </tr>\n",
       "    <tr>\n",
       "      <th>1</th>\n",
       "      <td>1.0</td>\n",
       "      <td>63600</td>\n",
       "      <td>0</td>\n",
       "      <td>1</td>\n",
       "      <td>6</td>\n",
       "    </tr>\n",
       "    <tr>\n",
       "      <th>2</th>\n",
       "      <td>1.0</td>\n",
       "      <td>13500</td>\n",
       "      <td>0</td>\n",
       "      <td>0</td>\n",
       "      <td>18</td>\n",
       "    </tr>\n",
       "    <tr>\n",
       "      <th>3</th>\n",
       "      <td>1.0</td>\n",
       "      <td>85600</td>\n",
       "      <td>1</td>\n",
       "      <td>1</td>\n",
       "      <td>18</td>\n",
       "    </tr>\n",
       "    <tr>\n",
       "      <th>4</th>\n",
       "      <td>1.0</td>\n",
       "      <td>68400</td>\n",
       "      <td>0</td>\n",
       "      <td>0</td>\n",
       "      <td>12</td>\n",
       "    </tr>\n",
       "  </tbody>\n",
       "</table>\n",
       "</div>"
      ],
      "text/plain": [
       "   const  Salary  Children  Male_gender  Catalogs\n",
       "0    1.0   47500         0            0         6\n",
       "1    1.0   63600         0            1         6\n",
       "2    1.0   13500         0            0        18\n",
       "3    1.0   85600         1            1        18\n",
       "4    1.0   68400         0            0        12"
      ]
     },
     "execution_count": 39,
     "metadata": {},
     "output_type": "execute_result"
    }
   ],
   "source": [
    "x1 = marketing_dummy[['Salary','Children','Male_gender','Catalogs']] # remove the AmountSpent column\n",
    "x1_with_intercept = sm.add_constant(x1, prepend=True) # add constants to x\n",
    "y1 = marketing['AmountSpent']\n",
    "x1_with_intercept.head()\n"
   ]
  },
  {
   "cell_type": "markdown",
   "metadata": {},
   "source": [
    "#### Model 1 Using OLS"
   ]
  },
  {
   "cell_type": "code",
   "execution_count": 40,
   "metadata": {},
   "outputs": [
    {
     "name": "stdout",
     "output_type": "stream",
     "text": [
      "                            OLS Regression Results                            \n",
      "==============================================================================\n",
      "Dep. Variable:            AmountSpent   R-squared:                       0.659\n",
      "Model:                            OLS   Adj. R-squared:                  0.657\n",
      "Method:                 Least Squares   F-statistic:                     480.4\n",
      "Date:                Wed, 02 Sep 2020   Prob (F-statistic):          1.40e-230\n",
      "Time:                        16:21:41   Log-Likelihood:                -7748.7\n",
      "No. Observations:                1000   AIC:                         1.551e+04\n",
      "Df Residuals:                     995   BIC:                         1.553e+04\n",
      "Df Model:                           4                                         \n",
      "Covariance Type:            nonrobust                                         \n",
      "===============================================================================\n",
      "                  coef    std err          t      P>|t|      [0.025      0.975]\n",
      "-------------------------------------------------------------------------------\n",
      "const        -431.2400     54.680     -7.887      0.000    -538.541    -323.939\n",
      "Salary          0.0206      0.001     33.534      0.000       0.019       0.022\n",
      "Children     -200.9904     17.207    -11.681      0.000    -234.756    -167.224\n",
      "Male_gender   -41.7490     37.152     -1.124      0.261    -114.655      31.157\n",
      "Catalogs       47.7775      2.756     17.337      0.000      42.370      53.186\n",
      "==============================================================================\n",
      "Omnibus:                      257.549   Durbin-Watson:                   1.983\n",
      "Prob(Omnibus):                  0.000   Jarque-Bera (JB):              995.294\n",
      "Skew:                           1.180   Prob(JB):                    7.49e-217\n",
      "Kurtosis:                       7.279   Cond. No.                     2.01e+05\n",
      "==============================================================================\n",
      "\n",
      "Warnings:\n",
      "[1] Standard Errors assume that the covariance matrix of the errors is correctly specified.\n",
      "[2] The condition number is large, 2.01e+05. This might indicate that there are\n",
      "strong multicollinearity or other numerical problems.\n"
     ]
    }
   ],
   "source": [
    "model1 = sm.OLS(y1, x1_with_intercept)\n",
    "results1 = model1.fit()\n",
    "print(results1.summary())"
   ]
  },
  {
   "cell_type": "markdown",
   "metadata": {},
   "source": [
    "#### Model 2 Using Matrix"
   ]
  },
  {
   "cell_type": "code",
   "execution_count": 41,
   "metadata": {},
   "outputs": [],
   "source": [
    "x2 = marketing_dummy[['Salary','Children','Male_gender','Catalogs']]\n",
    "X2 = np.column_stack((np.ones(len(x2)),x2)) # add a constant 1 to x\n",
    "X2 = np.asmatrix(X2)\n",
    "y2 = marketing_dummy['AmountSpent']\n"
   ]
  },
  {
   "cell_type": "code",
   "execution_count": 42,
   "metadata": {},
   "outputs": [
    {
     "name": "stdout",
     "output_type": "stream",
     "text": [
      "5\n",
      "9.848874807659028e+24\n"
     ]
    }
   ],
   "source": [
    "print(np.linalg.matrix_rank(X2.T*X2))\n",
    "print(np.linalg.det(X2.T*X2))"
   ]
  },
  {
   "cell_type": "markdown",
   "metadata": {},
   "source": [
    "The matrix X.T*X has full rank and non-zero determinant, so it is invertible."
   ]
  },
  {
   "cell_type": "code",
   "execution_count": 43,
   "metadata": {},
   "outputs": [
    {
     "name": "stdout",
     "output_type": "stream",
     "text": [
      "[[-4.31240038e+02]\n",
      " [ 2.05848335e-02]\n",
      " [-2.00990427e+02]\n",
      " [-4.17489810e+01]\n",
      " [ 4.77775273e+01]]\n"
     ]
    }
   ],
   "source": [
    "lin_betas = np.linalg.inv(X2.T*X2) *X2.T * y2.values.reshape(len(x2),1)\n",
    "print(lin_betas)"
   ]
  },
  {
   "cell_type": "markdown",
   "metadata": {},
   "source": [
    "3. Children and Catalogs are significant variables while Salary and Gender are insignificant variables."
   ]
  },
  {
   "cell_type": "markdown",
   "metadata": {},
   "source": [
    "4. The $R^2$ is $65.9$%. In order to improve the model, it might be helpful to remove the insignificant variables Salary and Gender from the model."
   ]
  },
  {
   "cell_type": "markdown",
   "metadata": {},
   "source": [
    "5. Predict sales amount with following features: 50,000 salary, 0 children, female and 12 sent catalogs."
   ]
  },
  {
   "cell_type": "code",
   "execution_count": 44,
   "metadata": {},
   "outputs": [
    {
     "data": {
      "text/plain": [
       "array([1171.33196259])"
      ]
     },
     "execution_count": 44,
     "metadata": {},
     "output_type": "execute_result"
    }
   ],
   "source": [
    "new_sale = [1,50000,0,0,12]\n",
    "results1.predict(new_sale)"
   ]
  },
  {
   "cell_type": "markdown",
   "metadata": {},
   "source": [
    "The amount spent by the new sale is predicted to be 1171.3 dolars."
   ]
  },
  {
   "cell_type": "markdown",
   "metadata": {},
   "source": [
    "5. Predict on multiple people at the same time"
   ]
  },
  {
   "cell_type": "code",
   "execution_count": 45,
   "metadata": {},
   "outputs": [
    {
     "data": {
      "text/plain": [
       "array([2170.88174715,   22.28056799, 1984.84498282])"
      ]
     },
     "execution_count": 45,
     "metadata": {},
     "output_type": "execute_result"
    }
   ],
   "source": [
    "new_sales = [[1,100000,0,3,14],[1,8000,1,2,12],[1,90000,1,0,16]]\n",
    "results1.predict(new_sales)"
   ]
  },
  {
   "cell_type": "markdown",
   "metadata": {},
   "source": [
    "The amount spent by the new sales is predicted to be 2171,22,1985 respectively."
   ]
  }
 ],
 "metadata": {
  "celltoolbar": "Raw Cell Format",
  "kernelspec": {
   "display_name": "Python 3",
   "language": "python",
   "name": "python3"
  },
  "language_info": {
   "codemirror_mode": {
    "name": "ipython",
    "version": 3
   },
   "file_extension": ".py",
   "mimetype": "text/x-python",
   "name": "python",
   "nbconvert_exporter": "python",
   "pygments_lexer": "ipython3",
   "version": "3.7.6"
  }
 },
 "nbformat": 4,
 "nbformat_minor": 2
}
