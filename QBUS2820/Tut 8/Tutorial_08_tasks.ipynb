{
 "cells": [
  {
   "cell_type": "markdown",
   "metadata": {},
   "source": [
    "## <center><h1>QBUS2820 - Predictive Analytics</h1></center>\n",
    "\n",
    "# Tutorial 08 Tasks"
   ]
  },
  {
   "cell_type": "markdown",
   "metadata": {
    "collapsed": true
   },
   "source": [
    "\n",
    "## Spam Email Classification\n",
    "\n",
    "1. Download the spambase.txt data\n",
    "2. Load the data and split into training and test sets (75/25)\n",
    "3. Build a KNN classifier. Use cross validation on the training set to estimate the best $k$\n",
    "4. Plot the confusion matrix using your final trained model and the test data\n",
    "5. Predict whether email 647 is spam or not and print the result\n",
    "\n",
    "**Notes:**\n",
    "- Data description available here http://sci2s.ugr.es/keel/dataset.php?cod=109"
   ]
  },
  {
   "cell_type": "code",
   "execution_count": 122,
   "metadata": {
    "scrolled": false
   },
   "outputs": [],
   "source": [
    "import numpy as np \n",
    "import matplotlib.pyplot as plt\n",
    "import pandas as pd\n",
    "\n",
    "from matplotlib.colors import ListedColormap \n",
    "from sklearn import neighbors\n",
    "from sklearn.datasets import make_blobs\n",
    "from sklearn.model_selection import train_test_split\n",
    "from sklearn.metrics import classification_report, confusion_matrix\n",
    "from sklearn.model_selection import cross_val_score\n",
    "\n",
    "f = open(\"spambase.txt\",\"r\")\n",
    "\n",
    "colnames =f.readline().rstrip('\\n').split(\", \")\n",
    "\n",
    "data =[]\n",
    "count = 0\n",
    "for i in f:\n",
    "    line = f.readline().rstrip('\\n').split(\", \")\n",
    "    if line[0]!=\"\":\n",
    "        for j in range(len(line)):\n",
    "            line[j] = float(line[j])\n",
    "        data.append(line)\n",
    "            \n",
    "        \n",
    "f.close()"
   ]
  },
  {
   "cell_type": "code",
   "execution_count": 128,
   "metadata": {},
   "outputs": [],
   "source": [
    "df = pd.DataFrame(data,columns=colnames)\n",
    "# df = pd.to_numeric(df)\n",
    "X = df.drop('Spam',axis=1)\n",
    "Y = df['Spam'].astype(int)\n",
    "trainX, testX, trainY, testY = train_test_split(X,Y, test_size =0.25, random_state=42)\n",
    "# print(len(trainY),len(testY))"
   ]
  },
  {
   "cell_type": "code",
   "execution_count": 129,
   "metadata": {},
   "outputs": [
    {
     "name": "stdout",
     "output_type": "stream",
     "text": [
      "k=1, accuracy = 77.65%\n",
      "k=3, accuracy = 76.26%\n",
      "k=5, accuracy = 76.14%\n",
      "k=7, accuracy = 76.20%\n",
      "k=9, accuracy = 75.45%\n",
      "k=11, accuracy = 74.81%\n",
      "k=13, accuracy = 74.58%\n",
      "k=15, accuracy = 74.05%\n",
      "k=17, accuracy = 73.59%\n",
      "k=19, accuracy = 74.11%\n",
      "k=21, accuracy = 73.76%\n",
      "k=23, accuracy = 73.18%\n",
      "k=25, accuracy = 73.18%\n",
      "k=27, accuracy = 72.72%\n",
      "k=29, accuracy = 72.43%\n",
      "-----\n",
      "k=1 achieved highest accuracy of 77.65%\n"
     ]
    }
   ],
   "source": [
    "cv_scores = []\n",
    "k_vals = []\n",
    "\n",
    "for k in range(1,30,2):\n",
    "    model = neighbors.KNeighborsClassifier(n_neighbors=k)\n",
    "    scores = cross_val_score(model, trainX, trainY,cv=10, scoring='accuracy')\n",
    "    score = scores.mean()\n",
    "    \n",
    "    print(\"k={0}, accuracy = {1:.2f}%\".format(k, score*100))\n",
    "    \n",
    "    cv_scores.append(score)\n",
    "    k_vals.append(k)\n",
    "    \n",
    "idx = np.argmax(cv_scores)\n",
    "\n",
    "print(\"-----\")\n",
    "print(\"k={0} achieved highest accuracy of {1:.2f}%\".format(k_vals[idx],cv_scores[idx]*100))"
   ]
  },
  {
   "cell_type": "code",
   "execution_count": 130,
   "metadata": {},
   "outputs": [
    {
     "data": {
      "text/html": [
       "<div>\n",
       "<style scoped>\n",
       "    .dataframe tbody tr th:only-of-type {\n",
       "        vertical-align: middle;\n",
       "    }\n",
       "\n",
       "    .dataframe tbody tr th {\n",
       "        vertical-align: top;\n",
       "    }\n",
       "\n",
       "    .dataframe thead th {\n",
       "        text-align: right;\n",
       "    }\n",
       "</style>\n",
       "<table border=\"1\" class=\"dataframe\">\n",
       "  <thead>\n",
       "    <tr style=\"text-align: right;\">\n",
       "      <th>Spam</th>\n",
       "      <th>0</th>\n",
       "      <th>1</th>\n",
       "      <th>All</th>\n",
       "    </tr>\n",
       "    <tr>\n",
       "      <th>row_0</th>\n",
       "      <th></th>\n",
       "      <th></th>\n",
       "      <th></th>\n",
       "    </tr>\n",
       "  </thead>\n",
       "  <tbody>\n",
       "    <tr>\n",
       "      <th>0</th>\n",
       "      <td>275</td>\n",
       "      <td>72</td>\n",
       "      <td>347</td>\n",
       "    </tr>\n",
       "    <tr>\n",
       "      <th>1</th>\n",
       "      <td>71</td>\n",
       "      <td>157</td>\n",
       "      <td>228</td>\n",
       "    </tr>\n",
       "    <tr>\n",
       "      <th>All</th>\n",
       "      <td>346</td>\n",
       "      <td>229</td>\n",
       "      <td>575</td>\n",
       "    </tr>\n",
       "  </tbody>\n",
       "</table>\n",
       "</div>"
      ],
      "text/plain": [
       "Spam     0    1  All\n",
       "row_0               \n",
       "0      275   72  347\n",
       "1       71  157  228\n",
       "All    346  229  575"
      ]
     },
     "execution_count": 130,
     "metadata": {},
     "output_type": "execute_result"
    }
   ],
   "source": [
    "best = neighbors.KNeighborsClassifier(n_neighbors = k_vals[idx])\n",
    "best.fit(trainX, trainY)\n",
    "predictions = best.predict(testX)\n",
    "pd.crosstab(predictions,testY,margins=True)"
   ]
  },
  {
   "cell_type": "code",
   "execution_count": 133,
   "metadata": {},
   "outputs": [
    {
     "name": "stdout",
     "output_type": "stream",
     "text": [
      "The email 647 is spam.\n"
     ]
    },
    {
     "name": "stderr",
     "output_type": "stream",
     "text": [
      "/Users/chelseayeung/opt/anaconda3/lib/python3.7/site-packages/sklearn/neighbors/_classification.py:171: FutureWarning: Beginning in version 0.22, arrays of bytes/strings will be converted to decimal numbers if dtype='numeric'. It is recommended that you convert the array to a float dtype before using it in scikit-learn, for example by using your_array = your_array.astype(np.float64).\n",
      "  X = check_array(X, accept_sparse='csr')\n",
      "/Users/chelseayeung/opt/anaconda3/lib/python3.7/site-packages/sklearn/neighbors/_base.py:604: FutureWarning: Beginning in version 0.22, arrays of bytes/strings will be converted to decimal numbers if dtype='numeric'. It is recommended that you convert the array to a float dtype before using it in scikit-learn, for example by using your_array = your_array.astype(np.float64).\n",
      "  X = check_array(X, accept_sparse='csr')\n"
     ]
    }
   ],
   "source": [
    "pred = list(best.predict([list(X.iloc[647])]))[0]\n",
    "if pred ==1:\n",
    "    print(\"The email 647 is spam.\")\n",
    "else:\n",
    "    print(\"The email 647 isn't spam.\")\n"
   ]
  }
 ],
 "metadata": {
  "kernelspec": {
   "display_name": "Python 3",
   "language": "python",
   "name": "python3"
  },
  "language_info": {
   "codemirror_mode": {
    "name": "ipython",
    "version": 3
   },
   "file_extension": ".py",
   "mimetype": "text/x-python",
   "name": "python",
   "nbconvert_exporter": "python",
   "pygments_lexer": "ipython3",
   "version": "3.7.6"
  }
 },
 "nbformat": 4,
 "nbformat_minor": 2
}
