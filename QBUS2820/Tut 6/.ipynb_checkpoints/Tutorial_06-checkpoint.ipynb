{
 "cells": [
  {
   "cell_type": "markdown",
   "metadata": {},
   "source": [
    "<center><h1>QBUS2820 - Predictive Analytics</h1></center>\n",
    "\n",
    "# Tutorial 6 - Model Selection and Estimation"
   ]
  },
  {
   "cell_type": "markdown",
   "metadata": {},
   "source": [
    "### Let's use the same appraoch as previous weeks to simulate some data"
   ]
  },
  {
   "cell_type": "code",
   "execution_count": 30,
   "metadata": {},
   "outputs": [],
   "source": [
    "import numpy as np\n",
    "import matplotlib.pyplot as plt\n",
    "from sklearn.metrics import mean_squared_error\n",
    "\n",
    "# Initialise RNG, so we get same result everytime\n",
    "np.random.seed(0)\n",
    "\n",
    "# Number of training points\n",
    "m = 50\n",
    "\n",
    "x = np.linspace(0.0, 1.0, m)\n",
    "\n",
    "# Function coefficients/parameters\n",
    "beta0 = 4\n",
    "beta1 = 1.5\n",
    "beta2 =  3.2\n",
    " \n",
    "# f values from 2nd order polynomial\n",
    "f = beta0 + beta1 * x + beta2 * np.power(x,2)  "
   ]
  },
  {
   "cell_type": "markdown",
   "metadata": {},
   "source": [
    "$f$ contains data perfectly sampled along the 2nd order polynomial. In the real world we usually observe data that is noisy. So we will add a small amount of Gaussian noise to the data"
   ]
  },
  {
   "cell_type": "code",
   "execution_count": 31,
   "metadata": {},
   "outputs": [],
   "source": [
    "# Generate noisy sample from population\n",
    "sigma2 = 0.1\n",
    "y_train = f + np.random.normal(0, np.sqrt(sigma2), m)\n",
    "y_validation = f + np.random.normal(0, np.sqrt(sigma2), m)"
   ]
  },
  {
   "cell_type": "code",
   "execution_count": 32,
   "metadata": {},
   "outputs": [
    {
     "data": {
      "text/plain": [
       "<matplotlib.legend.Legend at 0x26efa2ade80>"
      ]
     },
     "execution_count": 32,
     "metadata": {},
     "output_type": "execute_result"
    },
    {
     "data": {
      "image/png": "[encoded data removed]",
      "text/plain": [
       "<Figure size 432x288 with 1 Axes>"
      ]
     },
     "metadata": {
      "needs_background": "light"
     },
     "output_type": "display_data"
    }
   ],
   "source": [
    "fig1 = plt.figure()\n",
    "\n",
    "plt.plot(x, f, label = \"f (Ground Truth)\")\n",
    "plt.scatter(x, y_train, label = \"y (Observed Points)\", color = \"red\")\n",
    "plt.scatter(x, y_validation, label = \"y (Observed Points)\", color = \"orange\", alpha = 0.5)\n",
    "\n",
    "plt.xlabel(\"Predictor/Feature Value\")\n",
    "plt.ylabel(\"Target Value\")\n",
    "plt.title(\"Underlying Function vs Observations\")\n",
    "plt.legend(loc=\"upper left\")"
   ]
  },
  {
   "cell_type": "markdown",
   "metadata": {
    "collapsed": true
   },
   "source": [
    "## Example: Using CV to Tune Hyperparameters"
   ]
  },
  {
   "cell_type": "markdown",
   "metadata": {},
   "source": [
    "#### Let's try the GridSearchCV to find the optimal k"
   ]
  },
  {
   "cell_type": "code",
   "execution_count": 33,
   "metadata": {},
   "outputs": [
    {
     "name": "stdout",
     "output_type": "stream",
     "text": [
      "Grid Search CV Complete!\n"
     ]
    }
   ],
   "source": [
    "# GridSearchCV\n",
    "from sklearn.model_selection import GridSearchCV\n",
    "from sklearn.neighbors import KNeighborsRegressor\n",
    "\n",
    "# Set up the grid of parameters to search (in this case its 1 dimensional)\n",
    "param_grid = {\n",
    "    'n_neighbors': np.arange(1,11)\n",
    "}\n",
    "\n",
    "model = KNeighborsRegressor()\n",
    "\n",
    "# Create the grid search object\n",
    "grid_cv_obj = GridSearchCV(model, param_grid)\n",
    "\n",
    "# Do the grid search\n",
    "grid_cv_obj.fit(x.reshape(-1, 1), y_train)\n",
    "\n",
    "print(\"Grid Search CV Complete!\")"
   ]
  },
  {
   "cell_type": "code",
   "execution_count": 34,
   "metadata": {},
   "outputs": [
    {
     "name": "stdout",
     "output_type": "stream",
     "text": [
      "KNeighborsRegressor(n_neighbors=4)\n"
     ]
    }
   ],
   "source": [
    "# Get the best model\n",
    "best_model = grid_cv_obj.best_estimator_\n",
    "\n",
    "# Print the best model\n",
    "print(best_model)"
   ]
  },
  {
   "cell_type": "code",
   "execution_count": 35,
   "metadata": {},
   "outputs": [
    {
     "name": "stdout",
     "output_type": "stream",
     "text": [
      "{'n_neighbors': 4}\n"
     ]
    }
   ],
   "source": [
    "# Print the best params\n",
    "print(grid_cv_obj.best_params_)"
   ]
  },
  {
   "cell_type": "code",
   "execution_count": 36,
   "metadata": {},
   "outputs": [
    {
     "data": {
      "text/html": [
       "<div>\n",
       "<style scoped>\n",
       "    .dataframe tbody tr th:only-of-type {\n",
       "        vertical-align: middle;\n",
       "    }\n",
       "\n",
       "    .dataframe tbody tr th {\n",
       "        vertical-align: top;\n",
       "    }\n",
       "\n",
       "    .dataframe thead th {\n",
       "        text-align: right;\n",
       "    }\n",
       "</style>\n",
       "<table border=\"1\" class=\"dataframe\">\n",
       "  <thead>\n",
       "    <tr style=\"text-align: right;\">\n",
       "      <th></th>\n",
       "      <th>mean_fit_time</th>\n",
       "      <th>std_fit_time</th>\n",
       "      <th>mean_score_time</th>\n",
       "      <th>std_score_time</th>\n",
       "      <th>param_n_neighbors</th>\n",
       "      <th>params</th>\n",
       "      <th>split0_test_score</th>\n",
       "      <th>split1_test_score</th>\n",
       "      <th>split2_test_score</th>\n",
       "      <th>split3_test_score</th>\n",
       "      <th>split4_test_score</th>\n",
       "      <th>mean_test_score</th>\n",
       "      <th>std_test_score</th>\n",
       "      <th>rank_test_score</th>\n",
       "    </tr>\n",
       "  </thead>\n",
       "  <tbody>\n",
       "    <tr>\n",
       "      <th>0</th>\n",
       "      <td>0.000997</td>\n",
       "      <td>4.623108e-07</td>\n",
       "      <td>0.001596</td>\n",
       "      <td>0.000798</td>\n",
       "      <td>1</td>\n",
       "      <td>{'n_neighbors': 1}</td>\n",
       "      <td>-0.081308</td>\n",
       "      <td>-4.900943</td>\n",
       "      <td>-0.322660</td>\n",
       "      <td>0.636097</td>\n",
       "      <td>-1.474163</td>\n",
       "      <td>-1.228595</td>\n",
       "      <td>1.957575</td>\n",
       "      <td>6</td>\n",
       "    </tr>\n",
       "    <tr>\n",
       "      <th>1</th>\n",
       "      <td>0.000607</td>\n",
       "      <td>4.960504e-04</td>\n",
       "      <td>0.001589</td>\n",
       "      <td>0.000484</td>\n",
       "      <td>2</td>\n",
       "      <td>{'n_neighbors': 2}</td>\n",
       "      <td>-1.379118</td>\n",
       "      <td>-1.497278</td>\n",
       "      <td>0.073428</td>\n",
       "      <td>0.687549</td>\n",
       "      <td>-1.823326</td>\n",
       "      <td>-0.787749</td>\n",
       "      <td>0.984246</td>\n",
       "      <td>3</td>\n",
       "    </tr>\n",
       "    <tr>\n",
       "      <th>2</th>\n",
       "      <td>0.000199</td>\n",
       "      <td>3.985405e-04</td>\n",
       "      <td>0.001197</td>\n",
       "      <td>0.000399</td>\n",
       "      <td>3</td>\n",
       "      <td>{'n_neighbors': 3}</td>\n",
       "      <td>-1.619946</td>\n",
       "      <td>-1.534856</td>\n",
       "      <td>0.247589</td>\n",
       "      <td>0.868792</td>\n",
       "      <td>-1.403595</td>\n",
       "      <td>-0.688403</td>\n",
       "      <td>1.038912</td>\n",
       "      <td>2</td>\n",
       "    </tr>\n",
       "    <tr>\n",
       "      <th>3</th>\n",
       "      <td>0.000591</td>\n",
       "      <td>4.828535e-04</td>\n",
       "      <td>0.001420</td>\n",
       "      <td>0.000816</td>\n",
       "      <td>4</td>\n",
       "      <td>{'n_neighbors': 4}</td>\n",
       "      <td>-1.420876</td>\n",
       "      <td>-1.618033</td>\n",
       "      <td>0.414264</td>\n",
       "      <td>0.667964</td>\n",
       "      <td>-1.328431</td>\n",
       "      <td>-0.657022</td>\n",
       "      <td>0.986007</td>\n",
       "      <td>1</td>\n",
       "    </tr>\n",
       "    <tr>\n",
       "      <th>4</th>\n",
       "      <td>0.000404</td>\n",
       "      <td>4.950219e-04</td>\n",
       "      <td>0.001187</td>\n",
       "      <td>0.000404</td>\n",
       "      <td>5</td>\n",
       "      <td>{'n_neighbors': 5}</td>\n",
       "      <td>-1.613556</td>\n",
       "      <td>-2.656514</td>\n",
       "      <td>0.409688</td>\n",
       "      <td>0.640341</td>\n",
       "      <td>-1.667683</td>\n",
       "      <td>-0.977545</td>\n",
       "      <td>1.283878</td>\n",
       "      <td>4</td>\n",
       "    </tr>\n",
       "  </tbody>\n",
       "</table>\n",
       "</div>"
      ],
      "text/plain": [
       "   mean_fit_time  std_fit_time  mean_score_time  std_score_time  \\\n",
       "0       0.000997  4.623108e-07         0.001596        0.000798   \n",
       "1       0.000607  4.960504e-04         0.001589        0.000484   \n",
       "2       0.000199  3.985405e-04         0.001197        0.000399   \n",
       "3       0.000591  4.828535e-04         0.001420        0.000816   \n",
       "4       0.000404  4.950219e-04         0.001187        0.000404   \n",
       "\n",
       "  param_n_neighbors              params  split0_test_score  split1_test_score  \\\n",
       "0                 1  {'n_neighbors': 1}          -0.081308          -4.900943   \n",
       "1                 2  {'n_neighbors': 2}          -1.379118          -1.497278   \n",
       "2                 3  {'n_neighbors': 3}          -1.619946          -1.534856   \n",
       "3                 4  {'n_neighbors': 4}          -1.420876          -1.618033   \n",
       "4                 5  {'n_neighbors': 5}          -1.613556          -2.656514   \n",
       "\n",
       "   split2_test_score  split3_test_score  split4_test_score  mean_test_score  \\\n",
       "0          -0.322660           0.636097          -1.474163        -1.228595   \n",
       "1           0.073428           0.687549          -1.823326        -0.787749   \n",
       "2           0.247589           0.868792          -1.403595        -0.688403   \n",
       "3           0.414264           0.667964          -1.328431        -0.657022   \n",
       "4           0.409688           0.640341          -1.667683        -0.977545   \n",
       "\n",
       "   std_test_score  rank_test_score  \n",
       "0        1.957575                6  \n",
       "1        0.984246                3  \n",
       "2        1.038912                2  \n",
       "3        0.986007                1  \n",
       "4        1.283878                4  "
      ]
     },
     "execution_count": 36,
     "metadata": {},
     "output_type": "execute_result"
    }
   ],
   "source": [
    "import pandas as pd\n",
    "\n",
    "results = pd.DataFrame(grid_cv_obj.cv_results_)\n",
    "\n",
    "results.head()"
   ]
  },
  {
   "cell_type": "markdown",
   "metadata": {},
   "source": [
    "#### Understanding Grid Search\n",
    "\n",
    "In this example we only had one parameter so the grid is just a 1 dimensonal list.\n",
    "\n",
    "\n",
    "**GridSearchCV** performs cross validation for each value of n_neighbours and returns the best value of n_neighbours.\n",
    "\n",
    "We can use the **ParameterGrid** object in sklearn to list out all combinations of values that will be checked. In this case there are only 10."
   ]
  },
  {
   "cell_type": "code",
   "execution_count": 37,
   "metadata": {},
   "outputs": [
    {
     "data": {
      "text/html": [
       "<div>\n",
       "<style scoped>\n",
       "    .dataframe tbody tr th:only-of-type {\n",
       "        vertical-align: middle;\n",
       "    }\n",
       "\n",
       "    .dataframe tbody tr th {\n",
       "        vertical-align: top;\n",
       "    }\n",
       "\n",
       "    .dataframe thead th {\n",
       "        text-align: right;\n",
       "    }\n",
       "</style>\n",
       "<table border=\"1\" class=\"dataframe\">\n",
       "  <thead>\n",
       "    <tr style=\"text-align: right;\">\n",
       "      <th></th>\n",
       "      <th>n_neighbors</th>\n",
       "    </tr>\n",
       "  </thead>\n",
       "  <tbody>\n",
       "    <tr>\n",
       "      <th>0</th>\n",
       "      <td>1</td>\n",
       "    </tr>\n",
       "    <tr>\n",
       "      <th>1</th>\n",
       "      <td>2</td>\n",
       "    </tr>\n",
       "    <tr>\n",
       "      <th>2</th>\n",
       "      <td>3</td>\n",
       "    </tr>\n",
       "    <tr>\n",
       "      <th>3</th>\n",
       "      <td>4</td>\n",
       "    </tr>\n",
       "    <tr>\n",
       "      <th>4</th>\n",
       "      <td>5</td>\n",
       "    </tr>\n",
       "    <tr>\n",
       "      <th>5</th>\n",
       "      <td>6</td>\n",
       "    </tr>\n",
       "    <tr>\n",
       "      <th>6</th>\n",
       "      <td>7</td>\n",
       "    </tr>\n",
       "    <tr>\n",
       "      <th>7</th>\n",
       "      <td>8</td>\n",
       "    </tr>\n",
       "    <tr>\n",
       "      <th>8</th>\n",
       "      <td>9</td>\n",
       "    </tr>\n",
       "    <tr>\n",
       "      <th>9</th>\n",
       "      <td>10</td>\n",
       "    </tr>\n",
       "  </tbody>\n",
       "</table>\n",
       "</div>"
      ],
      "text/plain": [
       "   n_neighbors\n",
       "0            1\n",
       "1            2\n",
       "2            3\n",
       "3            4\n",
       "4            5\n",
       "5            6\n",
       "6            7\n",
       "7            8\n",
       "8            9\n",
       "9           10"
      ]
     },
     "execution_count": 37,
     "metadata": {},
     "output_type": "execute_result"
    }
   ],
   "source": [
    "from sklearn.model_selection import ParameterGrid\n",
    "\n",
    "grid_df = pd.DataFrame(list(ParameterGrid(param_grid)))\n",
    "                       \n",
    "grid_df"
   ]
  },
  {
   "cell_type": "markdown",
   "metadata": {},
   "source": [
    "If we have 3 hyperparameters, then the number of parameter combinations that we have to search increases dramatically. We perform cross validation for each row in the parameter grid. Here we have shown the first 15 rows from 1000 ($10 \\times 10 \\times 10$) total rows."
   ]
  },
  {
   "cell_type": "code",
   "execution_count": 38,
   "metadata": {},
   "outputs": [
    {
     "data": {
      "text/html": [
       "<div>\n",
       "<style scoped>\n",
       "    .dataframe tbody tr th:only-of-type {\n",
       "        vertical-align: middle;\n",
       "    }\n",
       "\n",
       "    .dataframe tbody tr th {\n",
       "        vertical-align: top;\n",
       "    }\n",
       "\n",
       "    .dataframe thead th {\n",
       "        text-align: right;\n",
       "    }\n",
       "</style>\n",
       "<table border=\"1\" class=\"dataframe\">\n",
       "  <thead>\n",
       "    <tr style=\"text-align: right;\">\n",
       "      <th></th>\n",
       "      <th>param_a</th>\n",
       "      <th>param_b</th>\n",
       "      <th>param_c</th>\n",
       "    </tr>\n",
       "  </thead>\n",
       "  <tbody>\n",
       "    <tr>\n",
       "      <th>0</th>\n",
       "      <td>1</td>\n",
       "      <td>101</td>\n",
       "      <td>-4</td>\n",
       "    </tr>\n",
       "    <tr>\n",
       "      <th>1</th>\n",
       "      <td>1</td>\n",
       "      <td>101</td>\n",
       "      <td>-3</td>\n",
       "    </tr>\n",
       "    <tr>\n",
       "      <th>2</th>\n",
       "      <td>1</td>\n",
       "      <td>101</td>\n",
       "      <td>-2</td>\n",
       "    </tr>\n",
       "    <tr>\n",
       "      <th>3</th>\n",
       "      <td>1</td>\n",
       "      <td>101</td>\n",
       "      <td>-1</td>\n",
       "    </tr>\n",
       "    <tr>\n",
       "      <th>4</th>\n",
       "      <td>1</td>\n",
       "      <td>101</td>\n",
       "      <td>0</td>\n",
       "    </tr>\n",
       "    <tr>\n",
       "      <th>5</th>\n",
       "      <td>1</td>\n",
       "      <td>101</td>\n",
       "      <td>1</td>\n",
       "    </tr>\n",
       "    <tr>\n",
       "      <th>6</th>\n",
       "      <td>1</td>\n",
       "      <td>101</td>\n",
       "      <td>2</td>\n",
       "    </tr>\n",
       "    <tr>\n",
       "      <th>7</th>\n",
       "      <td>1</td>\n",
       "      <td>101</td>\n",
       "      <td>3</td>\n",
       "    </tr>\n",
       "    <tr>\n",
       "      <th>8</th>\n",
       "      <td>1</td>\n",
       "      <td>101</td>\n",
       "      <td>4</td>\n",
       "    </tr>\n",
       "    <tr>\n",
       "      <th>9</th>\n",
       "      <td>1</td>\n",
       "      <td>101</td>\n",
       "      <td>5</td>\n",
       "    </tr>\n",
       "    <tr>\n",
       "      <th>10</th>\n",
       "      <td>1</td>\n",
       "      <td>102</td>\n",
       "      <td>-4</td>\n",
       "    </tr>\n",
       "    <tr>\n",
       "      <th>11</th>\n",
       "      <td>1</td>\n",
       "      <td>102</td>\n",
       "      <td>-3</td>\n",
       "    </tr>\n",
       "    <tr>\n",
       "      <th>12</th>\n",
       "      <td>1</td>\n",
       "      <td>102</td>\n",
       "      <td>-2</td>\n",
       "    </tr>\n",
       "    <tr>\n",
       "      <th>13</th>\n",
       "      <td>1</td>\n",
       "      <td>102</td>\n",
       "      <td>-1</td>\n",
       "    </tr>\n",
       "    <tr>\n",
       "      <th>14</th>\n",
       "      <td>1</td>\n",
       "      <td>102</td>\n",
       "      <td>0</td>\n",
       "    </tr>\n",
       "  </tbody>\n",
       "</table>\n",
       "</div>"
      ],
      "text/plain": [
       "    param_a  param_b  param_c\n",
       "0         1      101       -4\n",
       "1         1      101       -3\n",
       "2         1      101       -2\n",
       "3         1      101       -1\n",
       "4         1      101        0\n",
       "5         1      101        1\n",
       "6         1      101        2\n",
       "7         1      101        3\n",
       "8         1      101        4\n",
       "9         1      101        5\n",
       "10        1      102       -4\n",
       "11        1      102       -3\n",
       "12        1      102       -2\n",
       "13        1      102       -1\n",
       "14        1      102        0"
      ]
     },
     "execution_count": 38,
     "metadata": {},
     "output_type": "execute_result"
    }
   ],
   "source": [
    "from sklearn.model_selection import ParameterGrid\n",
    "\n",
    "param_grid = {\n",
    "    'param_a': np.arange(1,11),\n",
    "    'param_b': np.arange(101,111),\n",
    "    'param_c': np.arange(-4,6),\n",
    "}\n",
    "\n",
    "grid_df_3 = pd.DataFrame(list(ParameterGrid(param_grid)))\n",
    "                       \n",
    "grid_df_3.head(15)"
   ]
  },
  {
   "cell_type": "markdown",
   "metadata": {},
   "source": [
    "Total number of combinations of hyperparamters"
   ]
  },
  {
   "cell_type": "code",
   "execution_count": 39,
   "metadata": {},
   "outputs": [
    {
     "data": {
      "text/plain": [
       "1000"
      ]
     },
     "execution_count": 39,
     "metadata": {},
     "output_type": "execute_result"
    }
   ],
   "source": [
    "len(grid_df_3)"
   ]
  },
  {
   "cell_type": "markdown",
   "metadata": {},
   "source": [
    "### Build the cross validation learning curve\n",
    "\n",
    "CV for linear regression"
   ]
  },
  {
   "cell_type": "code",
   "execution_count": 40,
   "metadata": {},
   "outputs": [],
   "source": [
    "from sklearn.preprocessing import PolynomialFeatures\n",
    "from sklearn.metrics import mean_squared_error\n",
    "from sklearn.linear_model import LinearRegression\n",
    "from sklearn.model_selection import cross_val_score\n",
    "\n",
    "max_deg = 10\n",
    "\n",
    "cv_scores_lr = []\n",
    "\n",
    "for i in range(1, max_deg):\n",
    "    \n",
    "    poly_transformer = PolynomialFeatures(i) \n",
    "    poly_x = poly_transformer.fit_transform(x.reshape(-1,1))\n",
    "    \n",
    "    # Create the linear regression object\n",
    "    lin_reg = LinearRegression()\n",
    "    \n",
    "    # use 3-fold cv\n",
    "    # https://scikit-learn.org/stable/modules/generated/sklearn.model_selection.cross_val_score.html\n",
    "    scores_lr = cross_val_score(lin_reg, poly_x, y_train, cv=3, scoring = 'neg_mean_squared_error')\n",
    "\n",
    "    # Get the mean of the scores from the 3 folds\n",
    "    cv_score = np.mean(scores_lr)\n",
    "    \n",
    "    cv_scores_lr.append(cv_score)   "
   ]
  },
  {
   "cell_type": "markdown",
   "metadata": {},
   "source": [
    "### You can change the number of folds in cross validation, and see what is the impact of it on the model selection."
   ]
  },
  {
   "cell_type": "code",
   "execution_count": 41,
   "metadata": {},
   "outputs": [
    {
     "data": {
      "text/plain": [
       "[-0.7677682428258845,\n",
       " -0.2471889370479724,\n",
       " -1.6382231164261842,\n",
       " -11.62963133724679,\n",
       " -300.13865968973823,\n",
       " -2832.9134362128243,\n",
       " -10117.513235502312,\n",
       " -21932.13243979918,\n",
       " -3126766.599095208]"
      ]
     },
     "execution_count": 41,
     "metadata": {},
     "output_type": "execute_result"
    }
   ],
   "source": [
    "cv_scores_lr"
   ]
  },
  {
   "cell_type": "markdown",
   "metadata": {},
   "source": [
    "The optimal Polynomial order"
   ]
  },
  {
   "cell_type": "code",
   "execution_count": 42,
   "metadata": {},
   "outputs": [
    {
     "data": {
      "text/plain": [
       "2"
      ]
     },
     "execution_count": 42,
     "metadata": {},
     "output_type": "execute_result"
    }
   ],
   "source": [
    "1 + np.argmax(cv_scores_lr)"
   ]
  },
  {
   "cell_type": "code",
   "execution_count": 43,
   "metadata": {},
   "outputs": [
    {
     "data": {
      "text/plain": [
       "Text(0, 0.5, 'CV score (Higher is better)')"
      ]
     },
     "execution_count": 43,
     "metadata": {},
     "output_type": "execute_result"
    },
    {
     "data": {
      "image/png": "[encoded data removed]",
      "text/plain": [
       "<Figure size 432x288 with 1 Axes>"
      ]
     },
     "metadata": {
      "needs_background": "light"
     },
     "output_type": "display_data"
    }
   ],
   "source": [
    "fig = plt.figure()\n",
    "\n",
    "plt.plot(np.arange(1,max_deg), cv_scores_lr)\n",
    "\n",
    "plt.xlabel(\"Polynomial Degree\")\n",
    "plt.ylabel(\"CV score (Higher is better)\")"
   ]
  },
  {
   "cell_type": "markdown",
   "metadata": {},
   "source": [
    "Note the in the above plot the extreme values, e.g. -3126766.599, make the pattern of the plot not clear. Let's only plot CV score versus the first 4 polynomial orders."
   ]
  },
  {
   "cell_type": "code",
   "execution_count": 44,
   "metadata": {},
   "outputs": [
    {
     "data": {
      "text/plain": [
       "Text(0, 0.5, 'CV score (Higher is better)')"
      ]
     },
     "execution_count": 44,
     "metadata": {},
     "output_type": "execute_result"
    },
    {
     "data": {
      "image/png": "[encoded data removed]",
      "text/plain": [
       "<Figure size 432x288 with 1 Axes>"
      ]
     },
     "metadata": {
      "needs_background": "light"
     },
     "output_type": "display_data"
    }
   ],
   "source": [
    "fig = plt.figure()\n",
    "\n",
    "plt.plot(np.arange(1,5), cv_scores_lr[0:4])\n",
    "\n",
    "plt.xlabel(\"Polynomial Degree\")\n",
    "plt.ylabel(\"CV score (Higher is better)\")"
   ]
  },
  {
   "cell_type": "markdown",
   "metadata": {},
   "source": [
    "## Example: Using CV to Evaluate Model Performance\n",
    "\n",
    "Lets compare the performance of our best polynomial regression model with that of the knn regressor.\n",
    "\n",
    "To ensure that each model sees the exact same K-Folds we need to store the K-Fold split in to a Python object and then share it to the cross_val_score function"
   ]
  },
  {
   "cell_type": "code",
   "execution_count": 45,
   "metadata": {},
   "outputs": [
    {
     "data": {
      "text/plain": [
       "KNeighborsRegressor(n_neighbors=4)"
      ]
     },
     "execution_count": 45,
     "metadata": {},
     "output_type": "execute_result"
    }
   ],
   "source": [
    "from sklearn.preprocessing import PolynomialFeatures\n",
    "from sklearn.linear_model import LinearRegression\n",
    "\n",
    "# Build poly2 model\n",
    "poly_transformer = PolynomialFeatures(2) \n",
    "poly_x = poly_transformer.fit_transform(np.reshape(x, (50,1)))\n",
    "poly_reg = LinearRegression()\n",
    "poly_reg.fit(poly_x, y_train)\n",
    "    \n",
    "# Build knn model\n",
    "knn = KNeighborsRegressor(n_neighbors= 4)\n",
    "knn.fit(x.reshape(-1,1), y_train)"
   ]
  },
  {
   "cell_type": "code",
   "execution_count": 46,
   "metadata": {},
   "outputs": [],
   "source": [
    "from sklearn.model_selection import KFold\n",
    "\n",
    "# 3-Fold Cross Validation\n",
    "kf = KFold(3)\n",
    "\n",
    "poly_scores = cross_val_score(poly_reg, poly_x, y_train, cv = kf)\n",
    "poly_mean = np.mean(poly_scores)\n",
    "\n",
    "knn_scores = cross_val_score(knn, x.reshape(-1,1), y_train, cv = kf)\n",
    "knn_mean = np.mean(knn_scores)"
   ]
  },
  {
   "cell_type": "code",
   "execution_count": 47,
   "metadata": {},
   "outputs": [
    {
     "data": {
      "text/html": [
       "<div>\n",
       "<style scoped>\n",
       "    .dataframe tbody tr th:only-of-type {\n",
       "        vertical-align: middle;\n",
       "    }\n",
       "\n",
       "    .dataframe tbody tr th {\n",
       "        vertical-align: top;\n",
       "    }\n",
       "\n",
       "    .dataframe thead th {\n",
       "        text-align: right;\n",
       "    }\n",
       "</style>\n",
       "<table border=\"1\" class=\"dataframe\">\n",
       "  <thead>\n",
       "    <tr style=\"text-align: right;\">\n",
       "      <th></th>\n",
       "      <th>CV score</th>\n",
       "    </tr>\n",
       "    <tr>\n",
       "      <th>Model</th>\n",
       "      <th></th>\n",
       "    </tr>\n",
       "  </thead>\n",
       "  <tbody>\n",
       "    <tr>\n",
       "      <th>Polynomial Regression</th>\n",
       "      <td>-0.63556</td>\n",
       "    </tr>\n",
       "    <tr>\n",
       "      <th>KNN Regressor</th>\n",
       "      <td>-1.74397</td>\n",
       "    </tr>\n",
       "  </tbody>\n",
       "</table>\n",
       "</div>"
      ],
      "text/plain": [
       "                       CV score\n",
       "Model                          \n",
       "Polynomial Regression  -0.63556\n",
       "KNN Regressor          -1.74397"
      ]
     },
     "execution_count": 47,
     "metadata": {},
     "output_type": "execute_result"
    }
   ],
   "source": [
    "# Make the results pretty\n",
    "\n",
    "data = [\n",
    "    {\"Model\": \"Polynomial Regression\", \"CV score\": poly_mean},\n",
    "    {\"Model\": \"KNN Regressor\", \"CV score\": knn_mean}\n",
    "]\n",
    "\n",
    "results = pd.DataFrame(data)\n",
    "results = results.set_index(\"Model\")\n",
    "results"
   ]
  },
  {
   "cell_type": "markdown",
   "metadata": {},
   "source": [
    "## Manual K-Fold Cross Validation\n",
    "\n",
    "In this section, Let's demonstrate what is happening when we use the cross_val_score function"
   ]
  },
  {
   "cell_type": "code",
   "execution_count": 50,
   "metadata": {},
   "outputs": [
    {
     "name": "stdout",
     "output_type": "stream",
     "text": [
      "Best value of k: 5\n"
     ]
    }
   ],
   "source": [
    "# Manual K-Folds\n",
    "from sklearn.neighbors import KNeighborsRegressor\n",
    "from sklearn.model_selection import cross_val_score\n",
    "\n",
    "cv_scores = []\n",
    "\n",
    "k_values = np.arange(1,11)\n",
    "\n",
    "for k in k_values:\n",
    "    knn = KNeighborsRegressor(n_neighbors = k)\n",
    "    \n",
    "    kf = KFold(3)\n",
    "    \n",
    "    scores = []\n",
    "    \n",
    "    for train_indices, valid_indices in kf.split(x):\n",
    "        x_cvtrain = x[train_indices]\n",
    "        x_cvvalid = x[valid_indices]\n",
    "        \n",
    "        y_cvtrain = y_train[train_indices]\n",
    "        y_cvvalid = y_train[valid_indices]\n",
    "        \n",
    "        knn.fit(x_cvtrain.reshape(-1,1), y_cvtrain)\n",
    "        \n",
    "        y_cvpred = knn.predict(x_cvvalid.reshape(-1,1))\n",
    "        \n",
    "        error = -(mean_squared_error(y_cvvalid, y_cvpred))\n",
    "        \n",
    "        scores.append(error)\n",
    "        \n",
    "    # Get the mean of the scores from the 3 folds\n",
    "    cv_score = np.mean(scores)\n",
    "    \n",
    "    cv_scores.append(cv_score)\n",
    "    \n",
    "print(\"Best value of k: {0}\".format(k_values[np.argmax(cv_scores)]))"
   ]
  }
 ],
 "metadata": {
  "kernelspec": {
   "display_name": "Python 3",
   "language": "python",
   "name": "python3"
  },
  "language_info": {
   "codemirror_mode": {
    "name": "ipython",
    "version": 3
   },
   "file_extension": ".py",
   "mimetype": "text/x-python",
   "name": "python",
   "nbconvert_exporter": "python",
   "pygments_lexer": "ipython3",
   "version": "3.7.6"
  }
 },
 "nbformat": 4,
 "nbformat_minor": 2
}
