{
 "cells": [
  {
   "cell_type": "markdown",
   "metadata": {},
   "source": [
    "<center><h1>QBUS2820 - Predictive Analytics</h1></center>\n",
    "\n",
    "# Tutorial 2 Tasks\n",
    "\n",
    "## Task 1 - Historical Data\n",
    "\n",
    "The sales team wants to know what the trend of average customer spending is over the past 5 years. Each year the company randomly samples 1000 customers. You have already been given one year in the \"DirectMarketing.xlsx\" file.\n",
    "\n",
    "Helpfully the sales team has given you a new file called \"AmountSpent_13to17.xlsx\".\n",
    "\n",
    "Use this file to calculate the average customer spend per year. Present your results as a line plot. Don't forget to label all axes, title etc. You can use the following code to label your x axis ticks:\n",
    "\n",
    "    plt.xticks( np.arange(1,6), ['2013', '2014', '2015', '2016', '2017'] )\n",
    "\n",
    "\n",
    "## Task 2 - Querying\n",
    "\n",
    "Use DirectMarketing.xlsx\n",
    "\n",
    "#### What is the distribution of Customer Salary?\n",
    "\n",
    "Create a histogram of all customer's salary.\n",
    "\n",
    "#### What is the distribution of Salary for High Spending Customers?\n",
    "\n",
    "Create a histogram of customer salary for customers that spent more than $500$ dollars.\n",
    "\n",
    "#### Is the amount spent different between male and female customers?\n",
    "\n",
    "1. Create a single plot with a histogram each for male and female customers\n",
    "2. Calculate and report the average and variance for each customer segment "
   ]
  }
 ],
 "metadata": {
  "celltoolbar": "Raw Cell Format",
  "kernelspec": {
   "display_name": "Python 2",
   "language": "python",
   "name": "python2"
  },
  "language_info": {
   "codemirror_mode": {
    "name": "ipython",
    "version": 2
   },
   "file_extension": ".py",
   "mimetype": "text/x-python",
   "name": "python",
   "nbconvert_exporter": "python",
   "pygments_lexer": "ipython2",
   "version": "2.7.13"
  }
 },
 "nbformat": 4,
 "nbformat_minor": 2
}
