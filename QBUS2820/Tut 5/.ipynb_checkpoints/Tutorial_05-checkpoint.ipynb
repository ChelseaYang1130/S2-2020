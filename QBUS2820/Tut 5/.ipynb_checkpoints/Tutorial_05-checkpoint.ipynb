{
 "cells": [
  {
   "cell_type": "markdown",
   "metadata": {},
   "source": [
    "<center><h1>QBUS2820 - Predictive Analytics</h1></center>\n",
    "\n",
    "# Tutorial 5 - Model Selection and Evaluation\n",
    "\n",
    "In this tutorial we will continue working with the K-nearest neighbours regression method and the credit dataset to introduce model selection into the data analysis process. By using cross validation, we can pick the number of neighbours before generating predictions for the test data. \n",
    "\n",
    "<a class=\"buttom\" href=\"#Data processing\">Data processing</a> <br>\n",
    "<a class=\"buttom\" href=\"#KNN-regression-performance\">KNN regression test performance</a> <br>\n",
    "<a class=\"buttom\" href=\"#Cross-validation\">Cross validation</a> <br>\n",
    "<a class=\"buttom\" href=\"#Applying-cross-validation-to-KNN\">Applying cross validation to KNN</a> <br>\n",
    "<a class=\"buttom\" href=\"#Adding-Predictors\">Adding predictors</a> <br>\n",
    "<a class=\"buttom\" href=\"#Computational-considerations\">Computational considerations</a> <br>\n",
    "<a class=\"buttom\" href=\"#The-next-step\">The next step</a> <br>\n",
    "<a class=\"buttom\" href=\"#Exercise\">Exercise</a> <br>\n",
    "\n",
    "\n",
    "This notebook relies on the following imports throughout. We will load new packages and functions in context to make clear what we are using them for. "
   ]
  },
  {
   "cell_type": "code",
   "execution_count": 1,
   "metadata": {
    "collapsed": true
   },
   "outputs": [],
   "source": [
    "import pandas as pd\n",
    "import numpy as np\n",
    "import matplotlib.pyplot as plt\n",
    "import seaborn as sns\n",
    "%matplotlib inline\n",
    "sns.set_context('notebook') # optimises picture for notebook viewing"
   ]
  },
  {
   "cell_type": "markdown",
   "metadata": {},
   "source": [
    "### Data processing\n",
    "\n",
    "We start by loading the dataset in the same way as before. "
   ]
  },
  {
   "cell_type": "code",
   "execution_count": 2,
   "metadata": {},
   "outputs": [
    {
     "data": {
      "text/html": [
       "<div>\n",
       "<style>\n",
       "    .dataframe thead tr:only-child th {\n",
       "        text-align: right;\n",
       "    }\n",
       "\n",
       "    .dataframe thead th {\n",
       "        text-align: left;\n",
       "    }\n",
       "\n",
       "    .dataframe tbody tr th {\n",
       "        vertical-align: top;\n",
       "    }\n",
       "</style>\n",
       "<table border=\"1\" class=\"dataframe\">\n",
       "  <thead>\n",
       "    <tr style=\"text-align: right;\">\n",
       "      <th></th>\n",
       "      <th>Income</th>\n",
       "      <th>Limit</th>\n",
       "      <th>Rating</th>\n",
       "      <th>Cards</th>\n",
       "      <th>Age</th>\n",
       "      <th>Education</th>\n",
       "      <th>Gender</th>\n",
       "      <th>Student</th>\n",
       "      <th>Married</th>\n",
       "      <th>Ethnicity</th>\n",
       "      <th>Balance</th>\n",
       "    </tr>\n",
       "    <tr>\n",
       "      <th>Obs</th>\n",
       "      <th></th>\n",
       "      <th></th>\n",
       "      <th></th>\n",
       "      <th></th>\n",
       "      <th></th>\n",
       "      <th></th>\n",
       "      <th></th>\n",
       "      <th></th>\n",
       "      <th></th>\n",
       "      <th></th>\n",
       "      <th></th>\n",
       "    </tr>\n",
       "  </thead>\n",
       "  <tbody>\n",
       "    <tr>\n",
       "      <th>1</th>\n",
       "      <td>14.891</td>\n",
       "      <td>3606</td>\n",
       "      <td>283</td>\n",
       "      <td>2</td>\n",
       "      <td>34</td>\n",
       "      <td>11</td>\n",
       "      <td>Male</td>\n",
       "      <td>No</td>\n",
       "      <td>Yes</td>\n",
       "      <td>Caucasian</td>\n",
       "      <td>333</td>\n",
       "    </tr>\n",
       "    <tr>\n",
       "      <th>2</th>\n",
       "      <td>106.025</td>\n",
       "      <td>6645</td>\n",
       "      <td>483</td>\n",
       "      <td>3</td>\n",
       "      <td>82</td>\n",
       "      <td>15</td>\n",
       "      <td>Female</td>\n",
       "      <td>Yes</td>\n",
       "      <td>Yes</td>\n",
       "      <td>Asian</td>\n",
       "      <td>903</td>\n",
       "    </tr>\n",
       "    <tr>\n",
       "      <th>3</th>\n",
       "      <td>104.593</td>\n",
       "      <td>7075</td>\n",
       "      <td>514</td>\n",
       "      <td>4</td>\n",
       "      <td>71</td>\n",
       "      <td>11</td>\n",
       "      <td>Male</td>\n",
       "      <td>No</td>\n",
       "      <td>No</td>\n",
       "      <td>Asian</td>\n",
       "      <td>580</td>\n",
       "    </tr>\n",
       "    <tr>\n",
       "      <th>4</th>\n",
       "      <td>148.924</td>\n",
       "      <td>9504</td>\n",
       "      <td>681</td>\n",
       "      <td>3</td>\n",
       "      <td>36</td>\n",
       "      <td>11</td>\n",
       "      <td>Female</td>\n",
       "      <td>No</td>\n",
       "      <td>No</td>\n",
       "      <td>Asian</td>\n",
       "      <td>964</td>\n",
       "    </tr>\n",
       "    <tr>\n",
       "      <th>5</th>\n",
       "      <td>55.882</td>\n",
       "      <td>4897</td>\n",
       "      <td>357</td>\n",
       "      <td>2</td>\n",
       "      <td>68</td>\n",
       "      <td>16</td>\n",
       "      <td>Male</td>\n",
       "      <td>No</td>\n",
       "      <td>Yes</td>\n",
       "      <td>Caucasian</td>\n",
       "      <td>331</td>\n",
       "    </tr>\n",
       "  </tbody>\n",
       "</table>\n",
       "</div>"
      ],
      "text/plain": [
       "      Income  Limit  Rating  Cards  Age  Education  Gender Student Married  \\\n",
       "Obs                                                                          \n",
       "1     14.891   3606     283      2   34         11    Male      No     Yes   \n",
       "2    106.025   6645     483      3   82         15  Female     Yes     Yes   \n",
       "3    104.593   7075     514      4   71         11    Male      No      No   \n",
       "4    148.924   9504     681      3   36         11  Female      No      No   \n",
       "5     55.882   4897     357      2   68         16    Male      No     Yes   \n",
       "\n",
       "     Ethnicity  Balance  \n",
       "Obs                      \n",
       "1    Caucasian      333  \n",
       "2        Asian      903  \n",
       "3        Asian      580  \n",
       "4        Asian      964  \n",
       "5    Caucasian      331  "
      ]
     },
     "execution_count": 2,
     "metadata": {},
     "output_type": "execute_result"
    }
   ],
   "source": [
    "data=pd.read_csv('credit.csv', index_col='Obs')\n",
    "data.head()"
   ]
  },
  {
   "cell_type": "markdown",
   "metadata": {},
   "source": [
    "This time, let's do some additional processing to create dummy variables."
   ]
  },
  {
   "cell_type": "code",
   "execution_count": 3,
   "metadata": {},
   "outputs": [
    {
     "data": {
      "text/html": [
       "<div>\n",
       "<style>\n",
       "    .dataframe thead tr:only-child th {\n",
       "        text-align: right;\n",
       "    }\n",
       "\n",
       "    .dataframe thead th {\n",
       "        text-align: left;\n",
       "    }\n",
       "\n",
       "    .dataframe tbody tr th {\n",
       "        vertical-align: top;\n",
       "    }\n",
       "</style>\n",
       "<table border=\"1\" class=\"dataframe\">\n",
       "  <thead>\n",
       "    <tr style=\"text-align: right;\">\n",
       "      <th></th>\n",
       "      <th>Income</th>\n",
       "      <th>Limit</th>\n",
       "      <th>Cards</th>\n",
       "      <th>Age</th>\n",
       "      <th>Education</th>\n",
       "      <th>Student</th>\n",
       "      <th>Married</th>\n",
       "      <th>Balance</th>\n",
       "      <th>Male</th>\n",
       "      <th>Caucasian</th>\n",
       "      <th>Asian</th>\n",
       "    </tr>\n",
       "    <tr>\n",
       "      <th>Obs</th>\n",
       "      <th></th>\n",
       "      <th></th>\n",
       "      <th></th>\n",
       "      <th></th>\n",
       "      <th></th>\n",
       "      <th></th>\n",
       "      <th></th>\n",
       "      <th></th>\n",
       "      <th></th>\n",
       "      <th></th>\n",
       "      <th></th>\n",
       "    </tr>\n",
       "  </thead>\n",
       "  <tbody>\n",
       "    <tr>\n",
       "      <th>1</th>\n",
       "      <td>14.891</td>\n",
       "      <td>3606</td>\n",
       "      <td>2</td>\n",
       "      <td>34</td>\n",
       "      <td>11</td>\n",
       "      <td>0</td>\n",
       "      <td>1</td>\n",
       "      <td>333</td>\n",
       "      <td>1</td>\n",
       "      <td>1</td>\n",
       "      <td>0</td>\n",
       "    </tr>\n",
       "    <tr>\n",
       "      <th>2</th>\n",
       "      <td>106.025</td>\n",
       "      <td>6645</td>\n",
       "      <td>3</td>\n",
       "      <td>82</td>\n",
       "      <td>15</td>\n",
       "      <td>1</td>\n",
       "      <td>1</td>\n",
       "      <td>903</td>\n",
       "      <td>0</td>\n",
       "      <td>0</td>\n",
       "      <td>1</td>\n",
       "    </tr>\n",
       "    <tr>\n",
       "      <th>3</th>\n",
       "      <td>104.593</td>\n",
       "      <td>7075</td>\n",
       "      <td>4</td>\n",
       "      <td>71</td>\n",
       "      <td>11</td>\n",
       "      <td>0</td>\n",
       "      <td>0</td>\n",
       "      <td>580</td>\n",
       "      <td>1</td>\n",
       "      <td>0</td>\n",
       "      <td>1</td>\n",
       "    </tr>\n",
       "    <tr>\n",
       "      <th>4</th>\n",
       "      <td>148.924</td>\n",
       "      <td>9504</td>\n",
       "      <td>3</td>\n",
       "      <td>36</td>\n",
       "      <td>11</td>\n",
       "      <td>0</td>\n",
       "      <td>0</td>\n",
       "      <td>964</td>\n",
       "      <td>0</td>\n",
       "      <td>0</td>\n",
       "      <td>1</td>\n",
       "    </tr>\n",
       "    <tr>\n",
       "      <th>5</th>\n",
       "      <td>55.882</td>\n",
       "      <td>4897</td>\n",
       "      <td>2</td>\n",
       "      <td>68</td>\n",
       "      <td>16</td>\n",
       "      <td>0</td>\n",
       "      <td>1</td>\n",
       "      <td>331</td>\n",
       "      <td>1</td>\n",
       "      <td>1</td>\n",
       "      <td>0</td>\n",
       "    </tr>\n",
       "  </tbody>\n",
       "</table>\n",
       "</div>"
      ],
      "text/plain": [
       "      Income  Limit  Cards  Age  Education  Student  Married  Balance  Male  \\\n",
       "Obs                                                                           \n",
       "1     14.891   3606      2   34         11        0        1      333     1   \n",
       "2    106.025   6645      3   82         15        1        1      903     0   \n",
       "3    104.593   7075      4   71         11        0        0      580     1   \n",
       "4    148.924   9504      3   36         11        0        0      964     0   \n",
       "5     55.882   4897      2   68         16        0        1      331     1   \n",
       "\n",
       "     Caucasian  Asian  \n",
       "Obs                    \n",
       "1            1      0  \n",
       "2            0      1  \n",
       "3            0      1  \n",
       "4            0      1  \n",
       "5            1      0  "
      ]
     },
     "execution_count": 3,
     "metadata": {},
     "output_type": "execute_result"
    }
   ],
   "source": [
    "data['Male']=(data['Gender'] ==' Male').astype(int)\n",
    "data['Student']=(data['Student'] =='Yes').astype(int)\n",
    "data['Married']=(data['Married'] =='Yes').astype(int)\n",
    "data['Caucasian']=(data['Ethnicity'] =='Caucasian').astype(int)\n",
    "data['Asian']=(data['Ethnicity'] =='Asian').astype(int)\n",
    "data=data.loc[:, data.dtypes!='object'] # discards the columns that are not numerical\n",
    "data=data.drop('Rating', axis=1) # dropping rating because it is collinear with limit, as we saw before\n",
    "data.head()"
   ]
  },
  {
   "cell_type": "markdown",
   "metadata": {},
   "source": [
    "Our discussion of the random number generator state from last time becomes useful as we can now get the same training-test split as before. \n",
    "\n",
    "Try to use the train_test_split fucntion that we used in Tutorial 4."
   ]
  },
  {
   "cell_type": "code",
   "execution_count": 4,
   "metadata": {
    "collapsed": true
   },
   "outputs": [],
   "source": [
    "train = data.sample(frac=0.7, random_state=1)\n",
    "test = data[data.index.isin(train.index)==False]"
   ]
  },
  {
   "cell_type": "code",
   "execution_count": 5,
   "metadata": {},
   "outputs": [
    {
     "data": {
      "text/html": [
       "<div>\n",
       "<style>\n",
       "    .dataframe thead tr:only-child th {\n",
       "        text-align: right;\n",
       "    }\n",
       "\n",
       "    .dataframe thead th {\n",
       "        text-align: left;\n",
       "    }\n",
       "\n",
       "    .dataframe tbody tr th {\n",
       "        vertical-align: top;\n",
       "    }\n",
       "</style>\n",
       "<table border=\"1\" class=\"dataframe\">\n",
       "  <thead>\n",
       "    <tr style=\"text-align: right;\">\n",
       "      <th></th>\n",
       "      <th>Income</th>\n",
       "      <th>Limit</th>\n",
       "      <th>Cards</th>\n",
       "      <th>Age</th>\n",
       "      <th>Education</th>\n",
       "      <th>Student</th>\n",
       "      <th>Married</th>\n",
       "      <th>Balance</th>\n",
       "      <th>Male</th>\n",
       "      <th>Caucasian</th>\n",
       "      <th>Asian</th>\n",
       "    </tr>\n",
       "    <tr>\n",
       "      <th>Obs</th>\n",
       "      <th></th>\n",
       "      <th></th>\n",
       "      <th></th>\n",
       "      <th></th>\n",
       "      <th></th>\n",
       "      <th></th>\n",
       "      <th></th>\n",
       "      <th></th>\n",
       "      <th></th>\n",
       "      <th></th>\n",
       "      <th></th>\n",
       "    </tr>\n",
       "  </thead>\n",
       "  <tbody>\n",
       "    <tr>\n",
       "      <th>399</th>\n",
       "      <td>37.728</td>\n",
       "      <td>2525</td>\n",
       "      <td>1</td>\n",
       "      <td>44</td>\n",
       "      <td>13</td>\n",
       "      <td>0</td>\n",
       "      <td>1</td>\n",
       "      <td>0</td>\n",
       "      <td>1</td>\n",
       "      <td>1</td>\n",
       "      <td>0</td>\n",
       "    </tr>\n",
       "    <tr>\n",
       "      <th>126</th>\n",
       "      <td>27.578</td>\n",
       "      <td>2531</td>\n",
       "      <td>1</td>\n",
       "      <td>34</td>\n",
       "      <td>15</td>\n",
       "      <td>0</td>\n",
       "      <td>1</td>\n",
       "      <td>0</td>\n",
       "      <td>0</td>\n",
       "      <td>1</td>\n",
       "      <td>0</td>\n",
       "    </tr>\n",
       "    <tr>\n",
       "      <th>329</th>\n",
       "      <td>41.192</td>\n",
       "      <td>3673</td>\n",
       "      <td>3</td>\n",
       "      <td>54</td>\n",
       "      <td>16</td>\n",
       "      <td>0</td>\n",
       "      <td>1</td>\n",
       "      <td>121</td>\n",
       "      <td>0</td>\n",
       "      <td>1</td>\n",
       "      <td>0</td>\n",
       "    </tr>\n",
       "    <tr>\n",
       "      <th>340</th>\n",
       "      <td>149.316</td>\n",
       "      <td>10278</td>\n",
       "      <td>1</td>\n",
       "      <td>80</td>\n",
       "      <td>16</td>\n",
       "      <td>0</td>\n",
       "      <td>0</td>\n",
       "      <td>1107</td>\n",
       "      <td>1</td>\n",
       "      <td>0</td>\n",
       "      <td>0</td>\n",
       "    </tr>\n",
       "    <tr>\n",
       "      <th>173</th>\n",
       "      <td>76.348</td>\n",
       "      <td>4697</td>\n",
       "      <td>4</td>\n",
       "      <td>60</td>\n",
       "      <td>18</td>\n",
       "      <td>0</td>\n",
       "      <td>0</td>\n",
       "      <td>108</td>\n",
       "      <td>1</td>\n",
       "      <td>0</td>\n",
       "      <td>1</td>\n",
       "    </tr>\n",
       "  </tbody>\n",
       "</table>\n",
       "</div>"
      ],
      "text/plain": [
       "      Income  Limit  Cards  Age  Education  Student  Married  Balance  Male  \\\n",
       "Obs                                                                           \n",
       "399   37.728   2525      1   44         13        0        1        0     1   \n",
       "126   27.578   2531      1   34         15        0        1        0     0   \n",
       "329   41.192   3673      3   54         16        0        1      121     0   \n",
       "340  149.316  10278      1   80         16        0        0     1107     1   \n",
       "173   76.348   4697      4   60         18        0        0      108     1   \n",
       "\n",
       "     Caucasian  Asian  \n",
       "Obs                    \n",
       "399          1      0  \n",
       "126          1      0  \n",
       "329          1      0  \n",
       "340          0      0  \n",
       "173          0      1  "
      ]
     },
     "execution_count": 5,
     "metadata": {},
     "output_type": "execute_result"
    }
   ],
   "source": [
    "train.head()"
   ]
  },
  {
   "cell_type": "markdown",
   "metadata": {},
   "source": [
    "### KNN regression test performance\n",
    "\n",
    "Picking up from where we left, let's have a quick check at the solutions for the task in week 3. "
   ]
  },
  {
   "cell_type": "code",
   "execution_count": 6,
   "metadata": {},
   "outputs": [
    {
     "data": {
      "image/png": "[encoded data removed]",
      "text/plain": [
       "<matplotlib.figure.Figure at 0xc450278>"
      ]
     },
     "metadata": {},
     "output_type": "display_data"
    },
    {
     "name": "stdout",
     "output_type": "stream",
     "text": [
      "Lowest test error: K = 6\n"
     ]
    }
   ],
   "source": [
    "from sklearn.neighbors import KNeighborsRegressor\n",
    "from sklearn.metrics import mean_squared_error\n",
    "\n",
    "neighbours=np.arange(1, 101)\n",
    "test_rmse = []\n",
    "for k in neighbours: \n",
    "    knn = KNeighborsRegressor(n_neighbors = k) \n",
    "    knn.fit(train[['Limit']], train['Balance'])\n",
    "    predictions = knn.predict(test[['Limit']])\n",
    "    rmse = np.sqrt(mean_squared_error(test['Balance'], predictions))\n",
    "    test_rmse.append(rmse)\n",
    "\n",
    "fig, ax= plt.subplots()\n",
    "ax.plot(neighbours, test_rmse, color='#1F77B4')\n",
    "ax.set_xlabel('Number of neighbours')\n",
    "ax.set_ylabel('Test error')\n",
    "plt.show()\n",
    "\n",
    "print('Lowest test error: K = {}'.format(1 + np.argmin(test_rmse)))"
   ]
  },
  {
   "cell_type": "markdown",
   "metadata": {},
   "source": [
    "### KNN regression test performance\n",
    "Now, let's add more predictors."
   ]
  },
  {
   "cell_type": "code",
   "execution_count": 7,
   "metadata": {},
   "outputs": [
    {
     "data": {
      "image/png": "[encoded data removed]",
      "text/plain": [
       "<matplotlib.figure.Figure at 0xc794080>"
      ]
     },
     "metadata": {},
     "output_type": "display_data"
    },
    {
     "name": "stdout",
     "output_type": "stream",
     "text": [
      "Lowest test error: K = 10\n"
     ]
    }
   ],
   "source": [
    "predictors=['Limit','Income']\n",
    "\n",
    "neighbours=np.arange(1, 101)\n",
    "test_rmse = []\n",
    "for k in neighbours: \n",
    "    knn = KNeighborsRegressor(n_neighbors= k,  metric='mahalanobis', metric_params={'V': train[predictors].cov()}) \n",
    "    knn.fit(train[predictors], train['Balance'])\n",
    "    predictions = knn.predict(test[predictors])\n",
    "    rmse = np.sqrt(mean_squared_error(test['Balance'], predictions))\n",
    "    test_rmse.append(rmse)\n",
    "\n",
    "fig, ax= plt.subplots()\n",
    "ax.plot(neighbours, test_rmse, color='#1F77B4')\n",
    "ax.set_xlabel('Number of neighbours')\n",
    "ax.set_ylabel('Test error')\n",
    "plt.show()\n",
    "                                   \n",
    "print('Lowest test error: K = {}'.format(1 + np.argmin(test_rmse)))"
   ]
  },
  {
   "cell_type": "markdown",
   "metadata": {},
   "source": [
    "Therefore, K=6 neighbours has the best test performance for the model with only limit as a predictor, and K=10 has the best test RMSE for the model with limit and income as predictors. We can see that in this second case, the test performance deteriorates sharply as we increase K to be larger than the optimal number of neighbours.\n",
    "\n",
    "However, in practice we need to **select the number of neighbours before taking the model to the test data**. \n",
    "\n",
    "Are we able to identify based on the training data that K around 6 and 7 is the best number of neighbours? We then turn to cross validation."
   ]
  },
  {
   "cell_type": "markdown",
   "metadata": {},
   "source": [
    "### Cross validation\n",
    "\n",
    "The general procedure for computing the cross validation errors is the following: \n",
    "\n",
    "1. Set a cross validation iterator. This will set the number of folds and specify which observations are each fold. \n",
    "2. Specify the model (without training it).\n",
    "3. Use the [<TT>cross_validation_score</TT>](http://scikit-learn.org/stable/modules/model_evaluation.html) function to compute the cross validation errors. The output is the **score for each fold**. \n",
    "\n",
    "We will do this step by step. Suppose that we want to do 10-fold cross validation. The syntax for the [K-Fold CV](http://scikit-learn.org/stable/modules/generated/sklearn.model_selection.KFold.html) iterator is as follows. "
   ]
  },
  {
   "cell_type": "code",
   "execution_count": 8,
   "metadata": {
    "collapsed": true
   },
   "outputs": [],
   "source": [
    "from sklearn.model_selection import KFold\n",
    "kf=KFold(10) \n",
    "# Syntax: KFold(number of folds, shuffle=True/False, random_state = a number, if shuffling)"
   ]
  },
  {
   "cell_type": "markdown",
   "metadata": {},
   "source": [
    "By default, the shuffle option is <TT>False</TT>. That splits the data into folds according to the order of the observations, without randomisation. Setting it <TT>True</TT> splits the data randomly. \n",
    "\n",
    "It turns out that when we generated the training data, the function already returned a random permutation of the observations, based on random_state, so that it would be unnecessary to shuffle again here. "
   ]
  },
  {
   "cell_type": "markdown",
   "metadata": {},
   "source": [
    "Remember that LOOCV is equivalent to K-Fold CV with K equal to the size of the training sample."
   ]
  },
  {
   "cell_type": "code",
   "execution_count": 9,
   "metadata": {
    "collapsed": true
   },
   "outputs": [],
   "source": [
    "from sklearn.model_selection import LeaveOneOut\n",
    "loo=LeaveOneOut()"
   ]
  },
  {
   "cell_type": "markdown",
   "metadata": {
    "collapsed": true
   },
   "source": [
    "We now compute the results for each fold, using the the 10-fold CV iterator. "
   ]
  },
  {
   "cell_type": "code",
   "execution_count": 10,
   "metadata": {},
   "outputs": [
    {
     "name": "stdout",
     "output_type": "stream",
     "text": [
      "[ -77897.08714286 -122744.42571429  -45361.16142857  -14631.97857143\n",
      "  -28697.30142857  -51502.29142857  -80393.41142857  -50706.58142857\n",
      "  -30731.23571429  -12061.44857143]\n"
     ]
    }
   ],
   "source": [
    "from sklearn.model_selection import cross_val_score\n",
    "\n",
    "# Model- 5NN\n",
    "knn = KNeighborsRegressor(n_neighbors= 5) \n",
    "\n",
    "# Syntax: cross_val_score(method, predictors, response, cv = number of folds, scoring = scoring function)\n",
    "# 10 folder CV\n",
    "scores = cross_val_score(knn, train[['Limit']], train['Balance'], cv=kf, scoring = 'neg_mean_squared_error')\n",
    "\n",
    "# print the score for each fold\n",
    "print(scores)"
   ]
  },
  {
   "cell_type": "markdown",
   "metadata": {},
   "source": [
    "**The scoring in scikit-learn follows the convention that higher score values are better than lower values**. This is why the **argument in the function is the negative mean squared error**. The scikit-learn [model evaluation](http://scikit-learn.org/stable/modules/model_evaluation.html) documentation provides a list of scoring options. You should save this for future reference.\n",
    "\n",
    "Often, the syntax is simplified by the fact that each method in scikit-learn has a default scoring method. In this case you have to consult the documentation to know what it is. For a [KNN regression the default scoring is the r-squared](http://scikit-learn.org/stable/modules/generated/sklearn.neighbors.KNeighborsRegressor.html#sklearn.neighbors.KNeighborsRegressor), allowing us to interpret the output below. "
   ]
  },
  {
   "cell_type": "code",
   "execution_count": 12,
   "metadata": {},
   "outputs": [
    {
     "name": "stdout",
     "output_type": "stream",
     "text": [
      "[ 0.66456153  0.54011848  0.80810047  0.91623641  0.84439011  0.66948834\n",
      "  0.65190653  0.80374385  0.88182998  0.9219122 ]\n"
     ]
    }
   ],
   "source": [
    "scores = cross_val_score(knn, train[['Limit']], train['Balance'], cv=kf)\n",
    "print(scores)"
   ]
  },
  {
   "cell_type": "markdown",
   "metadata": {},
   "source": [
    "Another option is to create a scorer using [<TT>make_scorer</TT>](http://scikit-learn.org/stable/modules/generated/sklearn.metrics.make_scorer.html#sklearn.metrics.make_scorer) function. In a general situation, we can then provide the same function that we we use for model evaluation."
   ]
  },
  {
   "cell_type": "code",
   "execution_count": 13,
   "metadata": {},
   "outputs": [
    {
     "name": "stdout",
     "output_type": "stream",
     "text": [
      "[ -77897.08714286 -122744.42571429  -45361.16142857  -14631.97857143\n",
      "  -28697.30142857  -51502.29142857  -80393.41142857  -50706.58142857\n",
      "  -30731.23571429  -12061.44857143]\n"
     ]
    }
   ],
   "source": [
    "from sklearn.metrics import make_scorer\n",
    "scorer = make_scorer(mean_squared_error, greater_is_better=False)\n",
    "scores = cross_val_score(knn, train[['Limit']], train['Balance'], cv=kf, scoring = scorer)\n",
    "print(scores)"
   ]
  },
  {
   "cell_type": "markdown",
   "metadata": {},
   "source": [
    "Finally, in this case we could **directly specify the number of folds instead of the iterator**. The reason we started with the iterator is so that you know the full procedure."
   ]
  },
  {
   "cell_type": "code",
   "execution_count": 14,
   "metadata": {},
   "outputs": [
    {
     "name": "stdout",
     "output_type": "stream",
     "text": [
      "[ -77897.08714286 -122744.42571429  -45361.16142857  -14631.97857143\n",
      "  -28697.30142857  -51502.29142857  -80393.41142857  -50706.58142857\n",
      "  -30731.23571429  -12061.44857143]\n"
     ]
    }
   ],
   "source": [
    "scores = cross_val_score(knn, train[['Limit']], train['Balance'], cv=10,  scoring = 'neg_mean_squared_error')\n",
    "print(scores)"
   ]
  },
  {
   "cell_type": "markdown",
   "metadata": {},
   "source": [
    "### Applying cross validation\n",
    "\n",
    "In this section, we apply the cross validation to the previous model selection example. \n",
    "\n",
    "Now we try to complete the model selection job with cross validation and without using the test data."
   ]
  },
  {
   "cell_type": "code",
   "execution_count": 17,
   "metadata": {},
   "outputs": [
    {
     "data": {
      "image/png": "[encoded data removed]",
      "text/plain": [
       "<matplotlib.figure.Figure at 0xd9230b8>"
      ]
     },
     "metadata": {},
     "output_type": "display_data"
    },
    {
     "name": "stdout",
     "output_type": "stream",
     "text": [
      "Lowest CV error: K = 13\n"
     ]
    }
   ],
   "source": [
    "neighbours=np.arange(1, 101)\n",
    "\n",
    "cv_rmse = []\n",
    "for k in neighbours: \n",
    "    knn = KNeighborsRegressor(n_neighbors= k) \n",
    "    scores = cross_val_score(knn, train[['Limit']], train['Balance'], cv=10, scoring = 'neg_mean_squared_error')\n",
    "    # taking the average MSE across folds, then taking the square root to generate RMSE\n",
    "    rmse = np.sqrt(-1*np.mean(scores)) \n",
    "    cv_rmse.append(rmse)\n",
    "    knn.fit(train[['Limit']], train['Balance'])\n",
    "    \n",
    "fig, ax= plt.subplots()\n",
    "ax.plot(neighbours, cv_rmse, color='#FF7F0E', label='CV error')\n",
    "ax.set_xlabel('Number of neighbours')\n",
    "ax.set_ylabel('RMSE')\n",
    "plt.legend()\n",
    "plt.show()\n",
    "  \n",
    "print('Lowest CV error: K = {}'.format(1 + np.argmin(cv_rmse)))   "
   ]
  },
  {
   "cell_type": "code",
   "execution_count": 18,
   "metadata": {},
   "outputs": [
    {
     "data": {
      "image/png": "[encoded data removed]",
      "text/plain": [
       "<matplotlib.figure.Figure at 0xdaa0390>"
      ]
     },
     "metadata": {},
     "output_type": "display_data"
    },
    {
     "name": "stdout",
     "output_type": "stream",
     "text": [
      "Lowest CV error: K = 7\n"
     ]
    }
   ],
   "source": [
    "predictors=['Limit','Income']\n",
    "\n",
    "neighbours=np.arange(1, 101)\n",
    "cv_rmse = []\n",
    "\n",
    "for k in neighbours: \n",
    "    knn = KNeighborsRegressor(n_neighbors = k, metric='mahalanobis', metric_params={'V': train[predictors].cov()}) \n",
    "    scores = cross_val_score(knn, train[predictors], train['Balance'], cv=10, scoring = 'neg_mean_squared_error')\n",
    "    rmse = np.sqrt(-1*np.mean(scores)) # taking the average MSE across folds, then taking the square root\n",
    "    cv_rmse.append(rmse)\n",
    "    knn.fit(train[predictors], train['Balance'])\n",
    "\n",
    "fig, ax= plt.subplots()\n",
    "ax.plot(neighbours, cv_rmse, color='#FF7F0E', label='CV error')\n",
    "ax.set_xlabel('Number of neighbours')\n",
    "ax.set_ylabel('RMSE')\n",
    "plt.legend()\n",
    "plt.show()\n",
    "  \n",
    "print('Lowest CV error: K = {}'.format(1 + np.argmin(cv_rmse)))   "
   ]
  },
  {
   "cell_type": "markdown",
   "metadata": {},
   "source": [
    "### Adding predictors\n",
    "\n",
    "So far we have been using limit and income on the basis that they are the two predictors with highest correlation with the response. We should consider including more predictors to improve our predictions. "
   ]
  },
  {
   "cell_type": "code",
   "execution_count": 19,
   "metadata": {},
   "outputs": [
    {
     "data": {
      "text/plain": [
       "Income       0.531\n",
       "Limit        0.882\n",
       "Cards        0.076\n",
       "Age         -0.029\n",
       "Education   -0.020\n",
       "Student      0.240\n",
       "Married     -0.015\n",
       "Balance      1.000\n",
       "Male         0.017\n",
       "Caucasian   -0.067\n",
       "Asian       -0.008\n",
       "Name: Balance, dtype: float64"
      ]
     },
     "execution_count": 19,
     "metadata": {},
     "output_type": "execute_result"
    }
   ],
   "source": [
    "train.corr().round(3)['Balance']"
   ]
  },
  {
   "cell_type": "markdown",
   "metadata": {},
   "source": [
    "A note of caution here: the correlations only tell us about linear relationships. We should also use exploratory plots as before to discover nonlinear patterns, which the KNN method is able to capture.  \n",
    "\n",
    "The best way to proceed is to write a function that based on a list of predictors, goes through the entire process of selecting the number of neighbours through cross-validation and obtaining the test results for the selected model."
   ]
  },
  {
   "cell_type": "code",
   "execution_count": 20,
   "metadata": {
    "collapsed": true
   },
   "outputs": [],
   "source": [
    "def knn_test(predictors, response):\n",
    "    \n",
    "    neighbours=np.arange(1, 51)\n",
    "    best_score = -np.inf\n",
    "    \n",
    "    for k in neighbours: \n",
    "        knn = KNeighborsRegressor(n_neighbors = k, metric='mahalanobis', metric_params={'V': train[predictors].cov()}) \n",
    "        scores = cross_val_score(knn, train[predictors], train[response], cv=10, scoring = 'neg_mean_squared_error')\n",
    "        # taking the average of scores across 10 folds\n",
    "        cv_score = np.mean(scores)\n",
    "        # use the cv score for model selection\n",
    "        if cv_score >= best_score:\n",
    "            best_score = cv_score\n",
    "            best_knn = knn\n",
    "    \n",
    "    knn = best_knn\n",
    "    # train the selected model with the whole train set\n",
    "    knn.fit(train[predictors], train[response])\n",
    "    # Predict the test data with the selected and re-estimated model\n",
    "    predictions = knn.predict(test[predictors])\n",
    "    test_rmse = np.sqrt(mean_squared_error(test[response], predictions))\n",
    "    cv_rmse= np.sqrt(-best_score)\n",
    "    print('Chosen K: {}'.format(knn.n_neighbors))\n",
    "    \n",
    "    return test_rmse, cv_rmse "
   ]
  },
  {
   "cell_type": "markdown",
   "metadata": {},
   "source": [
    "The next two cells compute the results for the choices of predictors that we had so far. The results are similar to those from Tutorial 3, with the difference that back then we selected the number of neighbours arbitrarily. "
   ]
  },
  {
   "cell_type": "code",
   "execution_count": 21,
   "metadata": {},
   "outputs": [
    {
     "name": "stdout",
     "output_type": "stream",
     "text": [
      "Chosen K: 13\n",
      "Test RMSE : 235.72\n",
      "Cross validation RMSE : 219.57\n"
     ]
    }
   ],
   "source": [
    "# Note: the Mahalanobis distance will lead to the same result as the Euclidean distance when there is only one predictor\n",
    "\n",
    "response='Balance'\n",
    "predictors=['Limit']\n",
    "test_rmse, cv_rmse  =  knn_test(predictors, response) \n",
    "print('Test RMSE : {}'.format(test_rmse.round(2)))\n",
    "print('Cross validation RMSE : {}'.format(cv_rmse.round(2)))"
   ]
  },
  {
   "cell_type": "code",
   "execution_count": 22,
   "metadata": {},
   "outputs": [
    {
     "name": "stdout",
     "output_type": "stream",
     "text": [
      "Chosen K: 7\n",
      "Test RMSE : 168.98\n",
      "Cross validation RMSE : 147.39\n"
     ]
    }
   ],
   "source": [
    "response='Balance'\n",
    "predictors=['Limit','Income']\n",
    "test_rmse, cv_rmse  =  knn_test(predictors, response) \n",
    "print('Test RMSE : {}'.format(test_rmse.round(2)))\n",
    "print('Cross validation RMSE : {}'.format(cv_rmse.round(2)))"
   ]
  },
  {
   "cell_type": "markdown",
   "metadata": {},
   "source": [
    "The third predictor with highest correlation with balance is student. Student in a categorical variable, which introduces new considerations as to how to combine continuous and dummy variables in the distance metric. We follow a simple approach and treat the dummy variable as any other. \n",
    "\n",
    "The results show that introducing student as a predictor lead to substantial improvements in the test error. The cross validation errors would lead use to select this specification over the previous ones, e.g.77.2 vs 147.39. "
   ]
  },
  {
   "cell_type": "code",
   "execution_count": 23,
   "metadata": {},
   "outputs": [
    {
     "name": "stdout",
     "output_type": "stream",
     "text": [
      "Chosen K: 4\n",
      "Test RMSE : 67.93\n",
      "Cross validation RMSE : 77.2\n"
     ]
    }
   ],
   "source": [
    "response='Balance'\n",
    "predictors=['Limit','Income', 'Student']\n",
    "test_rmse, cv_rmse  =  knn_test(predictors, response) \n",
    "print('Test RMSE : {}'.format(test_rmse.round(2)))\n",
    "print('Cross validation RMSE : {}'.format(cv_rmse.round(2)))"
   ]
  },
  {
   "cell_type": "markdown",
   "metadata": {},
   "source": [
    "How about even more predictors, maybe all? The results suggest that it seems counterproductive to add more predictors. If we try to use all the variables, the predictions sharply deteriorate. These are overfitting and the curse of dimensionality in action. Note that because of the curse of dimensionality, we need to keep K low in those cases.  Fortunately, the cross validation errors would have lead to us to **predict with limit, income, and student only**. "
   ]
  },
  {
   "cell_type": "code",
   "execution_count": 24,
   "metadata": {},
   "outputs": [
    {
     "name": "stdout",
     "output_type": "stream",
     "text": [
      "Chosen K: 5\n",
      "Test RMSE : 90.07\n",
      "Cross validation RMSE : 105.5\n"
     ]
    }
   ],
   "source": [
    "response='Balance'\n",
    "predictors=['Limit','Income', 'Student', 'Cards']\n",
    "test_rmse, cv_rmse  =  knn_test(predictors, response) \n",
    "print('Test RMSE : {}'.format(test_rmse.round(2)))\n",
    "print('Cross validation RMSE : {}'.format(cv_rmse.round(2)))"
   ]
  },
  {
   "cell_type": "code",
   "execution_count": 25,
   "metadata": {},
   "outputs": [
    {
     "name": "stdout",
     "output_type": "stream",
     "text": [
      "Chosen K: 4\n",
      "Test RMSE : 259.83\n",
      "Cross validation RMSE : 272.96\n"
     ]
    }
   ],
   "source": [
    "response='Balance'\n",
    "predictors=['Limit','Income', 'Student', 'Cards', 'Age', 'Education', 'Married', 'Male', 'Caucasian', 'Asian']\n",
    "test_rmse, cv_rmse  =  knn_test(predictors, response) \n",
    "print('Test RMSE : {}'.format(test_rmse.round(2)))\n",
    "print('Cross validation RMSE : {}'.format(cv_rmse.round(2)))"
   ]
  },
  {
   "cell_type": "markdown",
   "metadata": {},
   "source": [
    "### Computational considerations\n",
    "\n",
    "Note that our training set is small with only 280 samples. A lot of what we did in this tutorial would have a high computational cost, perhaps prohibitively so, in larger datasets. You should keep this in mind, and think about the potetial bottlenecks.\n",
    "\n",
    "### The next step\n",
    "\n",
    "In the previous section, we used an informal procedure to include predictors. We only trained a few of many possible predictor combinations. How do we know that we are not missing something?  Can we make this process more systematic? This leads us to the next topic, variable selection (subset selection), which we will study in the context of linear regression."
   ]
  },
  {
   "cell_type": "markdown",
   "metadata": {},
   "source": [
    "<br>\n",
    "<br>\n",
    "<br>\n",
    "<br>\n",
    "<br>"
   ]
  }
 ],
 "metadata": {
  "kernelspec": {
   "display_name": "Python 3",
   "language": "python",
   "name": "python3"
  },
  "language_info": {
   "codemirror_mode": {
    "name": "ipython",
    "version": 3
   },
   "file_extension": ".py",
   "mimetype": "text/x-python",
   "name": "python",
   "nbconvert_exporter": "python",
   "pygments_lexer": "ipython3",
   "version": "3.7.6"
  }
 },
 "nbformat": 4,
 "nbformat_minor": 2
}
